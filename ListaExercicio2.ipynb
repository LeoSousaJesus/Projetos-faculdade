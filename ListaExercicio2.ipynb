{
  "nbformat": 4,
  "nbformat_minor": 0,
  "metadata": {
    "colab": {
      "provenance": []
    },
    "kernelspec": {
      "name": "python3",
      "display_name": "Python 3"
    },
    "language_info": {
      "name": "python"
    }
  },
  "cells": [
    {
      "cell_type": "markdown",
      "source": [
        "# Exercício 1 - Par ou ímpar?\n",
        "\n",
        "Receba um número inteiro na entrada e imprima par quando o número for par ou ímpar quando o número for ímpar."
      ],
      "metadata": {
        "id": "xXwfOWQDgJwU"
      }
    },
    {
      "cell_type": "code",
      "source": [
        "numero = int(input(\"Digite um número: \"))\n",
        "\n",
        "if numero % 2 == 0:\n",
        "    print(\"par\")\n",
        "else:\n",
        "    print(\"ímpar\")"
      ],
      "metadata": {
        "id": "qWsKh5yggcIf",
        "colab": {
          "base_uri": "https://localhost:8080/"
        },
        "outputId": "6287ffff-80ba-424a-b37d-c1e42b4d62ba"
      },
      "execution_count": 2,
      "outputs": [
        {
          "output_type": "stream",
          "name": "stdout",
          "text": [
            "Digite um número: 24\n",
            "par\n"
          ]
        }
      ]
    },
    {
      "cell_type": "markdown",
      "source": [
        "# Exercícios 2 - FizzBuzz parcial, parte 1\n",
        "\n",
        "Receba um número inteiro na entrada e imprima **Fizz**, se o número for divisível por 3. Caso contrário, imprima o mesmo número que foi dado na entrada."
      ],
      "metadata": {
        "id": "VBXwuwo_w2-W"
      }
    },
    {
      "cell_type": "code",
      "source": [
        "numero = int(input(\"Digite um número: \"))\n",
        "if numero % 3 == 0:\n",
        "    print(\"Fizz\")\n",
        "else:\n",
        "    print(numero)"
      ],
      "metadata": {
        "colab": {
          "base_uri": "https://localhost:8080/"
        },
        "id": "QsHWISBUxdST",
        "outputId": "82c7348c-59c0-466d-87cc-6b4a2ccc0b73"
      },
      "execution_count": 4,
      "outputs": [
        {
          "output_type": "stream",
          "name": "stdout",
          "text": [
            "Digite um número: 13\n",
            "13\n"
          ]
        }
      ]
    },
    {
      "cell_type": "markdown",
      "source": [
        "# Exercícios 3 - FizzBuzz parcial, parte 2\n",
        "\n",
        "Receba um número inteiro na entrada e imprima **Buzz**, se o número for divisível por 5. Caso contrário, imprima o mesmo número que foi dado na entrada."
      ],
      "metadata": {
        "id": "rYXugqy9xvYh"
      }
    },
    {
      "cell_type": "code",
      "source": [
        "numero = int(input(\"Digite um número: \"))\n",
        "if numero % 5 == 0:\n",
        "    print(\"Buzz\")\n",
        "else:\n",
        "    print(numero)"
      ],
      "metadata": {
        "colab": {
          "base_uri": "https://localhost:8080/"
        },
        "id": "vrHJkoatyLet",
        "outputId": "26c3b1e4-5a00-4b3a-f7d8-b66f78b5262a"
      },
      "execution_count": 8,
      "outputs": [
        {
          "output_type": "stream",
          "name": "stdout",
          "text": [
            "Digite um número: 13\n",
            "13\n"
          ]
        }
      ]
    },
    {
      "cell_type": "markdown",
      "source": [
        "# Exercícios 4 - FizzBuzz parcial, parte 3\n",
        "\n",
        "Receba um número inteiro na entrada e imprima **FizzBuzz** , na saída se o número for divisível por 3 e por 5. Caso contrário, imprima o mesmo número que foi dado na entrada."
      ],
      "metadata": {
        "id": "umh-2hPdycZF"
      }
    },
    {
      "cell_type": "code",
      "source": [
        "numero = int(input(\"Digite um número inteiro: \"))\n",
        "if numero % 3 == 0 or numero % 5 == 0:\n",
        "    print(\"FizzBuzz\")\n",
        "else:\n",
        "    print(numero)"
      ],
      "metadata": {
        "colab": {
          "base_uri": "https://localhost:8080/"
        },
        "id": "DRQiE7O3ysvf",
        "outputId": "3fb32992-05fa-4b3c-ccaf-03a4a210f818"
      },
      "execution_count": 15,
      "outputs": [
        {
          "output_type": "stream",
          "name": "stdout",
          "text": [
            "Digite um número inteiro: 9\n",
            "FizzBuzz\n"
          ]
        }
      ]
    },
    {
      "cell_type": "markdown",
      "source": [
        "# Exercício 5 - Verificando ordenação\n",
        "\n",
        "Receba 3 números inteiros na entrada e imprima **crescente**, se eles forem dados em ordem crescente. Caso contrário, imprima **não está em ordem crescente**"
      ],
      "metadata": {
        "id": "srxGd-fh0V9Y"
      }
    },
    {
      "cell_type": "code",
      "source": [
        "numero1 = int(input(\"Digite o primeiro número: \"))\n",
        "numero2 = int(input(\"Digite o segundo número: \"))\n",
        "numero3 = int(input(\"Digite o terceiro número: \"))\n",
        "if numero1 < numero2 < numero3:\n",
        "    print(\"crescente\")\n",
        "else:\n",
        "    print(\"não está em ordem crescente\")"
      ],
      "metadata": {
        "colab": {
          "base_uri": "https://localhost:8080/"
        },
        "id": "v_rV940J04bR",
        "outputId": "a7a77e86-81f1-41e0-b1d6-157620a42e83"
      },
      "execution_count": 18,
      "outputs": [
        {
          "output_type": "stream",
          "name": "stdout",
          "text": [
            "Digite o primeiro número: 1\n",
            "Digite o segundo número: 2\n",
            "Digite o terceiro número: 3\n",
            "crescente\n"
          ]
        }
      ]
    }
  ]
}