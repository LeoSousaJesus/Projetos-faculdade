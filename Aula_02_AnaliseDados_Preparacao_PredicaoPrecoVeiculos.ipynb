{
  "cells": [
    {
      "cell_type": "markdown",
      "metadata": {
        "id": "view-in-github",
        "colab_type": "text"
      },
      "source": [
        "<a href=\"https://colab.research.google.com/github/LeoSousaJesus/Projetos-faculdade/blob/main/Aula_02_AnaliseDados_Preparacao_PredicaoPrecoVeiculos.ipynb\" target=\"_parent\"><img src=\"https://colab.research.google.com/assets/colab-badge.svg\" alt=\"Open In Colab\"/></a>"
      ]
    },
    {
      "cell_type": "markdown",
      "id": "7204dcd2",
      "metadata": {
        "papermill": {
          "duration": 0.041793,
          "end_time": "2023-04-13T08:12:42.466088",
          "exception": false,
          "start_time": "2023-04-13T08:12:42.424295",
          "status": "completed"
        },
        "tags": [],
        "id": "7204dcd2"
      },
      "source": [
        "#Predição de preço de veículos\n",
        "\n",
        "O preço de um carro depende de muitos fatores como a marca do carro, características do carro, potência, quilometragem rodada e muito mais.\n",
        "A previsão de preços de carros é uma das principais áreas de pesquisa em aprendizado de máquina.\n",
        "Nesta tarefa, vamos treinar um modelo de aprendizado de máquina que preverá o preço dos carros usando os recursos fornecidos do carro."
      ]
    },
    {
      "cell_type": "markdown",
      "source": [
        "#bit.ly/aula_2_ad"
      ],
      "metadata": {
        "id": "MYJ0TxJWLv8T"
      },
      "id": "MYJ0TxJWLv8T"
    },
    {
      "cell_type": "markdown",
      "id": "2bab0428",
      "metadata": {
        "papermill": {
          "duration": 0.036153,
          "end_time": "2023-04-13T08:12:42.758208",
          "exception": false,
          "start_time": "2023-04-13T08:12:42.722055",
          "status": "completed"
        },
        "tags": [],
        "id": "2bab0428"
      },
      "source": [
        "\n",
        "#1. Importar as Bibliotecas"
      ]
    },
    {
      "cell_type": "code",
      "source": [
        "import pandas as pd\n",
        "import matplotlib.pyplot as plt"
      ],
      "metadata": {
        "id": "ShWjQTr2tPqL"
      },
      "id": "ShWjQTr2tPqL",
      "execution_count": null,
      "outputs": []
    },
    {
      "cell_type": "markdown",
      "source": [
        "# 2. Obter os Dados"
      ],
      "metadata": {
        "id": "oZqrqGYJtUhs"
      },
      "id": "oZqrqGYJtUhs"
    },
    {
      "cell_type": "code",
      "source": [
        "url = 'https://raw.githubusercontent.com/betotorres/datasets/main/ds_preco_veiculos.csv'\n",
        "df = pd.read_csv(url, sep=',')\n",
        "df.head(2)"
      ],
      "metadata": {
        "colab": {
          "base_uri": "https://localhost:8080/",
          "height": 208
        },
        "id": "tXINRZbWtX1N",
        "outputId": "52fee826-d452-4a6e-eab9-a4a34b7bc10f"
      },
      "id": "tXINRZbWtX1N",
      "execution_count": null,
      "outputs": [
        {
          "output_type": "execute_result",
          "data": {
            "text/plain": [
              "   carro_id  seguranca           nome_carro tipo_combustivel aspiracao  \\\n",
              "0         1          3   alfa-romero giulia              gas       std   \n",
              "1         2          3  alfa-romero stelvio              gas       std   \n",
              "\n",
              "  numero_portas   carroceria tracao localizacao_motor  distancia_entre_ eixos  \\\n",
              "0           two  convertible    rwd             front                    88.6   \n",
              "1           two  convertible    rwd             front                    88.6   \n",
              "\n",
              "   ...  tamanho_motor  sistema_combustivel  diametro_cilindro  \\\n",
              "0  ...            130                 mpfi               3.47   \n",
              "1  ...            130                 mpfi               3.47   \n",
              "\n",
              "   distancia_pistao taxa_compressao potencia  rpm_max rpm_cidade  rpm_estrada  \\\n",
              "0              2.68             9.0      111     5000         21           27   \n",
              "1              2.68             9.0      111     5000         21           27   \n",
              "\n",
              "     preco  \n",
              "0  13495.0  \n",
              "1  16500.0  \n",
              "\n",
              "[2 rows x 26 columns]"
            ],
            "text/html": [
              "\n",
              "  <div id=\"df-8136fa5d-8f41-4633-af7b-835cac9cc9fc\" class=\"colab-df-container\">\n",
              "    <div>\n",
              "<style scoped>\n",
              "    .dataframe tbody tr th:only-of-type {\n",
              "        vertical-align: middle;\n",
              "    }\n",
              "\n",
              "    .dataframe tbody tr th {\n",
              "        vertical-align: top;\n",
              "    }\n",
              "\n",
              "    .dataframe thead th {\n",
              "        text-align: right;\n",
              "    }\n",
              "</style>\n",
              "<table border=\"1\" class=\"dataframe\">\n",
              "  <thead>\n",
              "    <tr style=\"text-align: right;\">\n",
              "      <th></th>\n",
              "      <th>carro_id</th>\n",
              "      <th>seguranca</th>\n",
              "      <th>nome_carro</th>\n",
              "      <th>tipo_combustivel</th>\n",
              "      <th>aspiracao</th>\n",
              "      <th>numero_portas</th>\n",
              "      <th>carroceria</th>\n",
              "      <th>tracao</th>\n",
              "      <th>localizacao_motor</th>\n",
              "      <th>distancia_entre_ eixos</th>\n",
              "      <th>...</th>\n",
              "      <th>tamanho_motor</th>\n",
              "      <th>sistema_combustivel</th>\n",
              "      <th>diametro_cilindro</th>\n",
              "      <th>distancia_pistao</th>\n",
              "      <th>taxa_compressao</th>\n",
              "      <th>potencia</th>\n",
              "      <th>rpm_max</th>\n",
              "      <th>rpm_cidade</th>\n",
              "      <th>rpm_estrada</th>\n",
              "      <th>preco</th>\n",
              "    </tr>\n",
              "  </thead>\n",
              "  <tbody>\n",
              "    <tr>\n",
              "      <th>0</th>\n",
              "      <td>1</td>\n",
              "      <td>3</td>\n",
              "      <td>alfa-romero giulia</td>\n",
              "      <td>gas</td>\n",
              "      <td>std</td>\n",
              "      <td>two</td>\n",
              "      <td>convertible</td>\n",
              "      <td>rwd</td>\n",
              "      <td>front</td>\n",
              "      <td>88.6</td>\n",
              "      <td>...</td>\n",
              "      <td>130</td>\n",
              "      <td>mpfi</td>\n",
              "      <td>3.47</td>\n",
              "      <td>2.68</td>\n",
              "      <td>9.0</td>\n",
              "      <td>111</td>\n",
              "      <td>5000</td>\n",
              "      <td>21</td>\n",
              "      <td>27</td>\n",
              "      <td>13495.0</td>\n",
              "    </tr>\n",
              "    <tr>\n",
              "      <th>1</th>\n",
              "      <td>2</td>\n",
              "      <td>3</td>\n",
              "      <td>alfa-romero stelvio</td>\n",
              "      <td>gas</td>\n",
              "      <td>std</td>\n",
              "      <td>two</td>\n",
              "      <td>convertible</td>\n",
              "      <td>rwd</td>\n",
              "      <td>front</td>\n",
              "      <td>88.6</td>\n",
              "      <td>...</td>\n",
              "      <td>130</td>\n",
              "      <td>mpfi</td>\n",
              "      <td>3.47</td>\n",
              "      <td>2.68</td>\n",
              "      <td>9.0</td>\n",
              "      <td>111</td>\n",
              "      <td>5000</td>\n",
              "      <td>21</td>\n",
              "      <td>27</td>\n",
              "      <td>16500.0</td>\n",
              "    </tr>\n",
              "  </tbody>\n",
              "</table>\n",
              "<p>2 rows × 26 columns</p>\n",
              "</div>\n",
              "    <div class=\"colab-df-buttons\">\n",
              "\n",
              "  <div class=\"colab-df-container\">\n",
              "    <button class=\"colab-df-convert\" onclick=\"convertToInteractive('df-8136fa5d-8f41-4633-af7b-835cac9cc9fc')\"\n",
              "            title=\"Convert this dataframe to an interactive table.\"\n",
              "            style=\"display:none;\">\n",
              "\n",
              "  <svg xmlns=\"http://www.w3.org/2000/svg\" height=\"24px\" viewBox=\"0 -960 960 960\">\n",
              "    <path d=\"M120-120v-720h720v720H120Zm60-500h600v-160H180v160Zm220 220h160v-160H400v160Zm0 220h160v-160H400v160ZM180-400h160v-160H180v160Zm440 0h160v-160H620v160ZM180-180h160v-160H180v160Zm440 0h160v-160H620v160Z\"/>\n",
              "  </svg>\n",
              "    </button>\n",
              "\n",
              "  <style>\n",
              "    .colab-df-container {\n",
              "      display:flex;\n",
              "      gap: 12px;\n",
              "    }\n",
              "\n",
              "    .colab-df-convert {\n",
              "      background-color: #E8F0FE;\n",
              "      border: none;\n",
              "      border-radius: 50%;\n",
              "      cursor: pointer;\n",
              "      display: none;\n",
              "      fill: #1967D2;\n",
              "      height: 32px;\n",
              "      padding: 0 0 0 0;\n",
              "      width: 32px;\n",
              "    }\n",
              "\n",
              "    .colab-df-convert:hover {\n",
              "      background-color: #E2EBFA;\n",
              "      box-shadow: 0px 1px 2px rgba(60, 64, 67, 0.3), 0px 1px 3px 1px rgba(60, 64, 67, 0.15);\n",
              "      fill: #174EA6;\n",
              "    }\n",
              "\n",
              "    .colab-df-buttons div {\n",
              "      margin-bottom: 4px;\n",
              "    }\n",
              "\n",
              "    [theme=dark] .colab-df-convert {\n",
              "      background-color: #3B4455;\n",
              "      fill: #D2E3FC;\n",
              "    }\n",
              "\n",
              "    [theme=dark] .colab-df-convert:hover {\n",
              "      background-color: #434B5C;\n",
              "      box-shadow: 0px 1px 3px 1px rgba(0, 0, 0, 0.15);\n",
              "      filter: drop-shadow(0px 1px 2px rgba(0, 0, 0, 0.3));\n",
              "      fill: #FFFFFF;\n",
              "    }\n",
              "  </style>\n",
              "\n",
              "    <script>\n",
              "      const buttonEl =\n",
              "        document.querySelector('#df-8136fa5d-8f41-4633-af7b-835cac9cc9fc button.colab-df-convert');\n",
              "      buttonEl.style.display =\n",
              "        google.colab.kernel.accessAllowed ? 'block' : 'none';\n",
              "\n",
              "      async function convertToInteractive(key) {\n",
              "        const element = document.querySelector('#df-8136fa5d-8f41-4633-af7b-835cac9cc9fc');\n",
              "        const dataTable =\n",
              "          await google.colab.kernel.invokeFunction('convertToInteractive',\n",
              "                                                    [key], {});\n",
              "        if (!dataTable) return;\n",
              "\n",
              "        const docLinkHtml = 'Like what you see? Visit the ' +\n",
              "          '<a target=\"_blank\" href=https://colab.research.google.com/notebooks/data_table.ipynb>data table notebook</a>'\n",
              "          + ' to learn more about interactive tables.';\n",
              "        element.innerHTML = '';\n",
              "        dataTable['output_type'] = 'display_data';\n",
              "        await google.colab.output.renderOutput(dataTable, element);\n",
              "        const docLink = document.createElement('div');\n",
              "        docLink.innerHTML = docLinkHtml;\n",
              "        element.appendChild(docLink);\n",
              "      }\n",
              "    </script>\n",
              "  </div>\n",
              "\n",
              "\n",
              "<div id=\"df-0023b968-49b3-4c2a-a7b9-031c68592994\">\n",
              "  <button class=\"colab-df-quickchart\" onclick=\"quickchart('df-0023b968-49b3-4c2a-a7b9-031c68592994')\"\n",
              "            title=\"Suggest charts\"\n",
              "            style=\"display:none;\">\n",
              "\n",
              "<svg xmlns=\"http://www.w3.org/2000/svg\" height=\"24px\"viewBox=\"0 0 24 24\"\n",
              "     width=\"24px\">\n",
              "    <g>\n",
              "        <path d=\"M19 3H5c-1.1 0-2 .9-2 2v14c0 1.1.9 2 2 2h14c1.1 0 2-.9 2-2V5c0-1.1-.9-2-2-2zM9 17H7v-7h2v7zm4 0h-2V7h2v10zm4 0h-2v-4h2v4z\"/>\n",
              "    </g>\n",
              "</svg>\n",
              "  </button>\n",
              "\n",
              "<style>\n",
              "  .colab-df-quickchart {\n",
              "      --bg-color: #E8F0FE;\n",
              "      --fill-color: #1967D2;\n",
              "      --hover-bg-color: #E2EBFA;\n",
              "      --hover-fill-color: #174EA6;\n",
              "      --disabled-fill-color: #AAA;\n",
              "      --disabled-bg-color: #DDD;\n",
              "  }\n",
              "\n",
              "  [theme=dark] .colab-df-quickchart {\n",
              "      --bg-color: #3B4455;\n",
              "      --fill-color: #D2E3FC;\n",
              "      --hover-bg-color: #434B5C;\n",
              "      --hover-fill-color: #FFFFFF;\n",
              "      --disabled-bg-color: #3B4455;\n",
              "      --disabled-fill-color: #666;\n",
              "  }\n",
              "\n",
              "  .colab-df-quickchart {\n",
              "    background-color: var(--bg-color);\n",
              "    border: none;\n",
              "    border-radius: 50%;\n",
              "    cursor: pointer;\n",
              "    display: none;\n",
              "    fill: var(--fill-color);\n",
              "    height: 32px;\n",
              "    padding: 0;\n",
              "    width: 32px;\n",
              "  }\n",
              "\n",
              "  .colab-df-quickchart:hover {\n",
              "    background-color: var(--hover-bg-color);\n",
              "    box-shadow: 0 1px 2px rgba(60, 64, 67, 0.3), 0 1px 3px 1px rgba(60, 64, 67, 0.15);\n",
              "    fill: var(--button-hover-fill-color);\n",
              "  }\n",
              "\n",
              "  .colab-df-quickchart-complete:disabled,\n",
              "  .colab-df-quickchart-complete:disabled:hover {\n",
              "    background-color: var(--disabled-bg-color);\n",
              "    fill: var(--disabled-fill-color);\n",
              "    box-shadow: none;\n",
              "  }\n",
              "\n",
              "  .colab-df-spinner {\n",
              "    border: 2px solid var(--fill-color);\n",
              "    border-color: transparent;\n",
              "    border-bottom-color: var(--fill-color);\n",
              "    animation:\n",
              "      spin 1s steps(1) infinite;\n",
              "  }\n",
              "\n",
              "  @keyframes spin {\n",
              "    0% {\n",
              "      border-color: transparent;\n",
              "      border-bottom-color: var(--fill-color);\n",
              "      border-left-color: var(--fill-color);\n",
              "    }\n",
              "    20% {\n",
              "      border-color: transparent;\n",
              "      border-left-color: var(--fill-color);\n",
              "      border-top-color: var(--fill-color);\n",
              "    }\n",
              "    30% {\n",
              "      border-color: transparent;\n",
              "      border-left-color: var(--fill-color);\n",
              "      border-top-color: var(--fill-color);\n",
              "      border-right-color: var(--fill-color);\n",
              "    }\n",
              "    40% {\n",
              "      border-color: transparent;\n",
              "      border-right-color: var(--fill-color);\n",
              "      border-top-color: var(--fill-color);\n",
              "    }\n",
              "    60% {\n",
              "      border-color: transparent;\n",
              "      border-right-color: var(--fill-color);\n",
              "    }\n",
              "    80% {\n",
              "      border-color: transparent;\n",
              "      border-right-color: var(--fill-color);\n",
              "      border-bottom-color: var(--fill-color);\n",
              "    }\n",
              "    90% {\n",
              "      border-color: transparent;\n",
              "      border-bottom-color: var(--fill-color);\n",
              "    }\n",
              "  }\n",
              "</style>\n",
              "\n",
              "  <script>\n",
              "    async function quickchart(key) {\n",
              "      const quickchartButtonEl =\n",
              "        document.querySelector('#' + key + ' button');\n",
              "      quickchartButtonEl.disabled = true;  // To prevent multiple clicks.\n",
              "      quickchartButtonEl.classList.add('colab-df-spinner');\n",
              "      try {\n",
              "        const charts = await google.colab.kernel.invokeFunction(\n",
              "            'suggestCharts', [key], {});\n",
              "      } catch (error) {\n",
              "        console.error('Error during call to suggestCharts:', error);\n",
              "      }\n",
              "      quickchartButtonEl.classList.remove('colab-df-spinner');\n",
              "      quickchartButtonEl.classList.add('colab-df-quickchart-complete');\n",
              "    }\n",
              "    (() => {\n",
              "      let quickchartButtonEl =\n",
              "        document.querySelector('#df-0023b968-49b3-4c2a-a7b9-031c68592994 button');\n",
              "      quickchartButtonEl.style.display =\n",
              "        google.colab.kernel.accessAllowed ? 'block' : 'none';\n",
              "    })();\n",
              "  </script>\n",
              "</div>\n",
              "    </div>\n",
              "  </div>\n"
            ]
          },
          "metadata": {},
          "execution_count": 2
        }
      ]
    },
    {
      "cell_type": "markdown",
      "id": "171892bd",
      "metadata": {
        "papermill": {
          "duration": 0.037988,
          "end_time": "2023-04-13T08:12:47.345819",
          "exception": false,
          "start_time": "2023-04-13T08:12:47.307831",
          "status": "completed"
        },
        "tags": [],
        "id": "171892bd"
      },
      "source": [
        "#3. Entender os Dados"
      ]
    },
    {
      "cell_type": "markdown",
      "id": "c5f43eed",
      "metadata": {
        "papermill": {
          "duration": 0.037316,
          "end_time": "2023-04-13T08:12:47.421060",
          "exception": false,
          "start_time": "2023-04-13T08:12:47.383744",
          "status": "completed"
        },
        "tags": [],
        "id": "c5f43eed"
      },
      "source": [
        "##3.1. Checar as dimensões\n",
        "- linhas x colunas"
      ]
    },
    {
      "cell_type": "code",
      "execution_count": null,
      "id": "f73474b1",
      "metadata": {
        "execution": {
          "iopub.execute_input": "2023-04-13T08:12:47.500107Z",
          "iopub.status.busy": "2023-04-13T08:12:47.499621Z",
          "iopub.status.idle": "2023-04-13T08:12:47.507932Z",
          "shell.execute_reply": "2023-04-13T08:12:47.506855Z"
        },
        "papermill": {
          "duration": 0.052449,
          "end_time": "2023-04-13T08:12:47.511349",
          "exception": false,
          "start_time": "2023-04-13T08:12:47.458900",
          "status": "completed"
        },
        "tags": [],
        "id": "f73474b1",
        "colab": {
          "base_uri": "https://localhost:8080/"
        },
        "outputId": "be98ee91-359d-4116-c30d-f48dc1ec73b1"
      },
      "outputs": [
        {
          "output_type": "execute_result",
          "data": {
            "text/plain": [
              "(205, 26)"
            ]
          },
          "metadata": {},
          "execution_count": 24
        }
      ],
      "source": [
        "df.shape"
      ]
    },
    {
      "cell_type": "code",
      "source": [
        "df['teste'] = None"
      ],
      "metadata": {
        "id": "IDQ_e2taXtZH"
      },
      "id": "IDQ_e2taXtZH",
      "execution_count": null,
      "outputs": []
    },
    {
      "cell_type": "markdown",
      "id": "6df2f512",
      "metadata": {
        "papermill": {
          "duration": 0.036965,
          "end_time": "2023-04-13T08:12:47.663737",
          "exception": false,
          "start_time": "2023-04-13T08:12:47.626772",
          "status": "completed"
        },
        "tags": [],
        "id": "6df2f512"
      },
      "source": [
        "##3.2. Observar as informações básicas do conjunto de dados\n"
      ]
    },
    {
      "cell_type": "code",
      "execution_count": null,
      "id": "75e960a2",
      "metadata": {
        "execution": {
          "iopub.execute_input": "2023-04-13T08:12:47.744669Z",
          "iopub.status.busy": "2023-04-13T08:12:47.744165Z",
          "iopub.status.idle": "2023-04-13T08:12:47.777483Z",
          "shell.execute_reply": "2023-04-13T08:12:47.775922Z"
        },
        "papermill": {
          "duration": 0.077463,
          "end_time": "2023-04-13T08:12:47.780492",
          "exception": false,
          "start_time": "2023-04-13T08:12:47.703029",
          "status": "completed"
        },
        "tags": [],
        "id": "75e960a2",
        "outputId": "7e406ef5-7b22-4df8-b32a-4e9461d59803",
        "colab": {
          "base_uri": "https://localhost:8080/"
        }
      },
      "outputs": [
        {
          "output_type": "stream",
          "name": "stdout",
          "text": [
            "<class 'pandas.core.frame.DataFrame'>\n",
            "RangeIndex: 205 entries, 0 to 204\n",
            "Data columns (total 27 columns):\n",
            " #   Column                  Non-Null Count  Dtype  \n",
            "---  ------                  --------------  -----  \n",
            " 0   carro_id                205 non-null    int64  \n",
            " 1   seguranca               205 non-null    int64  \n",
            " 2   nome_carro              205 non-null    object \n",
            " 3   tipo_combustivel        205 non-null    object \n",
            " 4   aspiracao               205 non-null    object \n",
            " 5   numero_portas           205 non-null    object \n",
            " 6   carroceria              205 non-null    object \n",
            " 7   tracao                  205 non-null    object \n",
            " 8   localizacao_motor       205 non-null    object \n",
            " 9   distancia_entre_ eixos  205 non-null    float64\n",
            " 10  comprimento_veiculo     205 non-null    float64\n",
            " 11  largura_veiculo         205 non-null    float64\n",
            " 12  altura_veiculo          205 non-null    float64\n",
            " 13  peso_veiculo            205 non-null    int64  \n",
            " 14  tipo_motor              205 non-null    object \n",
            " 15  numero_cilindros        205 non-null    object \n",
            " 16  tamanho_motor           205 non-null    int64  \n",
            " 17  sistema_combustivel     205 non-null    object \n",
            " 18  diametro_cilindro       205 non-null    float64\n",
            " 19  distancia_pistao        205 non-null    float64\n",
            " 20  taxa_compressao         205 non-null    float64\n",
            " 21  potencia                205 non-null    int64  \n",
            " 22  rpm_max                 205 non-null    int64  \n",
            " 23  rpm_cidade              205 non-null    int64  \n",
            " 24  rpm_estrada             205 non-null    int64  \n",
            " 25  preco                   205 non-null    float64\n",
            " 26  teste                   0 non-null      object \n",
            "dtypes: float64(8), int64(8), object(11)\n",
            "memory usage: 43.4+ KB\n"
          ]
        }
      ],
      "source": [
        "df.info()"
      ]
    },
    {
      "cell_type": "code",
      "source": [
        "df = df.drop(columns=['teste'])"
      ],
      "metadata": {
        "id": "pcZ4DzvwGy1X"
      },
      "id": "pcZ4DzvwGy1X",
      "execution_count": null,
      "outputs": []
    },
    {
      "cell_type": "markdown",
      "source": [
        "**Observações**\n",
        "- Dos dados, se observam 10 atributos categóricos e 16 atributos numéricos.\n",
        "- Todos os dados estão corretamente tipados, de modo que não será necessário fazer qualquer ajuste neste aspecto."
      ],
      "metadata": {
        "id": "S2_8Jmnhorgy"
      },
      "id": "S2_8Jmnhorgy"
    },
    {
      "cell_type": "markdown",
      "id": "d703a929",
      "metadata": {
        "papermill": {
          "duration": 0.038102,
          "end_time": "2023-04-13T08:12:47.932543",
          "exception": false,
          "start_time": "2023-04-13T08:12:47.894441",
          "status": "completed"
        },
        "tags": [],
        "id": "d703a929"
      },
      "source": [
        "##3.3. Estatística Descritiva dos Dados Numéricos"
      ]
    },
    {
      "cell_type": "code",
      "execution_count": null,
      "id": "3b7776b4",
      "metadata": {
        "execution": {
          "iopub.execute_input": "2023-04-13T08:12:48.011685Z",
          "iopub.status.busy": "2023-04-13T08:12:48.011136Z",
          "iopub.status.idle": "2023-04-13T08:12:48.078638Z",
          "shell.execute_reply": "2023-04-13T08:12:48.077004Z"
        },
        "papermill": {
          "duration": 0.111484,
          "end_time": "2023-04-13T08:12:48.082081",
          "exception": false,
          "start_time": "2023-04-13T08:12:47.970597",
          "status": "completed"
        },
        "tags": [],
        "id": "3b7776b4",
        "outputId": "bb552d0f-564f-40a1-a2bc-beb3c96d07ec",
        "colab": {
          "base_uri": "https://localhost:8080/",
          "height": 338
        }
      },
      "outputs": [
        {
          "output_type": "execute_result",
          "data": {
            "text/plain": [
              "         carro_id   seguranca  distancia_entre_ eixos  comprimento_veiculo  \\\n",
              "count  205.000000  205.000000              205.000000           205.000000   \n",
              "mean   103.000000    0.834146               98.756585           174.049268   \n",
              "std     59.322565    1.245307                6.021776            12.337289   \n",
              "min      1.000000   -2.000000               86.600000           141.100000   \n",
              "25%     52.000000    0.000000               94.500000           166.300000   \n",
              "50%    103.000000    1.000000               97.000000           173.200000   \n",
              "75%    154.000000    2.000000              102.400000           183.100000   \n",
              "max    205.000000    3.000000              120.900000           208.100000   \n",
              "\n",
              "       largura_veiculo  altura_veiculo  peso_veiculo  tamanho_motor  \\\n",
              "count       205.000000      205.000000    205.000000     205.000000   \n",
              "mean         65.907805       53.724878   2555.565854     126.907317   \n",
              "std           2.145204        2.443522    520.680204      41.642693   \n",
              "min          60.300000       47.800000   1488.000000      61.000000   \n",
              "25%          64.100000       52.000000   2145.000000      97.000000   \n",
              "50%          65.500000       54.100000   2414.000000     120.000000   \n",
              "75%          66.900000       55.500000   2935.000000     141.000000   \n",
              "max          72.300000       59.800000   4066.000000     326.000000   \n",
              "\n",
              "       diametro_cilindro  distancia_pistao  taxa_compressao    potencia  \\\n",
              "count         205.000000        205.000000       205.000000  205.000000   \n",
              "mean            3.329756          3.255415        10.142537  104.117073   \n",
              "std             0.270844          0.313597         3.972040   39.544167   \n",
              "min             2.540000          2.070000         7.000000   48.000000   \n",
              "25%             3.150000          3.110000         8.600000   70.000000   \n",
              "50%             3.310000          3.290000         9.000000   95.000000   \n",
              "75%             3.580000          3.410000         9.400000  116.000000   \n",
              "max             3.940000          4.170000        23.000000  288.000000   \n",
              "\n",
              "           rpm_max  rpm_cidade  rpm_estrada         preco  \n",
              "count   205.000000  205.000000   205.000000    205.000000  \n",
              "mean   5125.121951   25.219512    30.751220  13276.710571  \n",
              "std     476.985643    6.542142     6.886443   7988.852332  \n",
              "min    4150.000000   13.000000    16.000000   5118.000000  \n",
              "25%    4800.000000   19.000000    25.000000   7788.000000  \n",
              "50%    5200.000000   24.000000    30.000000  10295.000000  \n",
              "75%    5500.000000   30.000000    34.000000  16503.000000  \n",
              "max    6600.000000   49.000000    54.000000  45400.000000  "
            ],
            "text/html": [
              "\n",
              "  <div id=\"df-597127bd-9282-46ae-abe1-c7987c14693e\" class=\"colab-df-container\">\n",
              "    <div>\n",
              "<style scoped>\n",
              "    .dataframe tbody tr th:only-of-type {\n",
              "        vertical-align: middle;\n",
              "    }\n",
              "\n",
              "    .dataframe tbody tr th {\n",
              "        vertical-align: top;\n",
              "    }\n",
              "\n",
              "    .dataframe thead th {\n",
              "        text-align: right;\n",
              "    }\n",
              "</style>\n",
              "<table border=\"1\" class=\"dataframe\">\n",
              "  <thead>\n",
              "    <tr style=\"text-align: right;\">\n",
              "      <th></th>\n",
              "      <th>carro_id</th>\n",
              "      <th>seguranca</th>\n",
              "      <th>distancia_entre_ eixos</th>\n",
              "      <th>comprimento_veiculo</th>\n",
              "      <th>largura_veiculo</th>\n",
              "      <th>altura_veiculo</th>\n",
              "      <th>peso_veiculo</th>\n",
              "      <th>tamanho_motor</th>\n",
              "      <th>diametro_cilindro</th>\n",
              "      <th>distancia_pistao</th>\n",
              "      <th>taxa_compressao</th>\n",
              "      <th>potencia</th>\n",
              "      <th>rpm_max</th>\n",
              "      <th>rpm_cidade</th>\n",
              "      <th>rpm_estrada</th>\n",
              "      <th>preco</th>\n",
              "    </tr>\n",
              "  </thead>\n",
              "  <tbody>\n",
              "    <tr>\n",
              "      <th>count</th>\n",
              "      <td>205.000000</td>\n",
              "      <td>205.000000</td>\n",
              "      <td>205.000000</td>\n",
              "      <td>205.000000</td>\n",
              "      <td>205.000000</td>\n",
              "      <td>205.000000</td>\n",
              "      <td>205.000000</td>\n",
              "      <td>205.000000</td>\n",
              "      <td>205.000000</td>\n",
              "      <td>205.000000</td>\n",
              "      <td>205.000000</td>\n",
              "      <td>205.000000</td>\n",
              "      <td>205.000000</td>\n",
              "      <td>205.000000</td>\n",
              "      <td>205.000000</td>\n",
              "      <td>205.000000</td>\n",
              "    </tr>\n",
              "    <tr>\n",
              "      <th>mean</th>\n",
              "      <td>103.000000</td>\n",
              "      <td>0.834146</td>\n",
              "      <td>98.756585</td>\n",
              "      <td>174.049268</td>\n",
              "      <td>65.907805</td>\n",
              "      <td>53.724878</td>\n",
              "      <td>2555.565854</td>\n",
              "      <td>126.907317</td>\n",
              "      <td>3.329756</td>\n",
              "      <td>3.255415</td>\n",
              "      <td>10.142537</td>\n",
              "      <td>104.117073</td>\n",
              "      <td>5125.121951</td>\n",
              "      <td>25.219512</td>\n",
              "      <td>30.751220</td>\n",
              "      <td>13276.710571</td>\n",
              "    </tr>\n",
              "    <tr>\n",
              "      <th>std</th>\n",
              "      <td>59.322565</td>\n",
              "      <td>1.245307</td>\n",
              "      <td>6.021776</td>\n",
              "      <td>12.337289</td>\n",
              "      <td>2.145204</td>\n",
              "      <td>2.443522</td>\n",
              "      <td>520.680204</td>\n",
              "      <td>41.642693</td>\n",
              "      <td>0.270844</td>\n",
              "      <td>0.313597</td>\n",
              "      <td>3.972040</td>\n",
              "      <td>39.544167</td>\n",
              "      <td>476.985643</td>\n",
              "      <td>6.542142</td>\n",
              "      <td>6.886443</td>\n",
              "      <td>7988.852332</td>\n",
              "    </tr>\n",
              "    <tr>\n",
              "      <th>min</th>\n",
              "      <td>1.000000</td>\n",
              "      <td>-2.000000</td>\n",
              "      <td>86.600000</td>\n",
              "      <td>141.100000</td>\n",
              "      <td>60.300000</td>\n",
              "      <td>47.800000</td>\n",
              "      <td>1488.000000</td>\n",
              "      <td>61.000000</td>\n",
              "      <td>2.540000</td>\n",
              "      <td>2.070000</td>\n",
              "      <td>7.000000</td>\n",
              "      <td>48.000000</td>\n",
              "      <td>4150.000000</td>\n",
              "      <td>13.000000</td>\n",
              "      <td>16.000000</td>\n",
              "      <td>5118.000000</td>\n",
              "    </tr>\n",
              "    <tr>\n",
              "      <th>25%</th>\n",
              "      <td>52.000000</td>\n",
              "      <td>0.000000</td>\n",
              "      <td>94.500000</td>\n",
              "      <td>166.300000</td>\n",
              "      <td>64.100000</td>\n",
              "      <td>52.000000</td>\n",
              "      <td>2145.000000</td>\n",
              "      <td>97.000000</td>\n",
              "      <td>3.150000</td>\n",
              "      <td>3.110000</td>\n",
              "      <td>8.600000</td>\n",
              "      <td>70.000000</td>\n",
              "      <td>4800.000000</td>\n",
              "      <td>19.000000</td>\n",
              "      <td>25.000000</td>\n",
              "      <td>7788.000000</td>\n",
              "    </tr>\n",
              "    <tr>\n",
              "      <th>50%</th>\n",
              "      <td>103.000000</td>\n",
              "      <td>1.000000</td>\n",
              "      <td>97.000000</td>\n",
              "      <td>173.200000</td>\n",
              "      <td>65.500000</td>\n",
              "      <td>54.100000</td>\n",
              "      <td>2414.000000</td>\n",
              "      <td>120.000000</td>\n",
              "      <td>3.310000</td>\n",
              "      <td>3.290000</td>\n",
              "      <td>9.000000</td>\n",
              "      <td>95.000000</td>\n",
              "      <td>5200.000000</td>\n",
              "      <td>24.000000</td>\n",
              "      <td>30.000000</td>\n",
              "      <td>10295.000000</td>\n",
              "    </tr>\n",
              "    <tr>\n",
              "      <th>75%</th>\n",
              "      <td>154.000000</td>\n",
              "      <td>2.000000</td>\n",
              "      <td>102.400000</td>\n",
              "      <td>183.100000</td>\n",
              "      <td>66.900000</td>\n",
              "      <td>55.500000</td>\n",
              "      <td>2935.000000</td>\n",
              "      <td>141.000000</td>\n",
              "      <td>3.580000</td>\n",
              "      <td>3.410000</td>\n",
              "      <td>9.400000</td>\n",
              "      <td>116.000000</td>\n",
              "      <td>5500.000000</td>\n",
              "      <td>30.000000</td>\n",
              "      <td>34.000000</td>\n",
              "      <td>16503.000000</td>\n",
              "    </tr>\n",
              "    <tr>\n",
              "      <th>max</th>\n",
              "      <td>205.000000</td>\n",
              "      <td>3.000000</td>\n",
              "      <td>120.900000</td>\n",
              "      <td>208.100000</td>\n",
              "      <td>72.300000</td>\n",
              "      <td>59.800000</td>\n",
              "      <td>4066.000000</td>\n",
              "      <td>326.000000</td>\n",
              "      <td>3.940000</td>\n",
              "      <td>4.170000</td>\n",
              "      <td>23.000000</td>\n",
              "      <td>288.000000</td>\n",
              "      <td>6600.000000</td>\n",
              "      <td>49.000000</td>\n",
              "      <td>54.000000</td>\n",
              "      <td>45400.000000</td>\n",
              "    </tr>\n",
              "  </tbody>\n",
              "</table>\n",
              "</div>\n",
              "    <div class=\"colab-df-buttons\">\n",
              "\n",
              "  <div class=\"colab-df-container\">\n",
              "    <button class=\"colab-df-convert\" onclick=\"convertToInteractive('df-597127bd-9282-46ae-abe1-c7987c14693e')\"\n",
              "            title=\"Convert this dataframe to an interactive table.\"\n",
              "            style=\"display:none;\">\n",
              "\n",
              "  <svg xmlns=\"http://www.w3.org/2000/svg\" height=\"24px\" viewBox=\"0 -960 960 960\">\n",
              "    <path d=\"M120-120v-720h720v720H120Zm60-500h600v-160H180v160Zm220 220h160v-160H400v160Zm0 220h160v-160H400v160ZM180-400h160v-160H180v160Zm440 0h160v-160H620v160ZM180-180h160v-160H180v160Zm440 0h160v-160H620v160Z\"/>\n",
              "  </svg>\n",
              "    </button>\n",
              "\n",
              "  <style>\n",
              "    .colab-df-container {\n",
              "      display:flex;\n",
              "      gap: 12px;\n",
              "    }\n",
              "\n",
              "    .colab-df-convert {\n",
              "      background-color: #E8F0FE;\n",
              "      border: none;\n",
              "      border-radius: 50%;\n",
              "      cursor: pointer;\n",
              "      display: none;\n",
              "      fill: #1967D2;\n",
              "      height: 32px;\n",
              "      padding: 0 0 0 0;\n",
              "      width: 32px;\n",
              "    }\n",
              "\n",
              "    .colab-df-convert:hover {\n",
              "      background-color: #E2EBFA;\n",
              "      box-shadow: 0px 1px 2px rgba(60, 64, 67, 0.3), 0px 1px 3px 1px rgba(60, 64, 67, 0.15);\n",
              "      fill: #174EA6;\n",
              "    }\n",
              "\n",
              "    .colab-df-buttons div {\n",
              "      margin-bottom: 4px;\n",
              "    }\n",
              "\n",
              "    [theme=dark] .colab-df-convert {\n",
              "      background-color: #3B4455;\n",
              "      fill: #D2E3FC;\n",
              "    }\n",
              "\n",
              "    [theme=dark] .colab-df-convert:hover {\n",
              "      background-color: #434B5C;\n",
              "      box-shadow: 0px 1px 3px 1px rgba(0, 0, 0, 0.15);\n",
              "      filter: drop-shadow(0px 1px 2px rgba(0, 0, 0, 0.3));\n",
              "      fill: #FFFFFF;\n",
              "    }\n",
              "  </style>\n",
              "\n",
              "    <script>\n",
              "      const buttonEl =\n",
              "        document.querySelector('#df-597127bd-9282-46ae-abe1-c7987c14693e button.colab-df-convert');\n",
              "      buttonEl.style.display =\n",
              "        google.colab.kernel.accessAllowed ? 'block' : 'none';\n",
              "\n",
              "      async function convertToInteractive(key) {\n",
              "        const element = document.querySelector('#df-597127bd-9282-46ae-abe1-c7987c14693e');\n",
              "        const dataTable =\n",
              "          await google.colab.kernel.invokeFunction('convertToInteractive',\n",
              "                                                    [key], {});\n",
              "        if (!dataTable) return;\n",
              "\n",
              "        const docLinkHtml = 'Like what you see? Visit the ' +\n",
              "          '<a target=\"_blank\" href=https://colab.research.google.com/notebooks/data_table.ipynb>data table notebook</a>'\n",
              "          + ' to learn more about interactive tables.';\n",
              "        element.innerHTML = '';\n",
              "        dataTable['output_type'] = 'display_data';\n",
              "        await google.colab.output.renderOutput(dataTable, element);\n",
              "        const docLink = document.createElement('div');\n",
              "        docLink.innerHTML = docLinkHtml;\n",
              "        element.appendChild(docLink);\n",
              "      }\n",
              "    </script>\n",
              "  </div>\n",
              "\n",
              "\n",
              "<div id=\"df-99d1e41a-57b6-45f4-abb2-b1b5783d3087\">\n",
              "  <button class=\"colab-df-quickchart\" onclick=\"quickchart('df-99d1e41a-57b6-45f4-abb2-b1b5783d3087')\"\n",
              "            title=\"Suggest charts\"\n",
              "            style=\"display:none;\">\n",
              "\n",
              "<svg xmlns=\"http://www.w3.org/2000/svg\" height=\"24px\"viewBox=\"0 0 24 24\"\n",
              "     width=\"24px\">\n",
              "    <g>\n",
              "        <path d=\"M19 3H5c-1.1 0-2 .9-2 2v14c0 1.1.9 2 2 2h14c1.1 0 2-.9 2-2V5c0-1.1-.9-2-2-2zM9 17H7v-7h2v7zm4 0h-2V7h2v10zm4 0h-2v-4h2v4z\"/>\n",
              "    </g>\n",
              "</svg>\n",
              "  </button>\n",
              "\n",
              "<style>\n",
              "  .colab-df-quickchart {\n",
              "      --bg-color: #E8F0FE;\n",
              "      --fill-color: #1967D2;\n",
              "      --hover-bg-color: #E2EBFA;\n",
              "      --hover-fill-color: #174EA6;\n",
              "      --disabled-fill-color: #AAA;\n",
              "      --disabled-bg-color: #DDD;\n",
              "  }\n",
              "\n",
              "  [theme=dark] .colab-df-quickchart {\n",
              "      --bg-color: #3B4455;\n",
              "      --fill-color: #D2E3FC;\n",
              "      --hover-bg-color: #434B5C;\n",
              "      --hover-fill-color: #FFFFFF;\n",
              "      --disabled-bg-color: #3B4455;\n",
              "      --disabled-fill-color: #666;\n",
              "  }\n",
              "\n",
              "  .colab-df-quickchart {\n",
              "    background-color: var(--bg-color);\n",
              "    border: none;\n",
              "    border-radius: 50%;\n",
              "    cursor: pointer;\n",
              "    display: none;\n",
              "    fill: var(--fill-color);\n",
              "    height: 32px;\n",
              "    padding: 0;\n",
              "    width: 32px;\n",
              "  }\n",
              "\n",
              "  .colab-df-quickchart:hover {\n",
              "    background-color: var(--hover-bg-color);\n",
              "    box-shadow: 0 1px 2px rgba(60, 64, 67, 0.3), 0 1px 3px 1px rgba(60, 64, 67, 0.15);\n",
              "    fill: var(--button-hover-fill-color);\n",
              "  }\n",
              "\n",
              "  .colab-df-quickchart-complete:disabled,\n",
              "  .colab-df-quickchart-complete:disabled:hover {\n",
              "    background-color: var(--disabled-bg-color);\n",
              "    fill: var(--disabled-fill-color);\n",
              "    box-shadow: none;\n",
              "  }\n",
              "\n",
              "  .colab-df-spinner {\n",
              "    border: 2px solid var(--fill-color);\n",
              "    border-color: transparent;\n",
              "    border-bottom-color: var(--fill-color);\n",
              "    animation:\n",
              "      spin 1s steps(1) infinite;\n",
              "  }\n",
              "\n",
              "  @keyframes spin {\n",
              "    0% {\n",
              "      border-color: transparent;\n",
              "      border-bottom-color: var(--fill-color);\n",
              "      border-left-color: var(--fill-color);\n",
              "    }\n",
              "    20% {\n",
              "      border-color: transparent;\n",
              "      border-left-color: var(--fill-color);\n",
              "      border-top-color: var(--fill-color);\n",
              "    }\n",
              "    30% {\n",
              "      border-color: transparent;\n",
              "      border-left-color: var(--fill-color);\n",
              "      border-top-color: var(--fill-color);\n",
              "      border-right-color: var(--fill-color);\n",
              "    }\n",
              "    40% {\n",
              "      border-color: transparent;\n",
              "      border-right-color: var(--fill-color);\n",
              "      border-top-color: var(--fill-color);\n",
              "    }\n",
              "    60% {\n",
              "      border-color: transparent;\n",
              "      border-right-color: var(--fill-color);\n",
              "    }\n",
              "    80% {\n",
              "      border-color: transparent;\n",
              "      border-right-color: var(--fill-color);\n",
              "      border-bottom-color: var(--fill-color);\n",
              "    }\n",
              "    90% {\n",
              "      border-color: transparent;\n",
              "      border-bottom-color: var(--fill-color);\n",
              "    }\n",
              "  }\n",
              "</style>\n",
              "\n",
              "  <script>\n",
              "    async function quickchart(key) {\n",
              "      const quickchartButtonEl =\n",
              "        document.querySelector('#' + key + ' button');\n",
              "      quickchartButtonEl.disabled = true;  // To prevent multiple clicks.\n",
              "      quickchartButtonEl.classList.add('colab-df-spinner');\n",
              "      try {\n",
              "        const charts = await google.colab.kernel.invokeFunction(\n",
              "            'suggestCharts', [key], {});\n",
              "      } catch (error) {\n",
              "        console.error('Error during call to suggestCharts:', error);\n",
              "      }\n",
              "      quickchartButtonEl.classList.remove('colab-df-spinner');\n",
              "      quickchartButtonEl.classList.add('colab-df-quickchart-complete');\n",
              "    }\n",
              "    (() => {\n",
              "      let quickchartButtonEl =\n",
              "        document.querySelector('#df-99d1e41a-57b6-45f4-abb2-b1b5783d3087 button');\n",
              "      quickchartButtonEl.style.display =\n",
              "        google.colab.kernel.accessAllowed ? 'block' : 'none';\n",
              "    })();\n",
              "  </script>\n",
              "</div>\n",
              "    </div>\n",
              "  </div>\n"
            ]
          },
          "metadata": {},
          "execution_count": 28
        }
      ],
      "source": [
        "df.describe()"
      ]
    },
    {
      "cell_type": "markdown",
      "id": "6a56ea32",
      "metadata": {
        "papermill": {
          "duration": 0.037633,
          "end_time": "2023-04-13T08:12:48.158103",
          "exception": false,
          "start_time": "2023-04-13T08:12:48.120470",
          "status": "completed"
        },
        "tags": [],
        "id": "6a56ea32"
      },
      "source": [
        "##3.4. Verificar os valores faltantes"
      ]
    },
    {
      "cell_type": "code",
      "source": [
        "df.isnull().sum()"
      ],
      "metadata": {
        "colab": {
          "base_uri": "https://localhost:8080/"
        },
        "id": "iHpeHayiKS1Y",
        "outputId": "7098e20c-fb3b-4e33-f8f4-d24a37d591c7"
      },
      "id": "iHpeHayiKS1Y",
      "execution_count": null,
      "outputs": [
        {
          "output_type": "execute_result",
          "data": {
            "text/plain": [
              "carro_id                  0\n",
              "seguranca                 0\n",
              "nome_carro                0\n",
              "tipo_combustivel          0\n",
              "aspiracao                 0\n",
              "numero_portas             0\n",
              "carroceria                0\n",
              "tracao                    0\n",
              "localizacao_motor         0\n",
              "distancia_entre_ eixos    0\n",
              "comprimento_veiculo       0\n",
              "largura_veiculo           0\n",
              "altura_veiculo            0\n",
              "peso_veiculo              0\n",
              "tipo_motor                0\n",
              "numero_cilindros          0\n",
              "tamanho_motor             0\n",
              "sistema_combustivel       0\n",
              "diametro_cilindro         0\n",
              "distancia_pistao          0\n",
              "taxa_compressao           0\n",
              "potencia                  0\n",
              "rpm_max                   0\n",
              "rpm_cidade                0\n",
              "rpm_estrada               0\n",
              "preco                     0\n",
              "dtype: int64"
            ]
          },
          "metadata": {},
          "execution_count": 8
        }
      ]
    },
    {
      "cell_type": "markdown",
      "source": [
        "**Observações**\n",
        "\n",
        "- Conforme pode-se obervar, não há valores faltantes."
      ],
      "metadata": {
        "id": "sZKLkeDAo6_Y"
      },
      "id": "sZKLkeDAo6_Y"
    },
    {
      "cell_type": "markdown",
      "id": "f501b41a",
      "metadata": {
        "papermill": {
          "duration": 0.037912,
          "end_time": "2023-04-13T08:12:48.407425",
          "exception": false,
          "start_time": "2023-04-13T08:12:48.369513",
          "status": "completed"
        },
        "tags": [],
        "id": "f501b41a"
      },
      "source": [
        "##3.5. Checando valores duplicados"
      ]
    },
    {
      "cell_type": "code",
      "execution_count": null,
      "id": "b0ad3e8b",
      "metadata": {
        "execution": {
          "iopub.execute_input": "2023-04-13T08:12:48.488304Z",
          "iopub.status.busy": "2023-04-13T08:12:48.487807Z",
          "iopub.status.idle": "2023-04-13T08:12:48.503327Z",
          "shell.execute_reply": "2023-04-13T08:12:48.501812Z"
        },
        "papermill": {
          "duration": 0.059856,
          "end_time": "2023-04-13T08:12:48.506291",
          "exception": false,
          "start_time": "2023-04-13T08:12:48.446435",
          "status": "completed"
        },
        "tags": [],
        "id": "b0ad3e8b",
        "outputId": "3e511284-3924-4f7b-cfcf-c7c0d4c554c0",
        "colab": {
          "base_uri": "https://localhost:8080/"
        }
      },
      "outputs": [
        {
          "output_type": "stream",
          "name": "stdout",
          "text": [
            "Valores Duplicados: 0\n"
          ]
        }
      ],
      "source": [
        "print(\"Valores Duplicados:\",df.duplicated().sum())"
      ]
    },
    {
      "cell_type": "markdown",
      "source": [
        "**Observações**\n",
        "- Não há valores duplicados"
      ],
      "metadata": {
        "id": "dfb7x4sfpDQA"
      },
      "id": "dfb7x4sfpDQA"
    },
    {
      "cell_type": "markdown",
      "id": "c09efaa1",
      "metadata": {
        "papermill": {
          "duration": 0.041312,
          "end_time": "2023-04-13T08:12:49.032701",
          "exception": false,
          "start_time": "2023-04-13T08:12:48.991389",
          "status": "completed"
        },
        "tags": [],
        "id": "c09efaa1"
      },
      "source": [
        "---"
      ]
    },
    {
      "cell_type": "markdown",
      "id": "732c295b",
      "metadata": {
        "papermill": {
          "duration": 0.038214,
          "end_time": "2023-04-13T08:12:49.110020",
          "exception": false,
          "start_time": "2023-04-13T08:12:49.071806",
          "status": "completed"
        },
        "tags": [],
        "id": "732c295b"
      },
      "source": [
        "#4. Preparação dos Dados"
      ]
    },
    {
      "cell_type": "markdown",
      "id": "3cfa8e0d",
      "metadata": {
        "papermill": {
          "duration": 0.038277,
          "end_time": "2023-04-13T08:12:49.187926",
          "exception": false,
          "start_time": "2023-04-13T08:12:49.149649",
          "status": "completed"
        },
        "tags": [],
        "id": "3cfa8e0d"
      },
      "source": [
        "## 4.1. Ajustando o Atributo \"nome_carro\""
      ]
    },
    {
      "cell_type": "code",
      "execution_count": null,
      "id": "585d0783",
      "metadata": {
        "execution": {
          "iopub.execute_input": "2023-04-13T08:12:49.267799Z",
          "iopub.status.busy": "2023-04-13T08:12:49.267266Z",
          "iopub.status.idle": "2023-04-13T08:12:49.298264Z",
          "shell.execute_reply": "2023-04-13T08:12:49.296869Z"
        },
        "papermill": {
          "duration": 0.074501,
          "end_time": "2023-04-13T08:12:49.300982",
          "exception": false,
          "start_time": "2023-04-13T08:12:49.226481",
          "status": "completed"
        },
        "tags": [],
        "id": "585d0783",
        "outputId": "0c72e910-49c9-4d40-c432-b49b0188d196",
        "colab": {
          "base_uri": "https://localhost:8080/",
          "height": 214
        }
      },
      "outputs": [
        {
          "output_type": "execute_result",
          "data": {
            "text/plain": [
              "   carro_id  seguranca           nome_carro tipo_combustivel aspiracao  \\\n",
              "0         1          3   alfa-romero giulia              gas       std   \n",
              "1         2          3  alfa-romero stelvio              gas       std   \n",
              "\n",
              "  numero_portas   carroceria tracao localizacao_motor  distancia_entre_ eixos  \\\n",
              "0           two  convertible    rwd             front                    88.6   \n",
              "1           two  convertible    rwd             front                    88.6   \n",
              "\n",
              "   ...  tamanho_motor  sistema_combustivel  diametro_cilindro  \\\n",
              "0  ...            130                 mpfi               3.47   \n",
              "1  ...            130                 mpfi               3.47   \n",
              "\n",
              "   distancia_pistao taxa_compressao potencia  rpm_max rpm_cidade  rpm_estrada  \\\n",
              "0              2.68             9.0      111     5000         21           27   \n",
              "1              2.68             9.0      111     5000         21           27   \n",
              "\n",
              "     preco  \n",
              "0  13495.0  \n",
              "1  16500.0  \n",
              "\n",
              "[2 rows x 26 columns]"
            ],
            "text/html": [
              "\n",
              "  <div id=\"df-457f92e8-fff3-4af5-9736-4413cc254c16\" class=\"colab-df-container\">\n",
              "    <div>\n",
              "<style scoped>\n",
              "    .dataframe tbody tr th:only-of-type {\n",
              "        vertical-align: middle;\n",
              "    }\n",
              "\n",
              "    .dataframe tbody tr th {\n",
              "        vertical-align: top;\n",
              "    }\n",
              "\n",
              "    .dataframe thead th {\n",
              "        text-align: right;\n",
              "    }\n",
              "</style>\n",
              "<table border=\"1\" class=\"dataframe\">\n",
              "  <thead>\n",
              "    <tr style=\"text-align: right;\">\n",
              "      <th></th>\n",
              "      <th>carro_id</th>\n",
              "      <th>seguranca</th>\n",
              "      <th>nome_carro</th>\n",
              "      <th>tipo_combustivel</th>\n",
              "      <th>aspiracao</th>\n",
              "      <th>numero_portas</th>\n",
              "      <th>carroceria</th>\n",
              "      <th>tracao</th>\n",
              "      <th>localizacao_motor</th>\n",
              "      <th>distancia_entre_ eixos</th>\n",
              "      <th>...</th>\n",
              "      <th>tamanho_motor</th>\n",
              "      <th>sistema_combustivel</th>\n",
              "      <th>diametro_cilindro</th>\n",
              "      <th>distancia_pistao</th>\n",
              "      <th>taxa_compressao</th>\n",
              "      <th>potencia</th>\n",
              "      <th>rpm_max</th>\n",
              "      <th>rpm_cidade</th>\n",
              "      <th>rpm_estrada</th>\n",
              "      <th>preco</th>\n",
              "    </tr>\n",
              "  </thead>\n",
              "  <tbody>\n",
              "    <tr>\n",
              "      <th>0</th>\n",
              "      <td>1</td>\n",
              "      <td>3</td>\n",
              "      <td>alfa-romero giulia</td>\n",
              "      <td>gas</td>\n",
              "      <td>std</td>\n",
              "      <td>two</td>\n",
              "      <td>convertible</td>\n",
              "      <td>rwd</td>\n",
              "      <td>front</td>\n",
              "      <td>88.6</td>\n",
              "      <td>...</td>\n",
              "      <td>130</td>\n",
              "      <td>mpfi</td>\n",
              "      <td>3.47</td>\n",
              "      <td>2.68</td>\n",
              "      <td>9.0</td>\n",
              "      <td>111</td>\n",
              "      <td>5000</td>\n",
              "      <td>21</td>\n",
              "      <td>27</td>\n",
              "      <td>13495.0</td>\n",
              "    </tr>\n",
              "    <tr>\n",
              "      <th>1</th>\n",
              "      <td>2</td>\n",
              "      <td>3</td>\n",
              "      <td>alfa-romero stelvio</td>\n",
              "      <td>gas</td>\n",
              "      <td>std</td>\n",
              "      <td>two</td>\n",
              "      <td>convertible</td>\n",
              "      <td>rwd</td>\n",
              "      <td>front</td>\n",
              "      <td>88.6</td>\n",
              "      <td>...</td>\n",
              "      <td>130</td>\n",
              "      <td>mpfi</td>\n",
              "      <td>3.47</td>\n",
              "      <td>2.68</td>\n",
              "      <td>9.0</td>\n",
              "      <td>111</td>\n",
              "      <td>5000</td>\n",
              "      <td>21</td>\n",
              "      <td>27</td>\n",
              "      <td>16500.0</td>\n",
              "    </tr>\n",
              "  </tbody>\n",
              "</table>\n",
              "<p>2 rows × 26 columns</p>\n",
              "</div>\n",
              "    <div class=\"colab-df-buttons\">\n",
              "\n",
              "  <div class=\"colab-df-container\">\n",
              "    <button class=\"colab-df-convert\" onclick=\"convertToInteractive('df-457f92e8-fff3-4af5-9736-4413cc254c16')\"\n",
              "            title=\"Convert this dataframe to an interactive table.\"\n",
              "            style=\"display:none;\">\n",
              "\n",
              "  <svg xmlns=\"http://www.w3.org/2000/svg\" height=\"24px\" viewBox=\"0 -960 960 960\">\n",
              "    <path d=\"M120-120v-720h720v720H120Zm60-500h600v-160H180v160Zm220 220h160v-160H400v160Zm0 220h160v-160H400v160ZM180-400h160v-160H180v160Zm440 0h160v-160H620v160ZM180-180h160v-160H180v160Zm440 0h160v-160H620v160Z\"/>\n",
              "  </svg>\n",
              "    </button>\n",
              "\n",
              "  <style>\n",
              "    .colab-df-container {\n",
              "      display:flex;\n",
              "      gap: 12px;\n",
              "    }\n",
              "\n",
              "    .colab-df-convert {\n",
              "      background-color: #E8F0FE;\n",
              "      border: none;\n",
              "      border-radius: 50%;\n",
              "      cursor: pointer;\n",
              "      display: none;\n",
              "      fill: #1967D2;\n",
              "      height: 32px;\n",
              "      padding: 0 0 0 0;\n",
              "      width: 32px;\n",
              "    }\n",
              "\n",
              "    .colab-df-convert:hover {\n",
              "      background-color: #E2EBFA;\n",
              "      box-shadow: 0px 1px 2px rgba(60, 64, 67, 0.3), 0px 1px 3px 1px rgba(60, 64, 67, 0.15);\n",
              "      fill: #174EA6;\n",
              "    }\n",
              "\n",
              "    .colab-df-buttons div {\n",
              "      margin-bottom: 4px;\n",
              "    }\n",
              "\n",
              "    [theme=dark] .colab-df-convert {\n",
              "      background-color: #3B4455;\n",
              "      fill: #D2E3FC;\n",
              "    }\n",
              "\n",
              "    [theme=dark] .colab-df-convert:hover {\n",
              "      background-color: #434B5C;\n",
              "      box-shadow: 0px 1px 3px 1px rgba(0, 0, 0, 0.15);\n",
              "      filter: drop-shadow(0px 1px 2px rgba(0, 0, 0, 0.3));\n",
              "      fill: #FFFFFF;\n",
              "    }\n",
              "  </style>\n",
              "\n",
              "    <script>\n",
              "      const buttonEl =\n",
              "        document.querySelector('#df-457f92e8-fff3-4af5-9736-4413cc254c16 button.colab-df-convert');\n",
              "      buttonEl.style.display =\n",
              "        google.colab.kernel.accessAllowed ? 'block' : 'none';\n",
              "\n",
              "      async function convertToInteractive(key) {\n",
              "        const element = document.querySelector('#df-457f92e8-fff3-4af5-9736-4413cc254c16');\n",
              "        const dataTable =\n",
              "          await google.colab.kernel.invokeFunction('convertToInteractive',\n",
              "                                                    [key], {});\n",
              "        if (!dataTable) return;\n",
              "\n",
              "        const docLinkHtml = 'Like what you see? Visit the ' +\n",
              "          '<a target=\"_blank\" href=https://colab.research.google.com/notebooks/data_table.ipynb>data table notebook</a>'\n",
              "          + ' to learn more about interactive tables.';\n",
              "        element.innerHTML = '';\n",
              "        dataTable['output_type'] = 'display_data';\n",
              "        await google.colab.output.renderOutput(dataTable, element);\n",
              "        const docLink = document.createElement('div');\n",
              "        docLink.innerHTML = docLinkHtml;\n",
              "        element.appendChild(docLink);\n",
              "      }\n",
              "    </script>\n",
              "  </div>\n",
              "\n",
              "\n",
              "<div id=\"df-59a5c40e-9a6c-4b16-84dd-64b02dc661c1\">\n",
              "  <button class=\"colab-df-quickchart\" onclick=\"quickchart('df-59a5c40e-9a6c-4b16-84dd-64b02dc661c1')\"\n",
              "            title=\"Suggest charts\"\n",
              "            style=\"display:none;\">\n",
              "\n",
              "<svg xmlns=\"http://www.w3.org/2000/svg\" height=\"24px\"viewBox=\"0 0 24 24\"\n",
              "     width=\"24px\">\n",
              "    <g>\n",
              "        <path d=\"M19 3H5c-1.1 0-2 .9-2 2v14c0 1.1.9 2 2 2h14c1.1 0 2-.9 2-2V5c0-1.1-.9-2-2-2zM9 17H7v-7h2v7zm4 0h-2V7h2v10zm4 0h-2v-4h2v4z\"/>\n",
              "    </g>\n",
              "</svg>\n",
              "  </button>\n",
              "\n",
              "<style>\n",
              "  .colab-df-quickchart {\n",
              "      --bg-color: #E8F0FE;\n",
              "      --fill-color: #1967D2;\n",
              "      --hover-bg-color: #E2EBFA;\n",
              "      --hover-fill-color: #174EA6;\n",
              "      --disabled-fill-color: #AAA;\n",
              "      --disabled-bg-color: #DDD;\n",
              "  }\n",
              "\n",
              "  [theme=dark] .colab-df-quickchart {\n",
              "      --bg-color: #3B4455;\n",
              "      --fill-color: #D2E3FC;\n",
              "      --hover-bg-color: #434B5C;\n",
              "      --hover-fill-color: #FFFFFF;\n",
              "      --disabled-bg-color: #3B4455;\n",
              "      --disabled-fill-color: #666;\n",
              "  }\n",
              "\n",
              "  .colab-df-quickchart {\n",
              "    background-color: var(--bg-color);\n",
              "    border: none;\n",
              "    border-radius: 50%;\n",
              "    cursor: pointer;\n",
              "    display: none;\n",
              "    fill: var(--fill-color);\n",
              "    height: 32px;\n",
              "    padding: 0;\n",
              "    width: 32px;\n",
              "  }\n",
              "\n",
              "  .colab-df-quickchart:hover {\n",
              "    background-color: var(--hover-bg-color);\n",
              "    box-shadow: 0 1px 2px rgba(60, 64, 67, 0.3), 0 1px 3px 1px rgba(60, 64, 67, 0.15);\n",
              "    fill: var(--button-hover-fill-color);\n",
              "  }\n",
              "\n",
              "  .colab-df-quickchart-complete:disabled,\n",
              "  .colab-df-quickchart-complete:disabled:hover {\n",
              "    background-color: var(--disabled-bg-color);\n",
              "    fill: var(--disabled-fill-color);\n",
              "    box-shadow: none;\n",
              "  }\n",
              "\n",
              "  .colab-df-spinner {\n",
              "    border: 2px solid var(--fill-color);\n",
              "    border-color: transparent;\n",
              "    border-bottom-color: var(--fill-color);\n",
              "    animation:\n",
              "      spin 1s steps(1) infinite;\n",
              "  }\n",
              "\n",
              "  @keyframes spin {\n",
              "    0% {\n",
              "      border-color: transparent;\n",
              "      border-bottom-color: var(--fill-color);\n",
              "      border-left-color: var(--fill-color);\n",
              "    }\n",
              "    20% {\n",
              "      border-color: transparent;\n",
              "      border-left-color: var(--fill-color);\n",
              "      border-top-color: var(--fill-color);\n",
              "    }\n",
              "    30% {\n",
              "      border-color: transparent;\n",
              "      border-left-color: var(--fill-color);\n",
              "      border-top-color: var(--fill-color);\n",
              "      border-right-color: var(--fill-color);\n",
              "    }\n",
              "    40% {\n",
              "      border-color: transparent;\n",
              "      border-right-color: var(--fill-color);\n",
              "      border-top-color: var(--fill-color);\n",
              "    }\n",
              "    60% {\n",
              "      border-color: transparent;\n",
              "      border-right-color: var(--fill-color);\n",
              "    }\n",
              "    80% {\n",
              "      border-color: transparent;\n",
              "      border-right-color: var(--fill-color);\n",
              "      border-bottom-color: var(--fill-color);\n",
              "    }\n",
              "    90% {\n",
              "      border-color: transparent;\n",
              "      border-bottom-color: var(--fill-color);\n",
              "    }\n",
              "  }\n",
              "</style>\n",
              "\n",
              "  <script>\n",
              "    async function quickchart(key) {\n",
              "      const quickchartButtonEl =\n",
              "        document.querySelector('#' + key + ' button');\n",
              "      quickchartButtonEl.disabled = true;  // To prevent multiple clicks.\n",
              "      quickchartButtonEl.classList.add('colab-df-spinner');\n",
              "      try {\n",
              "        const charts = await google.colab.kernel.invokeFunction(\n",
              "            'suggestCharts', [key], {});\n",
              "      } catch (error) {\n",
              "        console.error('Error during call to suggestCharts:', error);\n",
              "      }\n",
              "      quickchartButtonEl.classList.remove('colab-df-spinner');\n",
              "      quickchartButtonEl.classList.add('colab-df-quickchart-complete');\n",
              "    }\n",
              "    (() => {\n",
              "      let quickchartButtonEl =\n",
              "        document.querySelector('#df-59a5c40e-9a6c-4b16-84dd-64b02dc661c1 button');\n",
              "      quickchartButtonEl.style.display =\n",
              "        google.colab.kernel.accessAllowed ? 'block' : 'none';\n",
              "    })();\n",
              "  </script>\n",
              "</div>\n",
              "    </div>\n",
              "  </div>\n"
            ]
          },
          "metadata": {},
          "execution_count": 31
        }
      ],
      "source": [
        "df.head(2)"
      ]
    },
    {
      "cell_type": "markdown",
      "id": "5239b9c7",
      "metadata": {
        "papermill": {
          "duration": 0.038516,
          "end_time": "2023-04-13T08:12:49.378820",
          "exception": false,
          "start_time": "2023-04-13T08:12:49.340304",
          "status": "completed"
        },
        "tags": [],
        "id": "5239b9c7"
      },
      "source": [
        "**Observações**\n",
        "- No recurso **nome_carro**, podemos observar que os valores estão armazenando tanto o **nome da empresa do carro** quanto o **Nome do carro**.\n",
        "- Desta forma, temos que ajustar esse recurso separando os nomes das empresas de automóveis do nome do veículo."
      ]
    },
    {
      "cell_type": "code",
      "source": [
        "def fabricante(x):\n",
        "  z = x.split(\" \")[0]\n",
        "  return z\n"
      ],
      "metadata": {
        "id": "1DAbJ5zJMDpm"
      },
      "id": "1DAbJ5zJMDpm",
      "execution_count": null,
      "outputs": []
    },
    {
      "cell_type": "code",
      "execution_count": null,
      "id": "d3b75dd9",
      "metadata": {
        "execution": {
          "iopub.execute_input": "2023-04-13T08:12:49.460300Z",
          "iopub.status.busy": "2023-04-13T08:12:49.459764Z",
          "iopub.status.idle": "2023-04-13T08:12:49.469664Z",
          "shell.execute_reply": "2023-04-13T08:12:49.468323Z"
        },
        "papermill": {
          "duration": 0.054025,
          "end_time": "2023-04-13T08:12:49.472515",
          "exception": false,
          "start_time": "2023-04-13T08:12:49.418490",
          "status": "completed"
        },
        "tags": [],
        "id": "d3b75dd9"
      },
      "outputs": [],
      "source": [
        "fabricante = df[\"nome_carro\"].apply(lambda x: fabricante(x))\n"
      ]
    },
    {
      "cell_type": "markdown",
      "source": [
        "\n",
        "\n",
        "---\n",
        "\n",
        "\n",
        "## Atividade 1 - Questão desafio\n",
        "* Extraia o valor referente ao modelo do veículo\n",
        "* Utilize a funcão join para transformar os elementos da lista em uma string.\n",
        " * ex ' '.join(lista)"
      ],
      "metadata": {
        "id": "-S5wJUPwyPUA"
      },
      "id": "-S5wJUPwyPUA"
    },
    {
      "cell_type": "code",
      "source": [
        "#Digite aqui o código\n",
        "modelo = df[\"nome_carro\"].apply(lambda x: \" \".join(x.split(\" \")[1:]))\n"
      ],
      "metadata": {
        "id": "cLvL8XFdbSfc"
      },
      "id": "cLvL8XFdbSfc",
      "execution_count": null,
      "outputs": []
    },
    {
      "cell_type": "markdown",
      "source": [
        "\n",
        "\n",
        "---\n",
        "\n",
        "\n",
        "**Continuando com o ajuste do atributo nome_carro...**"
      ],
      "metadata": {
        "id": "5uTvumUnp9eK"
      },
      "id": "5uTvumUnp9eK"
    },
    {
      "cell_type": "code",
      "source": [
        "df.insert(2,\"fabricante\",fabricante)\n",
        "df.insert(3,\"modelo\",modelo)\n",
        "df = df.drop(columns=['nome_carro'])"
      ],
      "metadata": {
        "id": "lwNxEBoNyoJA"
      },
      "id": "lwNxEBoNyoJA",
      "execution_count": null,
      "outputs": []
    },
    {
      "cell_type": "code",
      "execution_count": null,
      "id": "24f98d53",
      "metadata": {
        "execution": {
          "iopub.execute_input": "2023-04-13T08:12:49.555225Z",
          "iopub.status.busy": "2023-04-13T08:12:49.554706Z",
          "iopub.status.idle": "2023-04-13T08:12:49.582838Z",
          "shell.execute_reply": "2023-04-13T08:12:49.581790Z"
        },
        "papermill": {
          "duration": 0.072197,
          "end_time": "2023-04-13T08:12:49.585359",
          "exception": false,
          "start_time": "2023-04-13T08:12:49.513162",
          "status": "completed"
        },
        "scrolled": true,
        "tags": [],
        "id": "24f98d53",
        "outputId": "a6f7c520-bf94-468b-ae9c-3688892dfe6c",
        "colab": {
          "base_uri": "https://localhost:8080/",
          "height": 159
        }
      },
      "outputs": [
        {
          "output_type": "execute_result",
          "data": {
            "text/plain": [
              "   carro_id  seguranca   fabricante   modelo tipo_combustivel aspiracao  \\\n",
              "0         1          3  alfa-romero   giulia              gas       std   \n",
              "1         2          3  alfa-romero  stelvio              gas       std   \n",
              "\n",
              "  numero_portas   carroceria tracao localizacao_motor  ...  tamanho_motor  \\\n",
              "0           two  convertible    rwd             front  ...            130   \n",
              "1           two  convertible    rwd             front  ...            130   \n",
              "\n",
              "   sistema_combustivel  diametro_cilindro  distancia_pistao  taxa_compressao  \\\n",
              "0                 mpfi               3.47              2.68              9.0   \n",
              "1                 mpfi               3.47              2.68              9.0   \n",
              "\n",
              "  potencia rpm_max  rpm_cidade rpm_estrada    preco  \n",
              "0      111    5000          21          27  13495.0  \n",
              "1      111    5000          21          27  16500.0  \n",
              "\n",
              "[2 rows x 27 columns]"
            ],
            "text/html": [
              "\n",
              "  <div id=\"df-bf6cd13b-c01d-48a3-ad53-8b937c13e7a6\" class=\"colab-df-container\">\n",
              "    <div>\n",
              "<style scoped>\n",
              "    .dataframe tbody tr th:only-of-type {\n",
              "        vertical-align: middle;\n",
              "    }\n",
              "\n",
              "    .dataframe tbody tr th {\n",
              "        vertical-align: top;\n",
              "    }\n",
              "\n",
              "    .dataframe thead th {\n",
              "        text-align: right;\n",
              "    }\n",
              "</style>\n",
              "<table border=\"1\" class=\"dataframe\">\n",
              "  <thead>\n",
              "    <tr style=\"text-align: right;\">\n",
              "      <th></th>\n",
              "      <th>carro_id</th>\n",
              "      <th>seguranca</th>\n",
              "      <th>fabricante</th>\n",
              "      <th>modelo</th>\n",
              "      <th>tipo_combustivel</th>\n",
              "      <th>aspiracao</th>\n",
              "      <th>numero_portas</th>\n",
              "      <th>carroceria</th>\n",
              "      <th>tracao</th>\n",
              "      <th>localizacao_motor</th>\n",
              "      <th>...</th>\n",
              "      <th>tamanho_motor</th>\n",
              "      <th>sistema_combustivel</th>\n",
              "      <th>diametro_cilindro</th>\n",
              "      <th>distancia_pistao</th>\n",
              "      <th>taxa_compressao</th>\n",
              "      <th>potencia</th>\n",
              "      <th>rpm_max</th>\n",
              "      <th>rpm_cidade</th>\n",
              "      <th>rpm_estrada</th>\n",
              "      <th>preco</th>\n",
              "    </tr>\n",
              "  </thead>\n",
              "  <tbody>\n",
              "    <tr>\n",
              "      <th>0</th>\n",
              "      <td>1</td>\n",
              "      <td>3</td>\n",
              "      <td>alfa-romero</td>\n",
              "      <td>giulia</td>\n",
              "      <td>gas</td>\n",
              "      <td>std</td>\n",
              "      <td>two</td>\n",
              "      <td>convertible</td>\n",
              "      <td>rwd</td>\n",
              "      <td>front</td>\n",
              "      <td>...</td>\n",
              "      <td>130</td>\n",
              "      <td>mpfi</td>\n",
              "      <td>3.47</td>\n",
              "      <td>2.68</td>\n",
              "      <td>9.0</td>\n",
              "      <td>111</td>\n",
              "      <td>5000</td>\n",
              "      <td>21</td>\n",
              "      <td>27</td>\n",
              "      <td>13495.0</td>\n",
              "    </tr>\n",
              "    <tr>\n",
              "      <th>1</th>\n",
              "      <td>2</td>\n",
              "      <td>3</td>\n",
              "      <td>alfa-romero</td>\n",
              "      <td>stelvio</td>\n",
              "      <td>gas</td>\n",
              "      <td>std</td>\n",
              "      <td>two</td>\n",
              "      <td>convertible</td>\n",
              "      <td>rwd</td>\n",
              "      <td>front</td>\n",
              "      <td>...</td>\n",
              "      <td>130</td>\n",
              "      <td>mpfi</td>\n",
              "      <td>3.47</td>\n",
              "      <td>2.68</td>\n",
              "      <td>9.0</td>\n",
              "      <td>111</td>\n",
              "      <td>5000</td>\n",
              "      <td>21</td>\n",
              "      <td>27</td>\n",
              "      <td>16500.0</td>\n",
              "    </tr>\n",
              "  </tbody>\n",
              "</table>\n",
              "<p>2 rows × 27 columns</p>\n",
              "</div>\n",
              "    <div class=\"colab-df-buttons\">\n",
              "\n",
              "  <div class=\"colab-df-container\">\n",
              "    <button class=\"colab-df-convert\" onclick=\"convertToInteractive('df-bf6cd13b-c01d-48a3-ad53-8b937c13e7a6')\"\n",
              "            title=\"Convert this dataframe to an interactive table.\"\n",
              "            style=\"display:none;\">\n",
              "\n",
              "  <svg xmlns=\"http://www.w3.org/2000/svg\" height=\"24px\" viewBox=\"0 -960 960 960\">\n",
              "    <path d=\"M120-120v-720h720v720H120Zm60-500h600v-160H180v160Zm220 220h160v-160H400v160Zm0 220h160v-160H400v160ZM180-400h160v-160H180v160Zm440 0h160v-160H620v160ZM180-180h160v-160H180v160Zm440 0h160v-160H620v160Z\"/>\n",
              "  </svg>\n",
              "    </button>\n",
              "\n",
              "  <style>\n",
              "    .colab-df-container {\n",
              "      display:flex;\n",
              "      gap: 12px;\n",
              "    }\n",
              "\n",
              "    .colab-df-convert {\n",
              "      background-color: #E8F0FE;\n",
              "      border: none;\n",
              "      border-radius: 50%;\n",
              "      cursor: pointer;\n",
              "      display: none;\n",
              "      fill: #1967D2;\n",
              "      height: 32px;\n",
              "      padding: 0 0 0 0;\n",
              "      width: 32px;\n",
              "    }\n",
              "\n",
              "    .colab-df-convert:hover {\n",
              "      background-color: #E2EBFA;\n",
              "      box-shadow: 0px 1px 2px rgba(60, 64, 67, 0.3), 0px 1px 3px 1px rgba(60, 64, 67, 0.15);\n",
              "      fill: #174EA6;\n",
              "    }\n",
              "\n",
              "    .colab-df-buttons div {\n",
              "      margin-bottom: 4px;\n",
              "    }\n",
              "\n",
              "    [theme=dark] .colab-df-convert {\n",
              "      background-color: #3B4455;\n",
              "      fill: #D2E3FC;\n",
              "    }\n",
              "\n",
              "    [theme=dark] .colab-df-convert:hover {\n",
              "      background-color: #434B5C;\n",
              "      box-shadow: 0px 1px 3px 1px rgba(0, 0, 0, 0.15);\n",
              "      filter: drop-shadow(0px 1px 2px rgba(0, 0, 0, 0.3));\n",
              "      fill: #FFFFFF;\n",
              "    }\n",
              "  </style>\n",
              "\n",
              "    <script>\n",
              "      const buttonEl =\n",
              "        document.querySelector('#df-bf6cd13b-c01d-48a3-ad53-8b937c13e7a6 button.colab-df-convert');\n",
              "      buttonEl.style.display =\n",
              "        google.colab.kernel.accessAllowed ? 'block' : 'none';\n",
              "\n",
              "      async function convertToInteractive(key) {\n",
              "        const element = document.querySelector('#df-bf6cd13b-c01d-48a3-ad53-8b937c13e7a6');\n",
              "        const dataTable =\n",
              "          await google.colab.kernel.invokeFunction('convertToInteractive',\n",
              "                                                    [key], {});\n",
              "        if (!dataTable) return;\n",
              "\n",
              "        const docLinkHtml = 'Like what you see? Visit the ' +\n",
              "          '<a target=\"_blank\" href=https://colab.research.google.com/notebooks/data_table.ipynb>data table notebook</a>'\n",
              "          + ' to learn more about interactive tables.';\n",
              "        element.innerHTML = '';\n",
              "        dataTable['output_type'] = 'display_data';\n",
              "        await google.colab.output.renderOutput(dataTable, element);\n",
              "        const docLink = document.createElement('div');\n",
              "        docLink.innerHTML = docLinkHtml;\n",
              "        element.appendChild(docLink);\n",
              "      }\n",
              "    </script>\n",
              "  </div>\n",
              "\n",
              "\n",
              "<div id=\"df-edc6930a-356e-45e7-a38a-9a78f8718b49\">\n",
              "  <button class=\"colab-df-quickchart\" onclick=\"quickchart('df-edc6930a-356e-45e7-a38a-9a78f8718b49')\"\n",
              "            title=\"Suggest charts\"\n",
              "            style=\"display:none;\">\n",
              "\n",
              "<svg xmlns=\"http://www.w3.org/2000/svg\" height=\"24px\"viewBox=\"0 0 24 24\"\n",
              "     width=\"24px\">\n",
              "    <g>\n",
              "        <path d=\"M19 3H5c-1.1 0-2 .9-2 2v14c0 1.1.9 2 2 2h14c1.1 0 2-.9 2-2V5c0-1.1-.9-2-2-2zM9 17H7v-7h2v7zm4 0h-2V7h2v10zm4 0h-2v-4h2v4z\"/>\n",
              "    </g>\n",
              "</svg>\n",
              "  </button>\n",
              "\n",
              "<style>\n",
              "  .colab-df-quickchart {\n",
              "      --bg-color: #E8F0FE;\n",
              "      --fill-color: #1967D2;\n",
              "      --hover-bg-color: #E2EBFA;\n",
              "      --hover-fill-color: #174EA6;\n",
              "      --disabled-fill-color: #AAA;\n",
              "      --disabled-bg-color: #DDD;\n",
              "  }\n",
              "\n",
              "  [theme=dark] .colab-df-quickchart {\n",
              "      --bg-color: #3B4455;\n",
              "      --fill-color: #D2E3FC;\n",
              "      --hover-bg-color: #434B5C;\n",
              "      --hover-fill-color: #FFFFFF;\n",
              "      --disabled-bg-color: #3B4455;\n",
              "      --disabled-fill-color: #666;\n",
              "  }\n",
              "\n",
              "  .colab-df-quickchart {\n",
              "    background-color: var(--bg-color);\n",
              "    border: none;\n",
              "    border-radius: 50%;\n",
              "    cursor: pointer;\n",
              "    display: none;\n",
              "    fill: var(--fill-color);\n",
              "    height: 32px;\n",
              "    padding: 0;\n",
              "    width: 32px;\n",
              "  }\n",
              "\n",
              "  .colab-df-quickchart:hover {\n",
              "    background-color: var(--hover-bg-color);\n",
              "    box-shadow: 0 1px 2px rgba(60, 64, 67, 0.3), 0 1px 3px 1px rgba(60, 64, 67, 0.15);\n",
              "    fill: var(--button-hover-fill-color);\n",
              "  }\n",
              "\n",
              "  .colab-df-quickchart-complete:disabled,\n",
              "  .colab-df-quickchart-complete:disabled:hover {\n",
              "    background-color: var(--disabled-bg-color);\n",
              "    fill: var(--disabled-fill-color);\n",
              "    box-shadow: none;\n",
              "  }\n",
              "\n",
              "  .colab-df-spinner {\n",
              "    border: 2px solid var(--fill-color);\n",
              "    border-color: transparent;\n",
              "    border-bottom-color: var(--fill-color);\n",
              "    animation:\n",
              "      spin 1s steps(1) infinite;\n",
              "  }\n",
              "\n",
              "  @keyframes spin {\n",
              "    0% {\n",
              "      border-color: transparent;\n",
              "      border-bottom-color: var(--fill-color);\n",
              "      border-left-color: var(--fill-color);\n",
              "    }\n",
              "    20% {\n",
              "      border-color: transparent;\n",
              "      border-left-color: var(--fill-color);\n",
              "      border-top-color: var(--fill-color);\n",
              "    }\n",
              "    30% {\n",
              "      border-color: transparent;\n",
              "      border-left-color: var(--fill-color);\n",
              "      border-top-color: var(--fill-color);\n",
              "      border-right-color: var(--fill-color);\n",
              "    }\n",
              "    40% {\n",
              "      border-color: transparent;\n",
              "      border-right-color: var(--fill-color);\n",
              "      border-top-color: var(--fill-color);\n",
              "    }\n",
              "    60% {\n",
              "      border-color: transparent;\n",
              "      border-right-color: var(--fill-color);\n",
              "    }\n",
              "    80% {\n",
              "      border-color: transparent;\n",
              "      border-right-color: var(--fill-color);\n",
              "      border-bottom-color: var(--fill-color);\n",
              "    }\n",
              "    90% {\n",
              "      border-color: transparent;\n",
              "      border-bottom-color: var(--fill-color);\n",
              "    }\n",
              "  }\n",
              "</style>\n",
              "\n",
              "  <script>\n",
              "    async function quickchart(key) {\n",
              "      const quickchartButtonEl =\n",
              "        document.querySelector('#' + key + ' button');\n",
              "      quickchartButtonEl.disabled = true;  // To prevent multiple clicks.\n",
              "      quickchartButtonEl.classList.add('colab-df-spinner');\n",
              "      try {\n",
              "        const charts = await google.colab.kernel.invokeFunction(\n",
              "            'suggestCharts', [key], {});\n",
              "      } catch (error) {\n",
              "        console.error('Error during call to suggestCharts:', error);\n",
              "      }\n",
              "      quickchartButtonEl.classList.remove('colab-df-spinner');\n",
              "      quickchartButtonEl.classList.add('colab-df-quickchart-complete');\n",
              "    }\n",
              "    (() => {\n",
              "      let quickchartButtonEl =\n",
              "        document.querySelector('#df-edc6930a-356e-45e7-a38a-9a78f8718b49 button');\n",
              "      quickchartButtonEl.style.display =\n",
              "        google.colab.kernel.accessAllowed ? 'block' : 'none';\n",
              "    })();\n",
              "  </script>\n",
              "</div>\n",
              "    </div>\n",
              "  </div>\n"
            ]
          },
          "metadata": {},
          "execution_count": 14
        }
      ],
      "source": [
        "df.head(2)"
      ]
    },
    {
      "cell_type": "markdown",
      "id": "e3b43708",
      "metadata": {
        "papermill": {
          "duration": 0.039945,
          "end_time": "2023-04-13T08:12:49.666506",
          "exception": false,
          "start_time": "2023-04-13T08:12:49.626561",
          "status": "completed"
        },
        "tags": [],
        "id": "e3b43708"
      },
      "source": [
        "## 4.2. Ajustando erros de Digitação do Fabricante / Modelo"
      ]
    },
    {
      "cell_type": "code",
      "execution_count": null,
      "id": "ff116f95",
      "metadata": {
        "execution": {
          "iopub.execute_input": "2023-04-13T08:12:49.750309Z",
          "iopub.status.busy": "2023-04-13T08:12:49.748802Z",
          "iopub.status.idle": "2023-04-13T08:12:49.758861Z",
          "shell.execute_reply": "2023-04-13T08:12:49.757588Z"
        },
        "papermill": {
          "duration": 0.054573,
          "end_time": "2023-04-13T08:12:49.761653",
          "exception": false,
          "start_time": "2023-04-13T08:12:49.707080",
          "status": "completed"
        },
        "tags": [],
        "id": "ff116f95",
        "outputId": "111df83a-8b97-4d63-8c26-f48a29e7fa75",
        "colab": {
          "base_uri": "https://localhost:8080/"
        }
      },
      "outputs": [
        {
          "output_type": "execute_result",
          "data": {
            "text/plain": [
              "array(['alfa-romero', 'audi', 'bmw', 'chevrolet', 'dodge', 'honda',\n",
              "       'isuzu', 'jaguar', 'maxda', 'mazda', 'buick', 'mercury',\n",
              "       'mitsubishi', 'Nissan', 'nissan', 'peugeot', 'plymouth', 'porsche',\n",
              "       'porcshce', 'renault', 'saab', 'subaru', 'toyota', 'toyouta',\n",
              "       'vokswagen', 'volkswagen', 'vw', 'volvo'], dtype=object)"
            ]
          },
          "metadata": {},
          "execution_count": 15
        }
      ],
      "source": [
        "df[\"fabricante\"].unique()"
      ]
    },
    {
      "cell_type": "markdown",
      "id": "6a7d92a1",
      "metadata": {
        "papermill": {
          "duration": 0.03998,
          "end_time": "2023-04-13T08:12:49.841749",
          "exception": false,
          "start_time": "2023-04-13T08:12:49.801769",
          "status": "completed"
        },
        "tags": [],
        "id": "6a7d92a1"
      },
      "source": [
        "Alguns problemas podem ser observados\n",
        "\n",
        "    - `maxda` = `mazda`\n",
        "    - `Nissan` = `nissan`\n",
        "    - `porsche` = `porcshce`\n",
        "    - `toyota` = `toyouta`\n",
        "    - `vokswagen` = `volkswagen` =  `vw`\n",
        "Desta forma, é preciso substituir os erros pelos nomes corretos"
      ]
    },
    {
      "cell_type": "code",
      "execution_count": null,
      "id": "5cc81d5e",
      "metadata": {
        "execution": {
          "iopub.execute_input": "2023-04-13T08:12:50.003779Z",
          "iopub.status.busy": "2023-04-13T08:12:50.003276Z",
          "iopub.status.idle": "2023-04-13T08:12:50.013228Z",
          "shell.execute_reply": "2023-04-13T08:12:50.011908Z"
        },
        "papermill": {
          "duration": 0.054696,
          "end_time": "2023-04-13T08:12:50.015683",
          "exception": false,
          "start_time": "2023-04-13T08:12:49.960987",
          "status": "completed"
        },
        "tags": [],
        "id": "5cc81d5e"
      },
      "outputs": [],
      "source": [
        "def replace(a,b,coluna, df):\n",
        "    df[coluna].replace(a,b,inplace=True)\n",
        "\n",
        "\n",
        "replace('maxda','mazda', 'fabricante', df)\n",
        "replace('porcshce','porsche','fabricante', df)\n",
        "replace('toyouta','toyota','fabricante', df)\n",
        "replace('vokswagen','volkswagen','fabricante', df)\n",
        "replace('vw','volkswagen','fabricante', df)"
      ]
    },
    {
      "cell_type": "code",
      "source": [
        "sorted(df[\"fabricante\"].unique())"
      ],
      "metadata": {
        "colab": {
          "base_uri": "https://localhost:8080/"
        },
        "id": "ZaDJYdw7vkAY",
        "outputId": "8cdf4faa-3286-4d42-fb3f-1996895699c5"
      },
      "id": "ZaDJYdw7vkAY",
      "execution_count": null,
      "outputs": [
        {
          "output_type": "execute_result",
          "data": {
            "text/plain": [
              "['Nissan',\n",
              " 'alfa-romero',\n",
              " 'audi',\n",
              " 'bmw',\n",
              " 'buick',\n",
              " 'chevrolet',\n",
              " 'dodge',\n",
              " 'honda',\n",
              " 'isuzu',\n",
              " 'jaguar',\n",
              " 'mazda',\n",
              " 'mercury',\n",
              " 'mitsubishi',\n",
              " 'nissan',\n",
              " 'peugeot',\n",
              " 'plymouth',\n",
              " 'porsche',\n",
              " 'renault',\n",
              " 'saab',\n",
              " 'subaru',\n",
              " 'toyota',\n",
              " 'volkswagen',\n",
              " 'volvo']"
            ]
          },
          "metadata": {},
          "execution_count": 17
        }
      ]
    },
    {
      "cell_type": "markdown",
      "source": [
        "Crie um método para transformar os valores da coluna fabricante para MAIUSCULO. Ao final do processo, os valores devem estar da seguinte forma:\n",
        "\n",
        "Ex:\n",
        "\n",
        "VOLVO,\n",
        "RENAULT,\n",
        "SAAB,\n",
        "...\n",
        "\n",
        "use lambda, apply (DF) e o método correspondente para converter strings para maiúsculo."
      ],
      "metadata": {
        "id": "ysat1SsycPCH"
      },
      "id": "ysat1SsycPCH"
    },
    {
      "cell_type": "code",
      "source": [
        "df[\"fabricante\"] = df[\"fabricante\"].apply(lambda x: x.upper())"
      ],
      "metadata": {
        "id": "MMhnei0qblnZ"
      },
      "id": "MMhnei0qblnZ",
      "execution_count": null,
      "outputs": []
    },
    {
      "cell_type": "markdown",
      "source": [
        "\n",
        "\n",
        "---\n",
        "\n",
        "\n",
        "# Atividade II\n",
        "\n",
        "* Ajuste os valores digitados incorretamente para os modelos dos veículos, de forma similar ao que foi feito para as marcas.\n",
        "* Pode utilizar a função replace já construída"
      ],
      "metadata": {
        "id": "pgwQMp8Hy-oZ"
      },
      "id": "pgwQMp8Hy-oZ"
    },
    {
      "cell_type": "markdown",
      "source": [
        "Alguns problemas podem ser observados\n",
        "\n",
        "  - `100 ls` =  `100ls`  \n",
        "  - `civiccc` = `civic`\n",
        "  - `D-Maxx` = `D-Max`\n",
        "  - `corola` = `corolla`\n",
        "  - `corona` = `coronnna`\n",
        "  - `latio` = `lattio`\n",
        "  - `outilander` = `outlander`\n",
        "  - `rabbit` = `rabit`\n",
        "\n",
        "\n",
        "Desta forma, é preciso substituir os erros pelos nomes corretos"
      ],
      "metadata": {
        "id": "ROKL3CRezgEt"
      },
      "id": "ROKL3CRezgEt"
    },
    {
      "cell_type": "code",
      "source": [
        "#Digite aqui o codigo\n",
        "\n",
        "replace('corola','corolla', 'modelo', df)\n"
      ],
      "metadata": {
        "id": "tyZTD6d6vrbk"
      },
      "id": "tyZTD6d6vrbk",
      "execution_count": null,
      "outputs": []
    },
    {
      "cell_type": "code",
      "source": [
        "df[\"modelo\"] = df[\"modelo\"].apply(lambda x: x.upper())"
      ],
      "metadata": {
        "id": "c9CscNiadb2I"
      },
      "id": "c9CscNiadb2I",
      "execution_count": null,
      "outputs": []
    },
    {
      "cell_type": "markdown",
      "id": "31d780b3",
      "metadata": {
        "papermill": {
          "duration": 0.039562,
          "end_time": "2023-04-13T08:12:50.189463",
          "exception": false,
          "start_time": "2023-04-13T08:12:50.149901",
          "status": "completed"
        },
        "tags": [],
        "id": "31d780b3"
      },
      "source": [
        "* Agora, todo nome de fabricante e modelo parecem corretos.\n",
        "* É o momento de ir para a próxima etapa, que é a análise exploratória de dados."
      ]
    },
    {
      "cell_type": "markdown",
      "id": "5b5d4efb",
      "metadata": {
        "papermill": {
          "duration": 0.039659,
          "end_time": "2023-04-13T08:12:50.349056",
          "exception": false,
          "start_time": "2023-04-13T08:12:50.309397",
          "status": "completed"
        },
        "tags": [],
        "id": "5b5d4efb"
      },
      "source": [
        "# 5. Análise Exploratória dos Dados - (EDA)"
      ]
    },
    {
      "cell_type": "markdown",
      "id": "767e8b14",
      "metadata": {
        "papermill": {
          "duration": 0.04152,
          "end_time": "2023-04-13T08:12:50.431191",
          "exception": false,
          "start_time": "2023-04-13T08:12:50.389671",
          "status": "completed"
        },
        "tags": [],
        "id": "767e8b14"
      },
      "source": [
        "## 5.1. Analisando a variável alvo"
      ]
    },
    {
      "cell_type": "code",
      "execution_count": null,
      "id": "667a4b1e",
      "metadata": {
        "execution": {
          "iopub.execute_input": "2023-04-13T08:12:50.514826Z",
          "iopub.status.busy": "2023-04-13T08:12:50.513764Z",
          "iopub.status.idle": "2023-04-13T08:12:51.157880Z",
          "shell.execute_reply": "2023-04-13T08:12:51.156671Z"
        },
        "papermill": {
          "duration": 0.689702,
          "end_time": "2023-04-13T08:12:51.161238",
          "exception": false,
          "start_time": "2023-04-13T08:12:50.471536",
          "status": "completed"
        },
        "tags": [],
        "id": "667a4b1e",
        "outputId": "89868503-a8f4-4b5e-b256-50fa9dbafde4",
        "colab": {
          "base_uri": "https://localhost:8080/",
          "height": 266
        }
      },
      "outputs": [
        {
          "output_type": "execute_result",
          "data": {
            "text/plain": [
              "<Axes: ylabel='Density'>"
            ]
          },
          "metadata": {},
          "execution_count": 22
        },
        {
          "output_type": "display_data",
          "data": {
            "text/plain": [
              "<Figure size 800x200 with 1 Axes>"
            ],
            "image/png": "[encoded data removed]"
          },
          "metadata": {}
        }
      ],
      "source": [
        "df['preco'].plot(kind='kde', figsize=(8,2))\n"
      ]
    },
    {
      "cell_type": "code",
      "source": [
        "df['preco'].plot(kind='box', figsize=(5,6))"
      ],
      "metadata": {
        "colab": {
          "base_uri": "https://localhost:8080/",
          "height": 560
        },
        "id": "CwGhd6nW3j-M",
        "outputId": "107c2d25-f5ee-4536-d63f-c1f4688058d6"
      },
      "id": "CwGhd6nW3j-M",
      "execution_count": null,
      "outputs": [
        {
          "output_type": "execute_result",
          "data": {
            "text/plain": [
              "<Axes: >"
            ]
          },
          "metadata": {},
          "execution_count": 43
        },
        {
          "output_type": "display_data",
          "data": {
            "text/plain": [
              "<Figure size 500x600 with 1 Axes>"
            ],
            "image/png": "[encoded data removed]"
          },
          "metadata": {}
        }
      ]
    },
    {
      "cell_type": "code",
      "execution_count": null,
      "id": "0b11f3d6",
      "metadata": {
        "execution": {
          "iopub.execute_input": "2023-04-13T08:12:51.250209Z",
          "iopub.status.busy": "2023-04-13T08:12:51.249677Z",
          "iopub.status.idle": "2023-04-13T08:12:51.269116Z",
          "shell.execute_reply": "2023-04-13T08:12:51.267748Z"
        },
        "papermill": {
          "duration": 0.067021,
          "end_time": "2023-04-13T08:12:51.271789",
          "exception": false,
          "start_time": "2023-04-13T08:12:51.204768",
          "status": "completed"
        },
        "tags": [],
        "id": "0b11f3d6",
        "outputId": "92e3f70d-d39b-43d4-df7c-404b94f87cb3",
        "colab": {
          "base_uri": "https://localhost:8080/",
          "height": 101
        }
      },
      "outputs": [
        {
          "output_type": "execute_result",
          "data": {
            "text/plain": [
              "          min          mean   median      max          std\n",
              "preco  5118.0  13276.710571  10295.0  45400.0  7988.852332"
            ],
            "text/html": [
              "\n",
              "  <div id=\"df-8088fa7c-e042-4b14-9e50-dd249638f846\" class=\"colab-df-container\">\n",
              "    <div>\n",
              "<style scoped>\n",
              "    .dataframe tbody tr th:only-of-type {\n",
              "        vertical-align: middle;\n",
              "    }\n",
              "\n",
              "    .dataframe tbody tr th {\n",
              "        vertical-align: top;\n",
              "    }\n",
              "\n",
              "    .dataframe thead th {\n",
              "        text-align: right;\n",
              "    }\n",
              "</style>\n",
              "<table border=\"1\" class=\"dataframe\">\n",
              "  <thead>\n",
              "    <tr style=\"text-align: right;\">\n",
              "      <th></th>\n",
              "      <th>min</th>\n",
              "      <th>mean</th>\n",
              "      <th>median</th>\n",
              "      <th>max</th>\n",
              "      <th>std</th>\n",
              "    </tr>\n",
              "  </thead>\n",
              "  <tbody>\n",
              "    <tr>\n",
              "      <th>preco</th>\n",
              "      <td>5118.0</td>\n",
              "      <td>13276.710571</td>\n",
              "      <td>10295.0</td>\n",
              "      <td>45400.0</td>\n",
              "      <td>7988.852332</td>\n",
              "    </tr>\n",
              "  </tbody>\n",
              "</table>\n",
              "</div>\n",
              "    <div class=\"colab-df-buttons\">\n",
              "\n",
              "  <div class=\"colab-df-container\">\n",
              "    <button class=\"colab-df-convert\" onclick=\"convertToInteractive('df-8088fa7c-e042-4b14-9e50-dd249638f846')\"\n",
              "            title=\"Convert this dataframe to an interactive table.\"\n",
              "            style=\"display:none;\">\n",
              "\n",
              "  <svg xmlns=\"http://www.w3.org/2000/svg\" height=\"24px\" viewBox=\"0 -960 960 960\">\n",
              "    <path d=\"M120-120v-720h720v720H120Zm60-500h600v-160H180v160Zm220 220h160v-160H400v160Zm0 220h160v-160H400v160ZM180-400h160v-160H180v160Zm440 0h160v-160H620v160ZM180-180h160v-160H180v160Zm440 0h160v-160H620v160Z\"/>\n",
              "  </svg>\n",
              "    </button>\n",
              "\n",
              "  <style>\n",
              "    .colab-df-container {\n",
              "      display:flex;\n",
              "      gap: 12px;\n",
              "    }\n",
              "\n",
              "    .colab-df-convert {\n",
              "      background-color: #E8F0FE;\n",
              "      border: none;\n",
              "      border-radius: 50%;\n",
              "      cursor: pointer;\n",
              "      display: none;\n",
              "      fill: #1967D2;\n",
              "      height: 32px;\n",
              "      padding: 0 0 0 0;\n",
              "      width: 32px;\n",
              "    }\n",
              "\n",
              "    .colab-df-convert:hover {\n",
              "      background-color: #E2EBFA;\n",
              "      box-shadow: 0px 1px 2px rgba(60, 64, 67, 0.3), 0px 1px 3px 1px rgba(60, 64, 67, 0.15);\n",
              "      fill: #174EA6;\n",
              "    }\n",
              "\n",
              "    .colab-df-buttons div {\n",
              "      margin-bottom: 4px;\n",
              "    }\n",
              "\n",
              "    [theme=dark] .colab-df-convert {\n",
              "      background-color: #3B4455;\n",
              "      fill: #D2E3FC;\n",
              "    }\n",
              "\n",
              "    [theme=dark] .colab-df-convert:hover {\n",
              "      background-color: #434B5C;\n",
              "      box-shadow: 0px 1px 3px 1px rgba(0, 0, 0, 0.15);\n",
              "      filter: drop-shadow(0px 1px 2px rgba(0, 0, 0, 0.3));\n",
              "      fill: #FFFFFF;\n",
              "    }\n",
              "  </style>\n",
              "\n",
              "    <script>\n",
              "      const buttonEl =\n",
              "        document.querySelector('#df-8088fa7c-e042-4b14-9e50-dd249638f846 button.colab-df-convert');\n",
              "      buttonEl.style.display =\n",
              "        google.colab.kernel.accessAllowed ? 'block' : 'none';\n",
              "\n",
              "      async function convertToInteractive(key) {\n",
              "        const element = document.querySelector('#df-8088fa7c-e042-4b14-9e50-dd249638f846');\n",
              "        const dataTable =\n",
              "          await google.colab.kernel.invokeFunction('convertToInteractive',\n",
              "                                                    [key], {});\n",
              "        if (!dataTable) return;\n",
              "\n",
              "        const docLinkHtml = 'Like what you see? Visit the ' +\n",
              "          '<a target=\"_blank\" href=https://colab.research.google.com/notebooks/data_table.ipynb>data table notebook</a>'\n",
              "          + ' to learn more about interactive tables.';\n",
              "        element.innerHTML = '';\n",
              "        dataTable['output_type'] = 'display_data';\n",
              "        await google.colab.output.renderOutput(dataTable, element);\n",
              "        const docLink = document.createElement('div');\n",
              "        docLink.innerHTML = docLinkHtml;\n",
              "        element.appendChild(docLink);\n",
              "      }\n",
              "    </script>\n",
              "  </div>\n",
              "\n",
              "    </div>\n",
              "  </div>\n"
            ]
          },
          "metadata": {},
          "execution_count": 44
        }
      ],
      "source": [
        "df[\"preco\"].agg([\"min\",\"mean\",\"median\",\"max\",\"std\"]).to_frame().T"
      ]
    },
    {
      "cell_type": "markdown",
      "id": "785ade28",
      "metadata": {
        "papermill": {
          "duration": 0.041723,
          "end_time": "2023-04-13T08:12:51.358475",
          "exception": false,
          "start_time": "2023-04-13T08:12:51.316752",
          "status": "completed"
        },
        "tags": [],
        "id": "785ade28"
      },
      "source": [
        "**Insights**\n",
        "1. Podemos observar claramente que há uma diferença significativa entre **média e valor mediano**.\n",
        "2. Também podemos perceber que a metade dos **preços de carro está abaixo de 10.000**.\n",
        "\n"
      ]
    },
    {
      "cell_type": "markdown",
      "id": "7cc81180",
      "metadata": {
        "papermill": {
          "duration": 0.041873,
          "end_time": "2023-04-13T08:12:51.442704",
          "exception": false,
          "start_time": "2023-04-13T08:12:51.400831",
          "status": "completed"
        },
        "tags": [],
        "id": "7cc81180"
      },
      "source": [
        "---"
      ]
    },
    {
      "cell_type": "markdown",
      "id": "f21ff76c",
      "metadata": {
        "papermill": {
          "duration": 0.041624,
          "end_time": "2023-04-13T08:12:51.526536",
          "exception": false,
          "start_time": "2023-04-13T08:12:51.484912",
          "status": "completed"
        },
        "tags": [],
        "id": "f21ff76c"
      },
      "source": [
        "## 5.2. Analisando o número total de carros vendido por fabricante"
      ]
    },
    {
      "cell_type": "code",
      "execution_count": null,
      "id": "a1739768",
      "metadata": {
        "execution": {
          "iopub.execute_input": "2023-04-13T08:12:51.614564Z",
          "iopub.status.busy": "2023-04-13T08:12:51.613571Z",
          "iopub.status.idle": "2023-04-13T08:12:52.367210Z",
          "shell.execute_reply": "2023-04-13T08:12:52.365865Z"
        },
        "papermill": {
          "duration": 0.802004,
          "end_time": "2023-04-13T08:12:52.371257",
          "exception": false,
          "start_time": "2023-04-13T08:12:51.569253",
          "status": "completed"
        },
        "tags": [],
        "id": "a1739768",
        "outputId": "1f68c49d-37cb-4978-9eea-d4ddaad44a4e",
        "colab": {
          "base_uri": "https://localhost:8080/",
          "height": 337
        }
      },
      "outputs": [
        {
          "output_type": "execute_result",
          "data": {
            "text/plain": [
              "<Axes: >"
            ]
          },
          "metadata": {},
          "execution_count": 25
        },
        {
          "output_type": "display_data",
          "data": {
            "text/plain": [
              "<Figure size 500x200 with 1 Axes>"
            ],
            "image/png": "[encoded data removed]"
          },
          "metadata": {}
        }
      ],
      "source": [
        "plt.figure(figsize=(5,2))\n",
        "df[\"fabricante\"].value_counts().plot(kind='bar')\n"
      ]
    },
    {
      "cell_type": "markdown",
      "source": [
        "\n",
        "**Insights**\n",
        "1. A empresa **Toyota** vendeu o maior número de carros.\n",
        "2. Portanto, podemos dizer que a **Toyota** é o tipo de empresa preferida dos clientes.\n",
        "3. **Mercury** ou **renault** estão tendo pontos de dados muito baixos. Portanto, não podemos fazer nenhuma inferência sobre as montadoras menos vendidas."
      ],
      "metadata": {
        "id": "Crz3pCNn41G9"
      },
      "id": "Crz3pCNn41G9"
    },
    {
      "cell_type": "code",
      "execution_count": null,
      "id": "b8a3d9b7",
      "metadata": {
        "execution": {
          "iopub.execute_input": "2023-04-13T08:12:52.464107Z",
          "iopub.status.busy": "2023-04-13T08:12:52.463242Z",
          "iopub.status.idle": "2023-04-13T08:12:52.490552Z",
          "shell.execute_reply": "2023-04-13T08:12:52.488999Z"
        },
        "papermill": {
          "duration": 0.077532,
          "end_time": "2023-04-13T08:12:52.493595",
          "exception": false,
          "start_time": "2023-04-13T08:12:52.416063",
          "status": "completed"
        },
        "tags": [],
        "id": "b8a3d9b7",
        "outputId": "2a9010b4-0ae2-4847-e68f-c4d1560f85fd",
        "colab": {
          "base_uri": "https://localhost:8080/",
          "height": 189
        }
      },
      "outputs": [
        {
          "output_type": "execute_result",
          "data": {
            "text/plain": [
              "     carro_id  seguranca fabricante  modelo tipo_combustivel aspiracao  \\\n",
              "75         76          1    MERCURY  COUGAR              gas     turbo   \n",
              "130       131          0    RENAULT    12TL              gas       std   \n",
              "131       132          2    RENAULT   5 GTL              gas       std   \n",
              "\n",
              "    numero_portas carroceria tracao localizacao_motor  ...  tamanho_motor  \\\n",
              "75            two  hatchback    rwd             front  ...            140   \n",
              "130          four      wagon    fwd             front  ...            132   \n",
              "131           two  hatchback    fwd             front  ...            132   \n",
              "\n",
              "     sistema_combustivel  diametro_cilindro  distancia_pistao  \\\n",
              "75                  mpfi               3.78              3.12   \n",
              "130                 mpfi               3.46              3.90   \n",
              "131                 mpfi               3.46              3.90   \n",
              "\n",
              "     taxa_compressao potencia rpm_max  rpm_cidade rpm_estrada    preco  \n",
              "75               8.0      175    5000          19          24  16503.0  \n",
              "130              8.7       90    5100          23          31   9295.0  \n",
              "131              8.7       90    5100          23          31   9895.0  \n",
              "\n",
              "[3 rows x 27 columns]"
            ],
            "text/html": [
              "\n",
              "  <div id=\"df-ba6bae17-6aea-4243-8190-c23030a532e7\" class=\"colab-df-container\">\n",
              "    <div>\n",
              "<style scoped>\n",
              "    .dataframe tbody tr th:only-of-type {\n",
              "        vertical-align: middle;\n",
              "    }\n",
              "\n",
              "    .dataframe tbody tr th {\n",
              "        vertical-align: top;\n",
              "    }\n",
              "\n",
              "    .dataframe thead th {\n",
              "        text-align: right;\n",
              "    }\n",
              "</style>\n",
              "<table border=\"1\" class=\"dataframe\">\n",
              "  <thead>\n",
              "    <tr style=\"text-align: right;\">\n",
              "      <th></th>\n",
              "      <th>carro_id</th>\n",
              "      <th>seguranca</th>\n",
              "      <th>fabricante</th>\n",
              "      <th>modelo</th>\n",
              "      <th>tipo_combustivel</th>\n",
              "      <th>aspiracao</th>\n",
              "      <th>numero_portas</th>\n",
              "      <th>carroceria</th>\n",
              "      <th>tracao</th>\n",
              "      <th>localizacao_motor</th>\n",
              "      <th>...</th>\n",
              "      <th>tamanho_motor</th>\n",
              "      <th>sistema_combustivel</th>\n",
              "      <th>diametro_cilindro</th>\n",
              "      <th>distancia_pistao</th>\n",
              "      <th>taxa_compressao</th>\n",
              "      <th>potencia</th>\n",
              "      <th>rpm_max</th>\n",
              "      <th>rpm_cidade</th>\n",
              "      <th>rpm_estrada</th>\n",
              "      <th>preco</th>\n",
              "    </tr>\n",
              "  </thead>\n",
              "  <tbody>\n",
              "    <tr>\n",
              "      <th>75</th>\n",
              "      <td>76</td>\n",
              "      <td>1</td>\n",
              "      <td>MERCURY</td>\n",
              "      <td>COUGAR</td>\n",
              "      <td>gas</td>\n",
              "      <td>turbo</td>\n",
              "      <td>two</td>\n",
              "      <td>hatchback</td>\n",
              "      <td>rwd</td>\n",
              "      <td>front</td>\n",
              "      <td>...</td>\n",
              "      <td>140</td>\n",
              "      <td>mpfi</td>\n",
              "      <td>3.78</td>\n",
              "      <td>3.12</td>\n",
              "      <td>8.0</td>\n",
              "      <td>175</td>\n",
              "      <td>5000</td>\n",
              "      <td>19</td>\n",
              "      <td>24</td>\n",
              "      <td>16503.0</td>\n",
              "    </tr>\n",
              "    <tr>\n",
              "      <th>130</th>\n",
              "      <td>131</td>\n",
              "      <td>0</td>\n",
              "      <td>RENAULT</td>\n",
              "      <td>12TL</td>\n",
              "      <td>gas</td>\n",
              "      <td>std</td>\n",
              "      <td>four</td>\n",
              "      <td>wagon</td>\n",
              "      <td>fwd</td>\n",
              "      <td>front</td>\n",
              "      <td>...</td>\n",
              "      <td>132</td>\n",
              "      <td>mpfi</td>\n",
              "      <td>3.46</td>\n",
              "      <td>3.90</td>\n",
              "      <td>8.7</td>\n",
              "      <td>90</td>\n",
              "      <td>5100</td>\n",
              "      <td>23</td>\n",
              "      <td>31</td>\n",
              "      <td>9295.0</td>\n",
              "    </tr>\n",
              "    <tr>\n",
              "      <th>131</th>\n",
              "      <td>132</td>\n",
              "      <td>2</td>\n",
              "      <td>RENAULT</td>\n",
              "      <td>5 GTL</td>\n",
              "      <td>gas</td>\n",
              "      <td>std</td>\n",
              "      <td>two</td>\n",
              "      <td>hatchback</td>\n",
              "      <td>fwd</td>\n",
              "      <td>front</td>\n",
              "      <td>...</td>\n",
              "      <td>132</td>\n",
              "      <td>mpfi</td>\n",
              "      <td>3.46</td>\n",
              "      <td>3.90</td>\n",
              "      <td>8.7</td>\n",
              "      <td>90</td>\n",
              "      <td>5100</td>\n",
              "      <td>23</td>\n",
              "      <td>31</td>\n",
              "      <td>9895.0</td>\n",
              "    </tr>\n",
              "  </tbody>\n",
              "</table>\n",
              "<p>3 rows × 27 columns</p>\n",
              "</div>\n",
              "    <div class=\"colab-df-buttons\">\n",
              "\n",
              "  <div class=\"colab-df-container\">\n",
              "    <button class=\"colab-df-convert\" onclick=\"convertToInteractive('df-ba6bae17-6aea-4243-8190-c23030a532e7')\"\n",
              "            title=\"Convert this dataframe to an interactive table.\"\n",
              "            style=\"display:none;\">\n",
              "\n",
              "  <svg xmlns=\"http://www.w3.org/2000/svg\" height=\"24px\" viewBox=\"0 -960 960 960\">\n",
              "    <path d=\"M120-120v-720h720v720H120Zm60-500h600v-160H180v160Zm220 220h160v-160H400v160Zm0 220h160v-160H400v160ZM180-400h160v-160H180v160Zm440 0h160v-160H620v160ZM180-180h160v-160H180v160Zm440 0h160v-160H620v160Z\"/>\n",
              "  </svg>\n",
              "    </button>\n",
              "\n",
              "  <style>\n",
              "    .colab-df-container {\n",
              "      display:flex;\n",
              "      gap: 12px;\n",
              "    }\n",
              "\n",
              "    .colab-df-convert {\n",
              "      background-color: #E8F0FE;\n",
              "      border: none;\n",
              "      border-radius: 50%;\n",
              "      cursor: pointer;\n",
              "      display: none;\n",
              "      fill: #1967D2;\n",
              "      height: 32px;\n",
              "      padding: 0 0 0 0;\n",
              "      width: 32px;\n",
              "    }\n",
              "\n",
              "    .colab-df-convert:hover {\n",
              "      background-color: #E2EBFA;\n",
              "      box-shadow: 0px 1px 2px rgba(60, 64, 67, 0.3), 0px 1px 3px 1px rgba(60, 64, 67, 0.15);\n",
              "      fill: #174EA6;\n",
              "    }\n",
              "\n",
              "    .colab-df-buttons div {\n",
              "      margin-bottom: 4px;\n",
              "    }\n",
              "\n",
              "    [theme=dark] .colab-df-convert {\n",
              "      background-color: #3B4455;\n",
              "      fill: #D2E3FC;\n",
              "    }\n",
              "\n",
              "    [theme=dark] .colab-df-convert:hover {\n",
              "      background-color: #434B5C;\n",
              "      box-shadow: 0px 1px 3px 1px rgba(0, 0, 0, 0.15);\n",
              "      filter: drop-shadow(0px 1px 2px rgba(0, 0, 0, 0.3));\n",
              "      fill: #FFFFFF;\n",
              "    }\n",
              "  </style>\n",
              "\n",
              "    <script>\n",
              "      const buttonEl =\n",
              "        document.querySelector('#df-ba6bae17-6aea-4243-8190-c23030a532e7 button.colab-df-convert');\n",
              "      buttonEl.style.display =\n",
              "        google.colab.kernel.accessAllowed ? 'block' : 'none';\n",
              "\n",
              "      async function convertToInteractive(key) {\n",
              "        const element = document.querySelector('#df-ba6bae17-6aea-4243-8190-c23030a532e7');\n",
              "        const dataTable =\n",
              "          await google.colab.kernel.invokeFunction('convertToInteractive',\n",
              "                                                    [key], {});\n",
              "        if (!dataTable) return;\n",
              "\n",
              "        const docLinkHtml = 'Like what you see? Visit the ' +\n",
              "          '<a target=\"_blank\" href=https://colab.research.google.com/notebooks/data_table.ipynb>data table notebook</a>'\n",
              "          + ' to learn more about interactive tables.';\n",
              "        element.innerHTML = '';\n",
              "        dataTable['output_type'] = 'display_data';\n",
              "        await google.colab.output.renderOutput(dataTable, element);\n",
              "        const docLink = document.createElement('div');\n",
              "        docLink.innerHTML = docLinkHtml;\n",
              "        element.appendChild(docLink);\n",
              "      }\n",
              "    </script>\n",
              "  </div>\n",
              "\n",
              "\n",
              "<div id=\"df-a460d4e0-1d18-46b7-9f6e-72784299e473\">\n",
              "  <button class=\"colab-df-quickchart\" onclick=\"quickchart('df-a460d4e0-1d18-46b7-9f6e-72784299e473')\"\n",
              "            title=\"Suggest charts\"\n",
              "            style=\"display:none;\">\n",
              "\n",
              "<svg xmlns=\"http://www.w3.org/2000/svg\" height=\"24px\"viewBox=\"0 0 24 24\"\n",
              "     width=\"24px\">\n",
              "    <g>\n",
              "        <path d=\"M19 3H5c-1.1 0-2 .9-2 2v14c0 1.1.9 2 2 2h14c1.1 0 2-.9 2-2V5c0-1.1-.9-2-2-2zM9 17H7v-7h2v7zm4 0h-2V7h2v10zm4 0h-2v-4h2v4z\"/>\n",
              "    </g>\n",
              "</svg>\n",
              "  </button>\n",
              "\n",
              "<style>\n",
              "  .colab-df-quickchart {\n",
              "      --bg-color: #E8F0FE;\n",
              "      --fill-color: #1967D2;\n",
              "      --hover-bg-color: #E2EBFA;\n",
              "      --hover-fill-color: #174EA6;\n",
              "      --disabled-fill-color: #AAA;\n",
              "      --disabled-bg-color: #DDD;\n",
              "  }\n",
              "\n",
              "  [theme=dark] .colab-df-quickchart {\n",
              "      --bg-color: #3B4455;\n",
              "      --fill-color: #D2E3FC;\n",
              "      --hover-bg-color: #434B5C;\n",
              "      --hover-fill-color: #FFFFFF;\n",
              "      --disabled-bg-color: #3B4455;\n",
              "      --disabled-fill-color: #666;\n",
              "  }\n",
              "\n",
              "  .colab-df-quickchart {\n",
              "    background-color: var(--bg-color);\n",
              "    border: none;\n",
              "    border-radius: 50%;\n",
              "    cursor: pointer;\n",
              "    display: none;\n",
              "    fill: var(--fill-color);\n",
              "    height: 32px;\n",
              "    padding: 0;\n",
              "    width: 32px;\n",
              "  }\n",
              "\n",
              "  .colab-df-quickchart:hover {\n",
              "    background-color: var(--hover-bg-color);\n",
              "    box-shadow: 0 1px 2px rgba(60, 64, 67, 0.3), 0 1px 3px 1px rgba(60, 64, 67, 0.15);\n",
              "    fill: var(--button-hover-fill-color);\n",
              "  }\n",
              "\n",
              "  .colab-df-quickchart-complete:disabled,\n",
              "  .colab-df-quickchart-complete:disabled:hover {\n",
              "    background-color: var(--disabled-bg-color);\n",
              "    fill: var(--disabled-fill-color);\n",
              "    box-shadow: none;\n",
              "  }\n",
              "\n",
              "  .colab-df-spinner {\n",
              "    border: 2px solid var(--fill-color);\n",
              "    border-color: transparent;\n",
              "    border-bottom-color: var(--fill-color);\n",
              "    animation:\n",
              "      spin 1s steps(1) infinite;\n",
              "  }\n",
              "\n",
              "  @keyframes spin {\n",
              "    0% {\n",
              "      border-color: transparent;\n",
              "      border-bottom-color: var(--fill-color);\n",
              "      border-left-color: var(--fill-color);\n",
              "    }\n",
              "    20% {\n",
              "      border-color: transparent;\n",
              "      border-left-color: var(--fill-color);\n",
              "      border-top-color: var(--fill-color);\n",
              "    }\n",
              "    30% {\n",
              "      border-color: transparent;\n",
              "      border-left-color: var(--fill-color);\n",
              "      border-top-color: var(--fill-color);\n",
              "      border-right-color: var(--fill-color);\n",
              "    }\n",
              "    40% {\n",
              "      border-color: transparent;\n",
              "      border-right-color: var(--fill-color);\n",
              "      border-top-color: var(--fill-color);\n",
              "    }\n",
              "    60% {\n",
              "      border-color: transparent;\n",
              "      border-right-color: var(--fill-color);\n",
              "    }\n",
              "    80% {\n",
              "      border-color: transparent;\n",
              "      border-right-color: var(--fill-color);\n",
              "      border-bottom-color: var(--fill-color);\n",
              "    }\n",
              "    90% {\n",
              "      border-color: transparent;\n",
              "      border-bottom-color: var(--fill-color);\n",
              "    }\n",
              "  }\n",
              "</style>\n",
              "\n",
              "  <script>\n",
              "    async function quickchart(key) {\n",
              "      const quickchartButtonEl =\n",
              "        document.querySelector('#' + key + ' button');\n",
              "      quickchartButtonEl.disabled = true;  // To prevent multiple clicks.\n",
              "      quickchartButtonEl.classList.add('colab-df-spinner');\n",
              "      try {\n",
              "        const charts = await google.colab.kernel.invokeFunction(\n",
              "            'suggestCharts', [key], {});\n",
              "      } catch (error) {\n",
              "        console.error('Error during call to suggestCharts:', error);\n",
              "      }\n",
              "      quickchartButtonEl.classList.remove('colab-df-spinner');\n",
              "      quickchartButtonEl.classList.add('colab-df-quickchart-complete');\n",
              "    }\n",
              "    (() => {\n",
              "      let quickchartButtonEl =\n",
              "        document.querySelector('#df-a460d4e0-1d18-46b7-9f6e-72784299e473 button');\n",
              "      quickchartButtonEl.style.display =\n",
              "        google.colab.kernel.accessAllowed ? 'block' : 'none';\n",
              "    })();\n",
              "  </script>\n",
              "</div>\n",
              "    </div>\n",
              "  </div>\n"
            ]
          },
          "metadata": {},
          "execution_count": 28
        }
      ],
      "source": [
        "df[(df[\"fabricante\"]==\"MERCURY\") |  (df[\"fabricante\"]==\"RENAULT\") ]"
      ]
    },
    {
      "cell_type": "markdown",
      "id": "8c7dd980",
      "metadata": {
        "papermill": {
          "duration": 0.044265,
          "end_time": "2023-04-13T08:12:52.917754",
          "exception": false,
          "start_time": "2023-04-13T08:12:52.873489",
          "status": "completed"
        },
        "tags": [],
        "id": "8c7dd980"
      },
      "source": [
        "##5.3 Analisando preço por marca\n",
        "\n"
      ]
    },
    {
      "cell_type": "code",
      "source": [
        "df.groupby('fabricante')['preco'].mean().sort_values().plot(kind='bar')"
      ],
      "metadata": {
        "colab": {
          "base_uri": "https://localhost:8080/",
          "height": 555
        },
        "id": "36r4eaJcGg6f",
        "outputId": "3d6657a0-8b35-4355-d53e-42b0d83c16a3"
      },
      "id": "36r4eaJcGg6f",
      "execution_count": null,
      "outputs": [
        {
          "output_type": "execute_result",
          "data": {
            "text/plain": [
              "<Axes: xlabel='fabricante'>"
            ]
          },
          "metadata": {},
          "execution_count": 47
        },
        {
          "output_type": "display_data",
          "data": {
            "text/plain": [
              "<Figure size 640x480 with 1 Axes>"
            ],
            "image/png": "[encoded data removed]"
          },
          "metadata": {}
        }
      ]
    },
    {
      "cell_type": "code",
      "source": [
        "df.groupby('fabricante')['preco'].mean().sort_values(ascending=False).plot(kind='bar', figsize=(3,2))"
      ],
      "metadata": {
        "colab": {
          "base_uri": "https://localhost:8080/",
          "height": 340
        },
        "id": "8RacNHSP5D4q",
        "outputId": "0fefb355-5b2f-41b4-ae66-e44a7e527c0e"
      },
      "id": "8RacNHSP5D4q",
      "execution_count": null,
      "outputs": [
        {
          "output_type": "execute_result",
          "data": {
            "text/plain": [
              "<Axes: xlabel='fabricante'>"
            ]
          },
          "metadata": {},
          "execution_count": 48
        },
        {
          "output_type": "display_data",
          "data": {
            "text/plain": [
              "<Figure size 300x200 with 1 Axes>"
            ],
            "image/png": "[encoded data removed]"
          },
          "metadata": {}
        }
      ]
    },
    {
      "cell_type": "markdown",
      "id": "d4517fa4",
      "metadata": {
        "papermill": {
          "duration": 0.048873,
          "end_time": "2023-04-13T08:12:54.803433",
          "exception": false,
          "start_time": "2023-04-13T08:12:54.754560",
          "status": "completed"
        },
        "tags": [],
        "id": "d4517fa4"
      },
      "source": [
        "**Insights**\n",
        "1. **Jaguar** e **buick** parecem ter os carros da faixa de preço mais alta.\n",
        "2. As empresas de automóveis como **Nisaan**, **Renault** e **Mercury** têm apenas um ou dois pontos de dados. Portanto, não podemos fazer nenhuma inferência relacionada às empresas de automóveis da faixa de preço mais baixa.\n",
        "\n",
        "**Seleção de Atributos**\n",
        "- fabricante"
      ]
    },
    {
      "cell_type": "markdown",
      "id": "47f3867a",
      "metadata": {
        "papermill": {
          "duration": 0.049819,
          "end_time": "2023-04-13T08:12:55.003006",
          "exception": false,
          "start_time": "2023-04-13T08:12:54.953187",
          "status": "completed"
        },
        "tags": [],
        "id": "47f3867a"
      },
      "source": [
        "\n",
        "##5.4.Analisando o Atributo Tipo de Combustível"
      ]
    },
    {
      "cell_type": "markdown",
      "source": [
        "Vamos iniciar criando uma função utilitária, para imprimir os gráficos de todos os atributos categóricos - string."
      ],
      "metadata": {
        "id": "1YDIA6j9sC15"
      },
      "id": "1YDIA6j9sC15"
    },
    {
      "cell_type": "code",
      "source": [
        "def imprime_graficos(atributo):\n",
        "  fig, a = plt.subplots(1,2, figsize=(8,2))\n",
        "  #a - é um array of objetos de eixo\n",
        "  df[atributo].value_counts().plot(kind='bar', ax=a[0], subplots=True)\n",
        "  df.groupby(atributo)['preco'].mean().plot(kind='bar', ax=a[1], subplots=True)"
      ],
      "metadata": {
        "id": "IJBu2ZnyfcSK"
      },
      "id": "IJBu2ZnyfcSK",
      "execution_count": null,
      "outputs": []
    },
    {
      "cell_type": "markdown",
      "source": [
        "**Agora sim vamos partir para a análise do tipo de combustível.**"
      ],
      "metadata": {
        "id": "oiatMC7nsOYo"
      },
      "id": "oiatMC7nsOYo"
    },
    {
      "cell_type": "code",
      "source": [
        "imprime_graficos('tipo_combustivel')"
      ],
      "metadata": {
        "colab": {
          "base_uri": "https://localhost:8080/",
          "height": 304
        },
        "id": "kGJUVFpeekeC",
        "outputId": "4efc6dc0-d4b3-4b85-ff83-201ff9c51741"
      },
      "id": "kGJUVFpeekeC",
      "execution_count": null,
      "outputs": [
        {
          "output_type": "display_data",
          "data": {
            "text/plain": [
              "<Figure size 800x200 with 2 Axes>"
            ],
            "image/png": "[encoded data removed]"
          },
          "metadata": {}
        }
      ]
    },
    {
      "cell_type": "markdown",
      "id": "37346425",
      "metadata": {
        "papermill": {
          "duration": 0.049862,
          "end_time": "2023-04-13T08:12:55.888128",
          "exception": false,
          "start_time": "2023-04-13T08:12:55.838266",
          "status": "completed"
        },
        "tags": [],
        "id": "37346425"
      },
      "source": [
        "**Insights**\n",
        "1. Podemos perceber claramente que **Carros com sistema de combustível a gasolina** são mais vendidos.\n",
        "4. A partir do terceiro gráfico podemos perceber que **o preço médio dos carros a gasolina é inferior ao dos carros a diesel**. Assim podemos dizer que os clientes preferem os carros que consomem menos preço em combustíveis.\n",
        "\n",
        "**Seleção de Atributos**\n",
        "- fabricante, tipo_combustivel"
      ]
    },
    {
      "cell_type": "markdown",
      "id": "e0d2472b",
      "metadata": {
        "papermill": {
          "duration": 0.05028,
          "end_time": "2023-04-13T08:12:55.988015",
          "exception": false,
          "start_time": "2023-04-13T08:12:55.937735",
          "status": "completed"
        },
        "tags": [],
        "id": "e0d2472b"
      },
      "source": [
        "---"
      ]
    },
    {
      "cell_type": "markdown",
      "id": "812abf70",
      "metadata": {
        "papermill": {
          "duration": 0.050966,
          "end_time": "2023-04-13T08:12:56.089098",
          "exception": false,
          "start_time": "2023-04-13T08:12:56.038132",
          "status": "completed"
        },
        "tags": [],
        "id": "812abf70"
      },
      "source": [
        "##5.5 Analisando o Atributo Aspiracao"
      ]
    },
    {
      "cell_type": "code",
      "execution_count": null,
      "id": "81ea18d3",
      "metadata": {
        "execution": {
          "iopub.execute_input": "2023-04-13T08:12:56.190593Z",
          "iopub.status.busy": "2023-04-13T08:12:56.190100Z",
          "iopub.status.idle": "2023-04-13T08:12:56.860737Z",
          "shell.execute_reply": "2023-04-13T08:12:56.859276Z"
        },
        "papermill": {
          "duration": 0.724793,
          "end_time": "2023-04-13T08:12:56.863690",
          "exception": false,
          "start_time": "2023-04-13T08:12:56.138897",
          "status": "completed"
        },
        "tags": [],
        "id": "81ea18d3",
        "outputId": "0569b188-a327-4cd5-cd9c-62befa4426d8",
        "colab": {
          "base_uri": "https://localhost:8080/",
          "height": 300
        }
      },
      "outputs": [
        {
          "output_type": "display_data",
          "data": {
            "text/plain": [
              "<Figure size 800x200 with 2 Axes>"
            ],
            "image/png": "[encoded data removed]"
          },
          "metadata": {}
        }
      ],
      "source": [
        "imprime_graficos('aspiracao')"
      ]
    },
    {
      "cell_type": "markdown",
      "id": "96741d09",
      "metadata": {
        "papermill": {
          "duration": 0.053598,
          "end_time": "2023-04-13T08:12:56.971837",
          "exception": false,
          "start_time": "2023-04-13T08:12:56.918239",
          "status": "completed"
        },
        "tags": [],
        "id": "96741d09"
      },
      "source": [
        "**Insights**\n",
        "1. Carros aspirados são muito vendidos quando comparados com carros Turbo que, por sua vez, têm faixa de preço mais alta.\n",
        "\n",
        "**Seleção de Atributos**\n",
        "- fabricante, tipo_combustivel, aspiracao\n"
      ]
    },
    {
      "cell_type": "markdown",
      "id": "88ff285b",
      "metadata": {
        "papermill": {
          "duration": 0.056313,
          "end_time": "2023-04-13T08:12:57.082938",
          "exception": false,
          "start_time": "2023-04-13T08:12:57.026625",
          "status": "completed"
        },
        "tags": [],
        "id": "88ff285b"
      },
      "source": [
        "---"
      ]
    },
    {
      "cell_type": "markdown",
      "id": "e4f0914d",
      "metadata": {
        "papermill": {
          "duration": 0.054427,
          "end_time": "2023-04-13T08:12:57.191631",
          "exception": false,
          "start_time": "2023-04-13T08:12:57.137204",
          "status": "completed"
        },
        "tags": [],
        "id": "e4f0914d"
      },
      "source": [
        "##5.6. Analisando o Atributo Número de Portas\n",
        "\n"
      ]
    },
    {
      "cell_type": "code",
      "execution_count": null,
      "id": "7ce226cc",
      "metadata": {
        "execution": {
          "iopub.execute_input": "2023-04-13T08:12:57.303190Z",
          "iopub.status.busy": "2023-04-13T08:12:57.302190Z",
          "iopub.status.idle": "2023-04-13T08:12:57.964671Z",
          "shell.execute_reply": "2023-04-13T08:12:57.963174Z"
        },
        "papermill": {
          "duration": 0.721153,
          "end_time": "2023-04-13T08:12:57.967655",
          "exception": false,
          "start_time": "2023-04-13T08:12:57.246502",
          "status": "completed"
        },
        "scrolled": true,
        "tags": [],
        "id": "7ce226cc",
        "outputId": "feab0000-02c1-44b7-c4cb-a0e48235dc0e",
        "colab": {
          "base_uri": "https://localhost:8080/",
          "height": 291
        }
      },
      "outputs": [
        {
          "output_type": "display_data",
          "data": {
            "text/plain": [
              "<Figure size 800x200 with 2 Axes>"
            ],
            "image/png": "[encoded data removed]"
          },
          "metadata": {}
        }
      ],
      "source": [
        "imprime_graficos(\"numero_portas\")"
      ]
    },
    {
      "cell_type": "markdown",
      "id": "4498ff70",
      "metadata": {
        "papermill": {
          "duration": 0.056249,
          "end_time": "2023-04-13T08:12:58.081783",
          "exception": false,
          "start_time": "2023-04-13T08:12:58.025534",
          "status": "completed"
        },
        "tags": [],
        "id": "4498ff70"
      },
      "source": [
        "**Insights**\n",
        "1. Carros com **Quatro Portas** são mais vendidos. Mas não há uma grande diferença entre as vendas de carros com **quatro portas** e **duas portas**.\n",
        "2. Carros com **Quatro Portas** são um pouco mais caros quando comparamos o preço médio de carros com **duas portas** ou **quatro portas** - a categoria de números de porta não está afetando muito o preço.\n",
        "\n",
        "**Seleção de Atributos**\n",
        "- fabricante, tipo_combustivel, aspiracao, numero_portas"
      ]
    },
    {
      "cell_type": "markdown",
      "id": "d45f5a08",
      "metadata": {
        "papermill": {
          "duration": 0.056452,
          "end_time": "2023-04-13T08:12:58.308458",
          "exception": false,
          "start_time": "2023-04-13T08:12:58.252006",
          "status": "completed"
        },
        "tags": [],
        "id": "d45f5a08"
      },
      "source": [
        "##5.7. Analisando o Atributo Carroceria\n",
        "\n",
        "\n"
      ]
    },
    {
      "cell_type": "code",
      "execution_count": null,
      "id": "68660c52",
      "metadata": {
        "execution": {
          "iopub.execute_input": "2023-04-13T08:12:58.425414Z",
          "iopub.status.busy": "2023-04-13T08:12:58.424858Z",
          "iopub.status.idle": "2023-04-13T08:12:59.196089Z",
          "shell.execute_reply": "2023-04-13T08:12:59.194684Z"
        },
        "papermill": {
          "duration": 0.832394,
          "end_time": "2023-04-13T08:12:59.198990",
          "exception": false,
          "start_time": "2023-04-13T08:12:58.366596",
          "status": "completed"
        },
        "tags": [],
        "id": "68660c52",
        "outputId": "6cb10dbc-25b5-48e5-a476-94446b7d7614",
        "colab": {
          "base_uri": "https://localhost:8080/",
          "height": 341
        }
      },
      "outputs": [
        {
          "output_type": "display_data",
          "data": {
            "text/plain": [
              "<Figure size 800x200 with 2 Axes>"
            ],
            "image/png": "[encoded data removed]"
          },
          "metadata": {}
        }
      ],
      "source": [
        "imprime_graficos(\"carroceria\")"
      ]
    },
    {
      "cell_type": "markdown",
      "id": "53baa487",
      "metadata": {
        "papermill": {
          "duration": 0.059682,
          "end_time": "2023-04-13T08:12:59.316988",
          "exception": false,
          "start_time": "2023-04-13T08:12:59.257306",
          "status": "completed"
        },
        "tags": [],
        "id": "53baa487"
      },
      "source": [
        "\n",
        "**Insights**\n",
        "1. Os carros com tipo de carroceria **sedan** são mais vendidos, seguidos por **hatchback**.\n",
        "2. Carros com carroceria **Sedan** são o terceiro carro mais caro. Mas ainda está tendo o maior número de vendas de carros. Portanto, podemos dizer que os clientes preferem **carros de faixa de preço médio**.\n",
        "3. Carros com tipo de carroceria **convertible** ou **hardtop** são menos vendidos porque são os mais caros\n",
        "4. Carros com tipo de carroceria **Hardtop** são os carros mais caros, seguidos por **convertible**.\n",
        "\n",
        "**Seleção de Atributos**\n",
        "- fabricante, tipo_combustivel, aspiracao, numero_portas, carroceria\n"
      ]
    },
    {
      "cell_type": "markdown",
      "source": [
        "#Atividade III\n",
        "- Realize a plotagem dos gráficos de barra e análise dos atributos Tração, Tipo de Motor, Número de Cilindros, Sitema de Combustível e Segurança.\n",
        "\n",
        "\n"
      ],
      "metadata": {
        "id": "1PqTvVKICqSB"
      },
      "id": "1PqTvVKICqSB"
    },
    {
      "cell_type": "markdown",
      "id": "2f1b926c",
      "metadata": {
        "papermill": {
          "duration": 0.061408,
          "end_time": "2023-04-13T08:12:59.439477",
          "exception": false,
          "start_time": "2023-04-13T08:12:59.378069",
          "status": "completed"
        },
        "tags": [],
        "id": "2f1b926c"
      },
      "source": [
        "---"
      ]
    },
    {
      "cell_type": "markdown",
      "id": "f3af6d15",
      "metadata": {
        "papermill": {
          "duration": 0.059177,
          "end_time": "2023-04-13T08:12:59.558026",
          "exception": false,
          "start_time": "2023-04-13T08:12:59.498849",
          "status": "completed"
        },
        "tags": [],
        "id": "f3af6d15"
      },
      "source": [
        "##5.8. Analisando o Atributo Tração\n",
        "\n"
      ]
    },
    {
      "cell_type": "code",
      "execution_count": null,
      "id": "1dc66aa8",
      "metadata": {
        "execution": {
          "iopub.execute_input": "2023-04-13T08:12:59.680377Z",
          "iopub.status.busy": "2023-04-13T08:12:59.679800Z",
          "iopub.status.idle": "2023-04-13T08:13:00.387970Z",
          "shell.execute_reply": "2023-04-13T08:13:00.386637Z"
        },
        "papermill": {
          "duration": 0.77409,
          "end_time": "2023-04-13T08:13:00.391941",
          "exception": false,
          "start_time": "2023-04-13T08:12:59.617851",
          "status": "completed"
        },
        "tags": [],
        "id": "1dc66aa8",
        "outputId": "4dcd3a5b-4fc3-4fb2-e38b-3fd39f73f29b",
        "colab": {
          "base_uri": "https://localhost:8080/",
          "height": 292
        }
      },
      "outputs": [
        {
          "output_type": "display_data",
          "data": {
            "text/plain": [
              "<Figure size 800x200 with 2 Axes>"
            ],
            "image/png": "[encoded data removed]"
          },
          "metadata": {}
        }
      ],
      "source": [
        "imprime_graficos(\"tracao\")"
      ]
    },
    {
      "cell_type": "markdown",
      "id": "b5109987",
      "metadata": {
        "papermill": {
          "duration": 0.061545,
          "end_time": "2023-04-13T08:13:00.518738",
          "exception": false,
          "start_time": "2023-04-13T08:13:00.457193",
          "status": "completed"
        },
        "tags": [],
        "id": "b5109987"
      },
      "source": [
        "\n",
        "**Insights**\n",
        "1. A maioria dos carros vendidos tem **Tração dianteira (FWD)** seguida de **Tração traseira (RWD)**.\n",
        "2. Carros com **tração traseira** são em sua maioria carros caros. Mas os carros com **Tração dianteira** são os mais baratos.\n",
        "\n",
        "**Seleção de Atributos**\n",
        "- fabricante, tipo_combustivel, aspiracao, numero_portas, carroceria, tracao"
      ]
    },
    {
      "cell_type": "markdown",
      "id": "9b84bfcb",
      "metadata": {
        "papermill": {
          "duration": 0.062327,
          "end_time": "2023-04-13T08:13:00.642073",
          "exception": false,
          "start_time": "2023-04-13T08:13:00.579746",
          "status": "completed"
        },
        "tags": [],
        "id": "9b84bfcb"
      },
      "source": [
        "---"
      ]
    },
    {
      "cell_type": "markdown",
      "id": "77c459df",
      "metadata": {
        "papermill": {
          "duration": 0.060789,
          "end_time": "2023-04-13T08:13:00.764387",
          "exception": false,
          "start_time": "2023-04-13T08:13:00.703598",
          "status": "completed"
        },
        "tags": [],
        "id": "77c459df"
      },
      "source": [
        "##5.9. Analisando o Atributo Localização Do Motor"
      ]
    },
    {
      "cell_type": "code",
      "execution_count": null,
      "id": "b9d08096",
      "metadata": {
        "execution": {
          "iopub.execute_input": "2023-04-13T08:13:00.889851Z",
          "iopub.status.busy": "2023-04-13T08:13:00.889349Z",
          "iopub.status.idle": "2023-04-13T08:13:01.858655Z",
          "shell.execute_reply": "2023-04-13T08:13:01.857212Z"
        },
        "papermill": {
          "duration": 1.03594,
          "end_time": "2023-04-13T08:13:01.861603",
          "exception": false,
          "start_time": "2023-04-13T08:13:00.825663",
          "status": "completed"
        },
        "tags": [],
        "id": "b9d08096",
        "outputId": "0383e537-82de-4c14-c922-cc4580a2e783",
        "colab": {
          "base_uri": "https://localhost:8080/",
          "height": 297
        }
      },
      "outputs": [
        {
          "output_type": "display_data",
          "data": {
            "text/plain": [
              "<Figure size 800x200 with 2 Axes>"
            ],
            "image/png": "[encoded data removed]"
          },
          "metadata": {}
        }
      ],
      "source": [
        "imprime_graficos(\"localizacao_motor\")"
      ]
    },
    {
      "cell_type": "markdown",
      "id": "8d4a3281",
      "metadata": {
        "papermill": {
          "duration": 0.064243,
          "end_time": "2023-04-13T08:13:02.143190",
          "exception": false,
          "start_time": "2023-04-13T08:13:02.078947",
          "status": "completed"
        },
        "tags": [],
        "id": "8d4a3281"
      },
      "source": [
        "**Insights**\n",
        "1. A maioria dos carros tem a localização do motor **na frente**.\n",
        "2. Existem **apenas 3 pontos de dados para a categoria traseira**, portanto, não podemos inferir o preço do carro quando comparado com a localização do motor.\n",
        "\n",
        "**Seleção de Atributos**\n",
        "- fabricante, tipo_combustivel, aspiracao, numero_portas, carroceria, tracao"
      ]
    },
    {
      "cell_type": "markdown",
      "id": "0b6611b7",
      "metadata": {
        "papermill": {
          "duration": 0.060026,
          "end_time": "2023-04-13T08:13:02.385133",
          "exception": false,
          "start_time": "2023-04-13T08:13:02.325107",
          "status": "completed"
        },
        "tags": [],
        "id": "0b6611b7"
      },
      "source": [
        "##5.10. Analisando o Atributo Tipo De Motor"
      ]
    },
    {
      "cell_type": "code",
      "execution_count": null,
      "id": "6ac22b30",
      "metadata": {
        "execution": {
          "iopub.execute_input": "2023-04-13T08:13:02.510838Z",
          "iopub.status.busy": "2023-04-13T08:13:02.510321Z",
          "iopub.status.idle": "2023-04-13T08:13:03.375353Z",
          "shell.execute_reply": "2023-04-13T08:13:03.374267Z"
        },
        "papermill": {
          "duration": 0.933244,
          "end_time": "2023-04-13T08:13:03.378503",
          "exception": false,
          "start_time": "2023-04-13T08:13:02.445259",
          "status": "completed"
        },
        "tags": [],
        "id": "6ac22b30",
        "outputId": "00a856e1-debf-4891-986a-c34881350459",
        "colab": {
          "base_uri": "https://localhost:8080/",
          "height": 305
        }
      },
      "outputs": [
        {
          "output_type": "display_data",
          "data": {
            "text/plain": [
              "<Figure size 800x200 with 2 Axes>"
            ],
            "image/png": "[encoded data removed]"
          },
          "metadata": {}
        }
      ],
      "source": [
        "imprime_graficos(\"tipo_motor\")"
      ]
    },
    {
      "cell_type": "markdown",
      "id": "25c760a1",
      "metadata": {
        "papermill": {
          "duration": 0.066615,
          "end_time": "2023-04-13T08:13:03.851036",
          "exception": false,
          "start_time": "2023-04-13T08:13:03.784421",
          "status": "completed"
        },
        "tags": [],
        "id": "25c760a1"
      },
      "source": [
        "**Insights**\n",
        "1. Carros com **Overhead Camshaft (OHC)** são os mais vendidos.\n",
        "2. Existem poucos ponros de dados para motores do tipo  **dohcv** & **rotor**, então vamos considerar os carros com motores do tipo **ohcv** como os mais caros.\n",
        "3. Carros com motor do tipo **Overhead Camshaft (OHC)** são os menos caros.\n",
        "\n",
        "**Seleção de Atributos**\n",
        "- fabricante, tipo_combustivel, aspiracao, numero_portas, carroceria, tracao, tipo_motor"
      ]
    },
    {
      "cell_type": "markdown",
      "id": "75a08c68",
      "metadata": {
        "papermill": {
          "duration": 0.066202,
          "end_time": "2023-04-13T08:13:04.116013",
          "exception": false,
          "start_time": "2023-04-13T08:13:04.049811",
          "status": "completed"
        },
        "tags": [],
        "id": "75a08c68"
      },
      "source": [
        "##5.11. Analisando o Atributo Número de Cilindros\n",
        "\n"
      ]
    },
    {
      "cell_type": "code",
      "execution_count": null,
      "id": "cc21f5e2",
      "metadata": {
        "execution": {
          "iopub.execute_input": "2023-04-13T08:13:04.250421Z",
          "iopub.status.busy": "2023-04-13T08:13:04.249413Z",
          "iopub.status.idle": "2023-04-13T08:13:05.095263Z",
          "shell.execute_reply": "2023-04-13T08:13:05.094349Z"
        },
        "papermill": {
          "duration": 0.917216,
          "end_time": "2023-04-13T08:13:05.098903",
          "exception": false,
          "start_time": "2023-04-13T08:13:04.181687",
          "status": "completed"
        },
        "tags": [],
        "id": "cc21f5e2",
        "outputId": "ea365f25-146f-4a1e-eab0-8177ea693a98",
        "colab": {
          "base_uri": "https://localhost:8080/",
          "height": 309
        }
      },
      "outputs": [
        {
          "output_type": "display_data",
          "data": {
            "text/plain": [
              "<Figure size 800x200 with 2 Axes>"
            ],
            "image/png": "[encoded data removed]"
          },
          "metadata": {}
        }
      ],
      "source": [
        "imprime_graficos(\"numero_cilindros\")"
      ]
    },
    {
      "cell_type": "markdown",
      "id": "829dd10f",
      "metadata": {
        "papermill": {
          "duration": 0.067899,
          "end_time": "2023-04-13T08:13:05.555789",
          "exception": false,
          "start_time": "2023-04-13T08:13:05.487890",
          "status": "completed"
        },
        "tags": [],
        "id": "829dd10f"
      },
      "source": [
        "**Insights**\n",
        "1. A maioria dos carros tem **Quatro** cilindros, seguidos por carros com **seis** cilindros.\n",
        "2. Há apenas um ponto de dados para cada carro com **Três** e **Doze** cilindros, por isso, serão desconsiderados.\n",
        "3. Carros com **oito** cilindros são os carros mais caros, seguidos por **seis** cilindros.\n",
        "\n",
        "**Seleção de Atributos**\n",
        "- fabricante, tipo_combustivel, aspiracao, numero_portas, carroceria, tracao, tipo_motor, numero_cilindros"
      ]
    },
    {
      "cell_type": "markdown",
      "id": "a5e60338",
      "metadata": {
        "papermill": {
          "duration": 0.069282,
          "end_time": "2023-04-13T08:13:05.830478",
          "exception": false,
          "start_time": "2023-04-13T08:13:05.761196",
          "status": "completed"
        },
        "tags": [],
        "id": "a5e60338"
      },
      "source": [
        "##5.12. Analisando o Atributo Sistema de Combustivel"
      ]
    },
    {
      "cell_type": "code",
      "execution_count": null,
      "id": "a09724ca",
      "metadata": {
        "execution": {
          "iopub.execute_input": "2023-04-13T08:13:05.971869Z",
          "iopub.status.busy": "2023-04-13T08:13:05.970506Z",
          "iopub.status.idle": "2023-04-13T08:13:06.838109Z",
          "shell.execute_reply": "2023-04-13T08:13:06.836843Z"
        },
        "papermill": {
          "duration": 0.940918,
          "end_time": "2023-04-13T08:13:06.840925",
          "exception": false,
          "start_time": "2023-04-13T08:13:05.900007",
          "status": "completed"
        },
        "tags": [],
        "id": "a09724ca",
        "outputId": "cf2050cb-2dde-43a3-dfd1-bfc6a826ff00",
        "colab": {
          "base_uri": "https://localhost:8080/",
          "height": 295
        }
      },
      "outputs": [
        {
          "output_type": "display_data",
          "data": {
            "text/plain": [
              "<Figure size 800x200 with 2 Axes>"
            ],
            "image/png": "[encoded data removed]"
          },
          "metadata": {}
        }
      ],
      "source": [
        "imprime_graficos(\"sistema_combustivel\")"
      ]
    },
    {
      "cell_type": "markdown",
      "id": "4dcd2e25",
      "metadata": {
        "papermill": {
          "duration": 0.071128,
          "end_time": "2023-04-13T08:13:07.334243",
          "exception": false,
          "start_time": "2023-04-13T08:13:07.263115",
          "status": "completed"
        },
        "tags": [],
        "id": "4dcd2e25"
      },
      "source": [
        "**Insight**\n",
        "1. A maioria dos carros tem sistemas de combustível **mpfi** e **2bbl**.\n",
        "2. Os carros com sistema de combustível **mpfi** são os carros caros, seguidos pelos carros com sistema de combustível **idi**.\n",
        "3. Há apenas um ponto de dados para cada carro com sistema de combustível **mfi** e **spfi**. Assim, não podemos fazer qualquer outra inferência.\n",
        "\n",
        "\n",
        "**Seleção de Atributos**\n",
        "- fabricante, tipo_combustivel, aspiracao, numero_portas, carroceria, tracao, tipo_motor, numero_cilindros, sistema_combustivel"
      ]
    },
    {
      "cell_type": "markdown",
      "id": "c43596d4",
      "metadata": {
        "papermill": {
          "duration": 0.072657,
          "end_time": "2023-04-13T08:13:07.620663",
          "exception": false,
          "start_time": "2023-04-13T08:13:07.548006",
          "status": "completed"
        },
        "tags": [],
        "id": "c43596d4"
      },
      "source": [
        "##5.13. Analisando o Atributo Segurança"
      ]
    },
    {
      "cell_type": "markdown",
      "id": "fd0c282b",
      "metadata": {
        "papermill": {
          "duration": 0.072795,
          "end_time": "2023-04-13T08:13:07.766027",
          "exception": false,
          "start_time": "2023-04-13T08:13:07.693232",
          "status": "completed"
        },
        "tags": [],
        "id": "fd0c282b"
      },
      "source": [
        "1. O **symboling** representa o grau em que o carro é mais arriscado do que seu preço sugere.\n",
        "2. **Varia de -3 a +3**, com valores negativos mais altos indicando maior risco e valores positivos mais altos indicando menor risco.\n",
        "3. Em outras palavras, um carro com um symboling de **-3** é considerado **mais arriscado** do que um carro com um símbolo de +3 e provavelmente terá um preço **menor** como resultado ."
      ]
    },
    {
      "cell_type": "code",
      "execution_count": null,
      "id": "66613c0f",
      "metadata": {
        "execution": {
          "iopub.execute_input": "2023-04-13T08:13:07.916569Z",
          "iopub.status.busy": "2023-04-13T08:13:07.915249Z",
          "iopub.status.idle": "2023-04-13T08:13:08.752852Z",
          "shell.execute_reply": "2023-04-13T08:13:08.751799Z"
        },
        "papermill": {
          "duration": 0.916688,
          "end_time": "2023-04-13T08:13:08.756222",
          "exception": false,
          "start_time": "2023-04-13T08:13:07.839534",
          "status": "completed"
        },
        "tags": [],
        "id": "66613c0f",
        "outputId": "0fe9d9ba-eb17-443f-9b77-b987a5288851",
        "colab": {
          "base_uri": "https://localhost:8080/",
          "height": 277
        }
      },
      "outputs": [
        {
          "output_type": "display_data",
          "data": {
            "text/plain": [
              "<Figure size 800x200 with 2 Axes>"
            ],
            "image/png": "[encoded data removed]"
          },
          "metadata": {}
        }
      ],
      "source": [
        "imprime_graficos(\"seguranca\")"
      ]
    },
    {
      "cell_type": "markdown",
      "id": "7dfe08c0",
      "metadata": {
        "papermill": {
          "duration": 0.074574,
          "end_time": "2023-04-13T08:13:08.907227",
          "exception": false,
          "start_time": "2023-04-13T08:13:08.832653",
          "status": "completed"
        },
        "tags": [],
        "id": "7dfe08c0"
      },
      "source": [
        "**Insights**\n",
        "1. Podemos observar claramente que carros com os símbolos **0** ou **1** são os preferidos.\n",
        "2. Também podemos observar que os símbolos **-1, 0, 3** são caros.\n",
        "\n",
        "**Seleção de Atributos**\n",
        "- fabricante, tipo_combustivel, aspiracao, numero_portas, carroceria, tracao, tipo_motor, numero_cilindros, seguranca"
      ]
    },
    {
      "cell_type": "markdown",
      "source": [
        "##5.14. Análise de Variáveis Numéricas (Quantitativas)"
      ],
      "metadata": {
        "id": "-wMik2vUiViD"
      },
      "id": "-wMik2vUiViD"
    },
    {
      "cell_type": "markdown",
      "source": [
        "**Criando a função de impressão dos gráficos de dispersão**"
      ],
      "metadata": {
        "id": "onc-9wLQtqcj"
      },
      "id": "onc-9wLQtqcj"
    },
    {
      "cell_type": "code",
      "source": [
        "def imprime_scatter(colunas, qtd_colunas = 3):\n",
        "\n",
        "    num_colunas = len(colunas)\n",
        "    if num_colunas % qtd_colunas > 0:\n",
        "        num_linhas = int(num_colunas/qtd_colunas) + 1\n",
        "    else:\n",
        "        num_linhas = int(num_colunas/qtd_colunas)\n",
        "    altura_figura = 4 * num_linhas\n",
        "    fig, a = plt.subplots(num_linhas,qtd_colunas, figsize=(12,altura_figura))\n",
        "    posicao = 0\n",
        "    for coluna in colunas:\n",
        "        posicao_linha = posicao % qtd_colunas\n",
        "        posicao_coluna = int(posicao / qtd_colunas)\n",
        "        df[[coluna, 'preco']].plot(kind='scatter', x = coluna, y = 'preco',\n",
        "                                ax=a[posicao_coluna][posicao_linha],\n",
        "                                subplots=True)\n",
        "\n",
        "        posicao += 1\n",
        "\n"
      ],
      "metadata": {
        "id": "9dhTtR3jwOcp"
      },
      "id": "9dhTtR3jwOcp",
      "execution_count": null,
      "outputs": []
    },
    {
      "cell_type": "code",
      "source": [
        "df.info()"
      ],
      "metadata": {
        "id": "ETGSAJoCt0PL",
        "colab": {
          "base_uri": "https://localhost:8080/"
        },
        "outputId": "e3af0590-c7ba-4c87-cc51-72eb82f05e8d"
      },
      "id": "ETGSAJoCt0PL",
      "execution_count": null,
      "outputs": [
        {
          "output_type": "stream",
          "name": "stdout",
          "text": [
            "<class 'pandas.core.frame.DataFrame'>\n",
            "RangeIndex: 205 entries, 0 to 204\n",
            "Data columns (total 27 columns):\n",
            " #   Column                  Non-Null Count  Dtype  \n",
            "---  ------                  --------------  -----  \n",
            " 0   carro_id                205 non-null    int64  \n",
            " 1   seguranca               205 non-null    int64  \n",
            " 2   fabricante              205 non-null    object \n",
            " 3   modelo                  205 non-null    object \n",
            " 4   tipo_combustivel        205 non-null    object \n",
            " 5   aspiracao               205 non-null    object \n",
            " 6   numero_portas           205 non-null    object \n",
            " 7   carroceria              205 non-null    object \n",
            " 8   tracao                  205 non-null    object \n",
            " 9   localizacao_motor       205 non-null    object \n",
            " 10  distancia_entre_ eixos  205 non-null    float64\n",
            " 11  comprimento_veiculo     205 non-null    float64\n",
            " 12  largura_veiculo         205 non-null    float64\n",
            " 13  altura_veiculo          205 non-null    float64\n",
            " 14  peso_veiculo            205 non-null    int64  \n",
            " 15  tipo_motor              205 non-null    object \n",
            " 16  numero_cilindros        205 non-null    object \n",
            " 17  tamanho_motor           205 non-null    int64  \n",
            " 18  sistema_combustivel     205 non-null    object \n",
            " 19  diametro_cilindro       205 non-null    float64\n",
            " 20  distancia_pistao        205 non-null    float64\n",
            " 21  taxa_compressao         205 non-null    float64\n",
            " 22  potencia                205 non-null    int64  \n",
            " 23  rpm_max                 205 non-null    int64  \n",
            " 24  rpm_cidade              205 non-null    int64  \n",
            " 25  rpm_estrada             205 non-null    int64  \n",
            " 26  preco                   205 non-null    float64\n",
            "dtypes: float64(8), int64(8), object(11)\n",
            "memory usage: 43.4+ KB\n"
          ]
        }
      ]
    },
    {
      "cell_type": "code",
      "execution_count": null,
      "id": "8f087fa1",
      "metadata": {
        "execution": {
          "iopub.execute_input": "2023-04-13T08:13:09.521013Z",
          "iopub.status.busy": "2023-04-13T08:13:09.519938Z",
          "iopub.status.idle": "2023-04-13T08:13:10.486411Z",
          "shell.execute_reply": "2023-04-13T08:13:10.484898Z"
        },
        "papermill": {
          "duration": 1.046718,
          "end_time": "2023-04-13T08:13:10.490294",
          "exception": false,
          "start_time": "2023-04-13T08:13:09.443576",
          "status": "completed"
        },
        "tags": [],
        "id": "8f087fa1",
        "outputId": "d0a9757d-57e4-4ad2-9feb-1428c1b8dbc0",
        "colab": {
          "base_uri": "https://localhost:8080/",
          "height": 1000
        }
      },
      "outputs": [
        {
          "output_type": "display_data",
          "data": {
            "text/plain": [
              "<Figure size 1200x2800 with 14 Axes>"
            ],
            "image/png": "[encoded data removed]"
          },
          "metadata": {}
        }
      ],
      "source": [
        "imprime_scatter([\"distancia_entre_ eixos\",\"comprimento_veiculo\",\"largura_veiculo\",\"altura_veiculo\",\n",
        "                 \"peso_veiculo\",\"tamanho_motor\",\"diametro_cilindro\",\"distancia_pistao\",\"taxa_compressao\", \"potencia\",\n",
        "                 \"rpm_max\", \"rpm_cidade\", \"rpm_estrada\"], qtd_colunas = 2)"
      ]
    },
    {
      "cell_type": "markdown",
      "id": "2aab006a",
      "metadata": {
        "papermill": {
          "duration": 0.072234,
          "end_time": "2023-04-13T08:13:10.636514",
          "exception": false,
          "start_time": "2023-04-13T08:13:10.564280",
          "status": "completed"
        },
        "tags": [],
        "id": "2aab006a"
      },
      "source": [
        "**Insights**\n",
        "1. Os atributos **largura_veiculo**, **comprimento_veiculo**, **distancia_entre_eixos**, **peso_veiculo**, **tamanho_motor**, **potencia** são altamente correlacionadas com o preço, vez que uma aumento nestas variáveis levam a um aumento do preço\n",
        "\n",
        "2. Apesar de ter alguma dispersão, peecebe-se uma tendência leve de aumento de preço com aumento das variáveis **diametro_cilindro**\n",
        "\n",
        "3. Os atributos **rpm_cidade** e **rpm_estrada** apresentam correlação negativa, ou seja, quando há uma redução do seu valor, há um aumento de preço.\n",
        "\n",
        "4. Os pontos de dados de **altura_veiculo**, **distancia_pistao** **taxa_compressao**, **rpm_max** estão bem distribuidos, o que impede que se faça uma inferência - estas variáveis podem ser eliminadas.\n",
        "\n",
        "\n",
        "**Seleção de Atributos**\n",
        "- largura_veiculo, comprimento_veiculo, distancia_entre_eixos, peso_veiculo, tamanho_motor, potencia, diametro_cilindro, rpm_cidade, rpm_estrada\n",
        "\n"
      ]
    },
    {
      "cell_type": "markdown",
      "id": "b4186542",
      "metadata": {
        "papermill": {
          "duration": 0.105351,
          "end_time": "2023-04-13T08:13:17.595352",
          "exception": false,
          "start_time": "2023-04-13T08:13:17.490001",
          "status": "completed"
        },
        "tags": [],
        "id": "b4186542"
      },
      "source": [
        "## 5.15. Lista de todos os atributos úteis"
      ]
    },
    {
      "cell_type": "markdown",
      "id": "12ac5832",
      "metadata": {
        "papermill": {
          "duration": 0.085972,
          "end_time": "2023-04-13T08:13:17.774503",
          "exception": false,
          "start_time": "2023-04-13T08:13:17.688531",
          "status": "completed"
        },
        "tags": [],
        "id": "12ac5832"
      },
      "source": [
        "**Seleção de Atributos Numéricos**\n",
        "- largura_veiculo, comprimento_veiculo, distancia_entre_eixos, peso_veiculo, tamanho_motor, potencia, diametro_cilindro, rpm_cidade, rpm_estrada\n",
        "\n",
        "**Seleção de Atributos Categóricos**\n",
        "- fabricante, tipo_combustivel, aspiracao, numero_portas, carroceria, tracao, tipo_motor, numero_cilindros, seguranca.\n",
        "\n",
        "**Seleção de Atributo Alvo**\n",
        "- preco"
      ]
    },
    {
      "cell_type": "markdown",
      "id": "342483e2",
      "metadata": {
        "papermill": {
          "duration": 0.085922,
          "end_time": "2023-04-13T08:13:19.751924",
          "exception": false,
          "start_time": "2023-04-13T08:13:19.666002",
          "status": "completed"
        },
        "tags": [],
        "id": "342483e2"
      },
      "source": [
        "# 6. Criar e Salvar o Novo Conjunto com Atributos Selecionados"
      ]
    },
    {
      "cell_type": "code",
      "execution_count": null,
      "id": "07ed3e18",
      "metadata": {
        "execution": {
          "iopub.execute_input": "2023-04-13T08:13:19.929762Z",
          "iopub.status.busy": "2023-04-13T08:13:19.929213Z",
          "iopub.status.idle": "2023-04-13T08:13:19.938722Z",
          "shell.execute_reply": "2023-04-13T08:13:19.937418Z"
        },
        "papermill": {
          "duration": 0.101664,
          "end_time": "2023-04-13T08:13:19.941303",
          "exception": false,
          "start_time": "2023-04-13T08:13:19.839639",
          "status": "completed"
        },
        "tags": [],
        "id": "07ed3e18"
      },
      "outputs": [],
      "source": [
        "new_df = df[['largura_veiculo', 'comprimento_veiculo', 'distancia_entre_ eixos', 'peso_veiculo', 'tamanho_motor', 'potencia',\n",
        "             'diametro_cilindro', 'rpm_cidade', 'rpm_estrada','fabricante', 'tipo_combustivel', 'aspiracao', 'numero_portas',\n",
        "             'carroceria', 'tracao', 'tipo_motor', 'numero_cilindros', 'seguranca', 'preco']]\n",
        "\n",
        "\n",
        "\n",
        "\n",
        "\n",
        "\n"
      ]
    },
    {
      "cell_type": "code",
      "execution_count": null,
      "id": "a21bbfdd",
      "metadata": {
        "execution": {
          "iopub.execute_input": "2023-04-13T08:13:20.120870Z",
          "iopub.status.busy": "2023-04-13T08:13:20.119767Z",
          "iopub.status.idle": "2023-04-13T08:13:20.145717Z",
          "shell.execute_reply": "2023-04-13T08:13:20.144214Z"
        },
        "papermill": {
          "duration": 0.117436,
          "end_time": "2023-04-13T08:13:20.148401",
          "exception": false,
          "start_time": "2023-04-13T08:13:20.030965",
          "status": "completed"
        },
        "tags": [],
        "id": "a21bbfdd",
        "outputId": "60ee2c22-0cf3-4616-d313-ebcfe8bf7dfc",
        "colab": {
          "base_uri": "https://localhost:8080/",
          "height": 150
        }
      },
      "outputs": [
        {
          "output_type": "execute_result",
          "data": {
            "text/plain": [
              "   largura_veiculo  comprimento_veiculo  distancia_entre_ eixos  peso_veiculo  \\\n",
              "0             64.1                168.8                    88.6          2548   \n",
              "1             64.1                168.8                    88.6          2548   \n",
              "\n",
              "   tamanho_motor  potencia  diametro_cilindro  rpm_cidade  rpm_estrada  \\\n",
              "0            130       111               3.47          21           27   \n",
              "1            130       111               3.47          21           27   \n",
              "\n",
              "    fabricante tipo_combustivel aspiracao numero_portas   carroceria tracao  \\\n",
              "0  alfa-romero              gas       std           two  convertible    rwd   \n",
              "1  alfa-romero              gas       std           two  convertible    rwd   \n",
              "\n",
              "  tipo_motor numero_cilindros  seguranca    preco  \n",
              "0       dohc             four          3  13495.0  \n",
              "1       dohc             four          3  16500.0  "
            ],
            "text/html": [
              "\n",
              "  <div id=\"df-329e1480-d8ca-42b5-8ec3-62814fea3890\" class=\"colab-df-container\">\n",
              "    <div>\n",
              "<style scoped>\n",
              "    .dataframe tbody tr th:only-of-type {\n",
              "        vertical-align: middle;\n",
              "    }\n",
              "\n",
              "    .dataframe tbody tr th {\n",
              "        vertical-align: top;\n",
              "    }\n",
              "\n",
              "    .dataframe thead th {\n",
              "        text-align: right;\n",
              "    }\n",
              "</style>\n",
              "<table border=\"1\" class=\"dataframe\">\n",
              "  <thead>\n",
              "    <tr style=\"text-align: right;\">\n",
              "      <th></th>\n",
              "      <th>largura_veiculo</th>\n",
              "      <th>comprimento_veiculo</th>\n",
              "      <th>distancia_entre_ eixos</th>\n",
              "      <th>peso_veiculo</th>\n",
              "      <th>tamanho_motor</th>\n",
              "      <th>potencia</th>\n",
              "      <th>diametro_cilindro</th>\n",
              "      <th>rpm_cidade</th>\n",
              "      <th>rpm_estrada</th>\n",
              "      <th>fabricante</th>\n",
              "      <th>tipo_combustivel</th>\n",
              "      <th>aspiracao</th>\n",
              "      <th>numero_portas</th>\n",
              "      <th>carroceria</th>\n",
              "      <th>tracao</th>\n",
              "      <th>tipo_motor</th>\n",
              "      <th>numero_cilindros</th>\n",
              "      <th>seguranca</th>\n",
              "      <th>preco</th>\n",
              "    </tr>\n",
              "  </thead>\n",
              "  <tbody>\n",
              "    <tr>\n",
              "      <th>0</th>\n",
              "      <td>64.1</td>\n",
              "      <td>168.8</td>\n",
              "      <td>88.6</td>\n",
              "      <td>2548</td>\n",
              "      <td>130</td>\n",
              "      <td>111</td>\n",
              "      <td>3.47</td>\n",
              "      <td>21</td>\n",
              "      <td>27</td>\n",
              "      <td>alfa-romero</td>\n",
              "      <td>gas</td>\n",
              "      <td>std</td>\n",
              "      <td>two</td>\n",
              "      <td>convertible</td>\n",
              "      <td>rwd</td>\n",
              "      <td>dohc</td>\n",
              "      <td>four</td>\n",
              "      <td>3</td>\n",
              "      <td>13495.0</td>\n",
              "    </tr>\n",
              "    <tr>\n",
              "      <th>1</th>\n",
              "      <td>64.1</td>\n",
              "      <td>168.8</td>\n",
              "      <td>88.6</td>\n",
              "      <td>2548</td>\n",
              "      <td>130</td>\n",
              "      <td>111</td>\n",
              "      <td>3.47</td>\n",
              "      <td>21</td>\n",
              "      <td>27</td>\n",
              "      <td>alfa-romero</td>\n",
              "      <td>gas</td>\n",
              "      <td>std</td>\n",
              "      <td>two</td>\n",
              "      <td>convertible</td>\n",
              "      <td>rwd</td>\n",
              "      <td>dohc</td>\n",
              "      <td>four</td>\n",
              "      <td>3</td>\n",
              "      <td>16500.0</td>\n",
              "    </tr>\n",
              "  </tbody>\n",
              "</table>\n",
              "</div>\n",
              "    <div class=\"colab-df-buttons\">\n",
              "\n",
              "  <div class=\"colab-df-container\">\n",
              "    <button class=\"colab-df-convert\" onclick=\"convertToInteractive('df-329e1480-d8ca-42b5-8ec3-62814fea3890')\"\n",
              "            title=\"Convert this dataframe to an interactive table.\"\n",
              "            style=\"display:none;\">\n",
              "\n",
              "  <svg xmlns=\"http://www.w3.org/2000/svg\" height=\"24px\" viewBox=\"0 -960 960 960\">\n",
              "    <path d=\"M120-120v-720h720v720H120Zm60-500h600v-160H180v160Zm220 220h160v-160H400v160Zm0 220h160v-160H400v160ZM180-400h160v-160H180v160Zm440 0h160v-160H620v160ZM180-180h160v-160H180v160Zm440 0h160v-160H620v160Z\"/>\n",
              "  </svg>\n",
              "    </button>\n",
              "\n",
              "  <style>\n",
              "    .colab-df-container {\n",
              "      display:flex;\n",
              "      gap: 12px;\n",
              "    }\n",
              "\n",
              "    .colab-df-convert {\n",
              "      background-color: #E8F0FE;\n",
              "      border: none;\n",
              "      border-radius: 50%;\n",
              "      cursor: pointer;\n",
              "      display: none;\n",
              "      fill: #1967D2;\n",
              "      height: 32px;\n",
              "      padding: 0 0 0 0;\n",
              "      width: 32px;\n",
              "    }\n",
              "\n",
              "    .colab-df-convert:hover {\n",
              "      background-color: #E2EBFA;\n",
              "      box-shadow: 0px 1px 2px rgba(60, 64, 67, 0.3), 0px 1px 3px 1px rgba(60, 64, 67, 0.15);\n",
              "      fill: #174EA6;\n",
              "    }\n",
              "\n",
              "    .colab-df-buttons div {\n",
              "      margin-bottom: 4px;\n",
              "    }\n",
              "\n",
              "    [theme=dark] .colab-df-convert {\n",
              "      background-color: #3B4455;\n",
              "      fill: #D2E3FC;\n",
              "    }\n",
              "\n",
              "    [theme=dark] .colab-df-convert:hover {\n",
              "      background-color: #434B5C;\n",
              "      box-shadow: 0px 1px 3px 1px rgba(0, 0, 0, 0.15);\n",
              "      filter: drop-shadow(0px 1px 2px rgba(0, 0, 0, 0.3));\n",
              "      fill: #FFFFFF;\n",
              "    }\n",
              "  </style>\n",
              "\n",
              "    <script>\n",
              "      const buttonEl =\n",
              "        document.querySelector('#df-329e1480-d8ca-42b5-8ec3-62814fea3890 button.colab-df-convert');\n",
              "      buttonEl.style.display =\n",
              "        google.colab.kernel.accessAllowed ? 'block' : 'none';\n",
              "\n",
              "      async function convertToInteractive(key) {\n",
              "        const element = document.querySelector('#df-329e1480-d8ca-42b5-8ec3-62814fea3890');\n",
              "        const dataTable =\n",
              "          await google.colab.kernel.invokeFunction('convertToInteractive',\n",
              "                                                    [key], {});\n",
              "        if (!dataTable) return;\n",
              "\n",
              "        const docLinkHtml = 'Like what you see? Visit the ' +\n",
              "          '<a target=\"_blank\" href=https://colab.research.google.com/notebooks/data_table.ipynb>data table notebook</a>'\n",
              "          + ' to learn more about interactive tables.';\n",
              "        element.innerHTML = '';\n",
              "        dataTable['output_type'] = 'display_data';\n",
              "        await google.colab.output.renderOutput(dataTable, element);\n",
              "        const docLink = document.createElement('div');\n",
              "        docLink.innerHTML = docLinkHtml;\n",
              "        element.appendChild(docLink);\n",
              "      }\n",
              "    </script>\n",
              "  </div>\n",
              "\n",
              "\n",
              "<div id=\"df-27f8a697-0a66-402b-aa05-ea35ad8c8513\">\n",
              "  <button class=\"colab-df-quickchart\" onclick=\"quickchart('df-27f8a697-0a66-402b-aa05-ea35ad8c8513')\"\n",
              "            title=\"Suggest charts\"\n",
              "            style=\"display:none;\">\n",
              "\n",
              "<svg xmlns=\"http://www.w3.org/2000/svg\" height=\"24px\"viewBox=\"0 0 24 24\"\n",
              "     width=\"24px\">\n",
              "    <g>\n",
              "        <path d=\"M19 3H5c-1.1 0-2 .9-2 2v14c0 1.1.9 2 2 2h14c1.1 0 2-.9 2-2V5c0-1.1-.9-2-2-2zM9 17H7v-7h2v7zm4 0h-2V7h2v10zm4 0h-2v-4h2v4z\"/>\n",
              "    </g>\n",
              "</svg>\n",
              "  </button>\n",
              "\n",
              "<style>\n",
              "  .colab-df-quickchart {\n",
              "      --bg-color: #E8F0FE;\n",
              "      --fill-color: #1967D2;\n",
              "      --hover-bg-color: #E2EBFA;\n",
              "      --hover-fill-color: #174EA6;\n",
              "      --disabled-fill-color: #AAA;\n",
              "      --disabled-bg-color: #DDD;\n",
              "  }\n",
              "\n",
              "  [theme=dark] .colab-df-quickchart {\n",
              "      --bg-color: #3B4455;\n",
              "      --fill-color: #D2E3FC;\n",
              "      --hover-bg-color: #434B5C;\n",
              "      --hover-fill-color: #FFFFFF;\n",
              "      --disabled-bg-color: #3B4455;\n",
              "      --disabled-fill-color: #666;\n",
              "  }\n",
              "\n",
              "  .colab-df-quickchart {\n",
              "    background-color: var(--bg-color);\n",
              "    border: none;\n",
              "    border-radius: 50%;\n",
              "    cursor: pointer;\n",
              "    display: none;\n",
              "    fill: var(--fill-color);\n",
              "    height: 32px;\n",
              "    padding: 0;\n",
              "    width: 32px;\n",
              "  }\n",
              "\n",
              "  .colab-df-quickchart:hover {\n",
              "    background-color: var(--hover-bg-color);\n",
              "    box-shadow: 0 1px 2px rgba(60, 64, 67, 0.3), 0 1px 3px 1px rgba(60, 64, 67, 0.15);\n",
              "    fill: var(--button-hover-fill-color);\n",
              "  }\n",
              "\n",
              "  .colab-df-quickchart-complete:disabled,\n",
              "  .colab-df-quickchart-complete:disabled:hover {\n",
              "    background-color: var(--disabled-bg-color);\n",
              "    fill: var(--disabled-fill-color);\n",
              "    box-shadow: none;\n",
              "  }\n",
              "\n",
              "  .colab-df-spinner {\n",
              "    border: 2px solid var(--fill-color);\n",
              "    border-color: transparent;\n",
              "    border-bottom-color: var(--fill-color);\n",
              "    animation:\n",
              "      spin 1s steps(1) infinite;\n",
              "  }\n",
              "\n",
              "  @keyframes spin {\n",
              "    0% {\n",
              "      border-color: transparent;\n",
              "      border-bottom-color: var(--fill-color);\n",
              "      border-left-color: var(--fill-color);\n",
              "    }\n",
              "    20% {\n",
              "      border-color: transparent;\n",
              "      border-left-color: var(--fill-color);\n",
              "      border-top-color: var(--fill-color);\n",
              "    }\n",
              "    30% {\n",
              "      border-color: transparent;\n",
              "      border-left-color: var(--fill-color);\n",
              "      border-top-color: var(--fill-color);\n",
              "      border-right-color: var(--fill-color);\n",
              "    }\n",
              "    40% {\n",
              "      border-color: transparent;\n",
              "      border-right-color: var(--fill-color);\n",
              "      border-top-color: var(--fill-color);\n",
              "    }\n",
              "    60% {\n",
              "      border-color: transparent;\n",
              "      border-right-color: var(--fill-color);\n",
              "    }\n",
              "    80% {\n",
              "      border-color: transparent;\n",
              "      border-right-color: var(--fill-color);\n",
              "      border-bottom-color: var(--fill-color);\n",
              "    }\n",
              "    90% {\n",
              "      border-color: transparent;\n",
              "      border-bottom-color: var(--fill-color);\n",
              "    }\n",
              "  }\n",
              "</style>\n",
              "\n",
              "  <script>\n",
              "    async function quickchart(key) {\n",
              "      const quickchartButtonEl =\n",
              "        document.querySelector('#' + key + ' button');\n",
              "      quickchartButtonEl.disabled = true;  // To prevent multiple clicks.\n",
              "      quickchartButtonEl.classList.add('colab-df-spinner');\n",
              "      try {\n",
              "        const charts = await google.colab.kernel.invokeFunction(\n",
              "            'suggestCharts', [key], {});\n",
              "      } catch (error) {\n",
              "        console.error('Error during call to suggestCharts:', error);\n",
              "      }\n",
              "      quickchartButtonEl.classList.remove('colab-df-spinner');\n",
              "      quickchartButtonEl.classList.add('colab-df-quickchart-complete');\n",
              "    }\n",
              "    (() => {\n",
              "      let quickchartButtonEl =\n",
              "        document.querySelector('#df-27f8a697-0a66-402b-aa05-ea35ad8c8513 button');\n",
              "      quickchartButtonEl.style.display =\n",
              "        google.colab.kernel.accessAllowed ? 'block' : 'none';\n",
              "    })();\n",
              "  </script>\n",
              "</div>\n",
              "    </div>\n",
              "  </div>\n"
            ]
          },
          "metadata": {},
          "execution_count": 64
        }
      ],
      "source": [
        "new_df.head(2)"
      ]
    },
    {
      "cell_type": "code",
      "source": [
        "from google.colab import drive\n",
        "drive.mount('/content/drive')"
      ],
      "metadata": {
        "colab": {
          "base_uri": "https://localhost:8080/"
        },
        "id": "fwCV56cz8Sy_",
        "outputId": "2e348b5b-7139-4dab-fd1e-73e312532b78"
      },
      "id": "fwCV56cz8Sy_",
      "execution_count": null,
      "outputs": [
        {
          "output_type": "stream",
          "name": "stdout",
          "text": [
            "Mounted at /content/drive\n"
          ]
        }
      ]
    },
    {
      "cell_type": "code",
      "source": [
        "new_df.to_csv('/content/drive/MyDrive/dados_veiculos.csv', index=False)"
      ],
      "metadata": {
        "id": "G2FKHNv15UdD"
      },
      "id": "G2FKHNv15UdD",
      "execution_count": null,
      "outputs": []
    },
    {
      "cell_type": "code",
      "source": [
        "!head -10 /content/drive/MyDrive/dados_veiculos.csv"
      ],
      "metadata": {
        "colab": {
          "base_uri": "https://localhost:8080/"
        },
        "id": "DBcPhGSu8uK2",
        "outputId": "dc0d4717-8577-446a-800a-2c3807ca01a9"
      },
      "id": "DBcPhGSu8uK2",
      "execution_count": null,
      "outputs": [
        {
          "output_type": "stream",
          "name": "stdout",
          "text": [
            "largura_veiculo,comprimento_veiculo,distancia_entre_ eixos,peso_veiculo,tamanho_motor,potencia,diametro_cilindro,rpm_cidade,rpm_estrada,fabricante,tipo_combustivel,aspiracao,numero_portas,carroceria,tracao,tipo_motor,numero_cilindros,seguranca,preco\n",
            "64.1,168.8,88.6,2548,130,111,3.47,21,27,alfa-romero,gas,std,two,convertible,rwd,dohc,four,3,13495.0\n",
            "64.1,168.8,88.6,2548,130,111,3.47,21,27,alfa-romero,gas,std,two,convertible,rwd,dohc,four,3,16500.0\n",
            "65.5,171.2,94.5,2823,152,154,2.68,19,26,alfa-romero,gas,std,two,hatchback,rwd,ohcv,six,1,16500.0\n",
            "66.2,176.6,99.8,2337,109,102,3.19,24,30,audi,gas,std,four,sedan,fwd,ohc,four,2,13950.0\n",
            "66.4,176.6,99.4,2824,136,115,3.19,18,22,audi,gas,std,four,sedan,4wd,ohc,five,2,17450.0\n",
            "66.3,177.3,99.8,2507,136,110,3.19,19,25,audi,gas,std,two,sedan,fwd,ohc,five,2,15250.0\n",
            "71.4,192.7,105.8,2844,136,110,3.19,19,25,audi,gas,std,four,sedan,fwd,ohc,five,1,17710.0\n",
            "71.4,192.7,105.8,2954,136,110,3.19,19,25,audi,gas,std,four,wagon,fwd,ohc,five,1,18920.0\n",
            "71.4,192.7,105.8,3086,131,140,3.13,17,20,audi,gas,turbo,four,sedan,fwd,ohc,five,1,23875.0\n"
          ]
        }
      ]
    }
  ],
  "metadata": {
    "kernelspec": {
      "display_name": "Python 3",
      "language": "python",
      "name": "python3"
    },
    "language_info": {
      "codemirror_mode": {
        "name": "ipython",
        "version": 3
      },
      "file_extension": ".py",
      "mimetype": "text/x-python",
      "name": "python",
      "nbconvert_exporter": "python",
      "pygments_lexer": "ipython3",
      "version": "3.7.12"
    },
    "papermill": {
      "default_parameters": {},
      "duration": 63.968863,
      "end_time": "2023-04-13T08:13:35.046512",
      "environment_variables": {},
      "exception": null,
      "input_path": "__notebook__.ipynb",
      "output_path": "__notebook__.ipynb",
      "parameters": {},
      "start_time": "2023-04-13T08:12:31.077649",
      "version": "2.4.0"
    },
    "colab": {
      "provenance": [],
      "include_colab_link": true
    }
  },
  "nbformat": 4,
  "nbformat_minor": 5
}