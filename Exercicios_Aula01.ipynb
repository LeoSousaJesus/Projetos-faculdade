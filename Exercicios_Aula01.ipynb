{
  "nbformat": 4,
  "nbformat_minor": 0,
  "metadata": {
    "colab": {
      "provenance": []
    },
    "kernelspec": {
      "name": "python3",
      "display_name": "Python 3"
    },
    "language_info": {
      "name": "python"
    }
  },
  "cells": [
    {
      "cell_type": "markdown",
      "source": [
        "2.2.1.1. Atividade Prática de Atribuição de Variáveis\n",
        "Crie uma variável de nome 'nome_loja', que recebe o valor a partir de uma requisição do usuário\n",
        "Crie uma variável de nome 'marca' e uma outra de nome 'modelo', que recebem, através de uma associação múltipla, valores de entrada capturados de requisições de usuários\n",
        "Apresente na tela as informações coletadas, conforme imagem abaixo:"
      ],
      "metadata": {
        "id": "xpFCBfoRcc2t"
      }
    },
    {
      "cell_type": "markdown",
      "source": [
        "![Imagemexerciciopy.png](data:image/png;base64,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)"
      ],
      "metadata": {
        "id": "gRr_18DPc9DV"
      }
    },
    {
      "cell_type": "code",
      "source": [
        "nome_loja = input (\"Digite o nome da loja: \")\n",
        "marca_veiculo, modelo_veiculo = input('Digite a marca do veículo:  '), input('Digite o modelo do veículo: ')\n",
        "print (nome_loja)\n",
        "print (marca_veiculo, modelo_veiculo)"
      ],
      "metadata": {
        "colab": {
          "base_uri": "https://localhost:8080/"
        },
        "id": "81TLHzKzdfjY",
        "outputId": "57f4758f-62c0-4e34-81e6-bb6b48ff86a8"
      },
      "execution_count": 4,
      "outputs": [
        {
          "output_type": "stream",
          "name": "stdout",
          "text": [
            "Digite o nome da loja: Multimarcas\n",
            "Digite a marca do veículo:  VW\n",
            "Digite o modelo do veículo: Polo\n",
            "Multimarcas\n",
            "VW Polo\n"
          ]
        }
      ]
    },
    {
      "cell_type": "markdown",
      "source": [
        "2.2.2 Boas práticas na criação de Variáveis\n",
        "Ao se criar variáveis, algumas regras devem ser observadas como, por exemplo:\n",
        "\n",
        "Os nomes de variáveis devem conter apenas letras, números e \"underlines\".\n",
        "Variáveis podem ser iniciadas apenas por uma letra ou por underline.\n",
        "Não utilize palavras chaves da linguagem como variáveis.\n",
        "Além disto, algumas boas práticas devem ser seguidas, a exemplo de:\n",
        "\n",
        "Os nomes das variáveis devem ser curtos, mas descritivos.\n",
        "Os nomes das variáveis costumam ser escritos em letras minúsculas, com palavras separadas por sublinhados conforme necessário para melhorar a legibilidade.\n",
        "Tenha cuidado ao usar a letra l minúscula e a letra O maiúscula, pois elas podem ser confundidas com os números 1 e 0."
      ],
      "metadata": {
        "id": "jC4fzt3EgvZx"
      }
    },
    {
      "cell_type": "markdown",
      "source": [
        "2.2.1. Atividade Prática de Criação de Variáveis\n",
        "Com base nos conceitos apresentados, crie três variáveis que atendam as regras definidas acima, para armazenar valores relacionados ao e-mail, idade e endereço de uma pessoa.\n",
        "Capture valores para cada uma das variáveis utilizando o método de entrada de dados do python\n",
        "Imprima as variáveis na tela."
      ],
      "metadata": {
        "id": "o3MSCm4wgyG-"
      }
    },
    {
      "cell_type": "code",
      "source": [
        "email = \"leandrosousa@.com\"\n",
        "idade = 30\n",
        "endereco = \"Rua 66, casa 12, Brasília, DF\""
      ],
      "metadata": {
        "id": "QL_VpMy_hr8W"
      },
      "execution_count": 8,
      "outputs": []
    },
    {
      "cell_type": "code",
      "source": [
        "print(f\"O e-mail é: {email}\")\n",
        "print(f\"A idade é: {idade}\")\n",
        "print(f\"O endereço é: {endereco}\")"
      ],
      "metadata": {
        "colab": {
          "base_uri": "https://localhost:8080/"
        },
        "id": "5HKrtKW5j_mV",
        "outputId": "a7c4883f-cfd1-4200-aa6f-0aa821fbf031"
      },
      "execution_count": 11,
      "outputs": [
        {
          "output_type": "stream",
          "name": "stdout",
          "text": [
            "O e-mail é: leandrosousa@.com\n",
            "A idade é: 30\n",
            "O endereço é: Rua 66, casa 12, Brasília, DF\n"
          ]
        }
      ]
    }
  ]
}