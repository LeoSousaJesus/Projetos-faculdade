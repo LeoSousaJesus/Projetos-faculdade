{
  "cells": [
    {
      "cell_type": "markdown",
      "metadata": {
        "id": "INzEUfeBIHRH"
      },
      "source": [
        "##Atividade 1\n",
        "Faça um programa que lê as duas notas parciais obtidas por um aluno numa disciplina ao longo de um semestre, e calcule a sua média. A atribuição de conceitos obedece à tabela abaixo:\n",
        "\n",
        "      Média de Aproveitamento  Conceito\n",
        "      Entre 9.0 e 10.0                      A\n",
        "      Entre 7.5 e 9.0                        B\n",
        "      Entre 6.0 e 7.5                        C\n",
        "      Entre 4.0 e 6.0                        D\n",
        "      Entre 4.0 e zero                      E\n",
        "  \n",
        "  O algoritmo deve mostrar na tela as notas, a média, o conceito correspondente e a mensagem “APROVADO” se o conceito for A, B ou C ou “REPROVADO” se o conceito for D ou E."
      ]
    },
    {
      "cell_type": "code",
      "execution_count": 1,
      "metadata": {
        "colab": {
          "base_uri": "https://localhost:8080/"
        },
        "id": "PyttqdXpifMl",
        "outputId": "6f7f371d-580b-41ef-a2fe-13cd8a61f8e5"
      },
      "outputs": [
        {
          "name": "stdout",
          "output_type": "stream",
          "text": [
            "{'nota_1': 7.0, 'nota_2': 5.0, 'media': 6.0, 'conceito': 'C', 'resultado': 'APROVADO'}\n"
          ]
        }
      ],
      "source": [
        "dicionario = {}\n",
        "dicionario['nota_1'] = float(input('Digite a nota A1: '))\n",
        "dicionario['nota_2'] = float(input('Digite a nota A2: '))\n",
        "if (dicionario['nota_1'] > 10 or dicionario['nota_1'] < 0 or\n",
        "    dicionario['nota_2'] > 10 or dicionario['nota_2'] < 0):\n",
        "  print('As notas devem ser entre 0 e 10')\n",
        "else:\n",
        "  dicionario['media'] = (dicionario['nota_1'] + dicionario['nota_2']) / 2\n",
        "  if dicionario['media'] >=9:\n",
        "    dicionario['conceito'] = 'A'\n",
        "  elif dicionario['media'] >= 7.5:\n",
        "    dicionario['conceito'] = 'B'\n",
        "  elif dicionario['media'] >= 6:\n",
        "    dicionario['conceito'] = 'C'\n",
        "  elif dicionario['media'] >= 4:\n",
        "    dicionario['conceito'] = 'D'\n",
        "  elif dicionario['media'] < 4:\n",
        "    dicionario['conceito'] = 'E'\n",
        "\n",
        "  if dicionario['conceito'] in ('A', 'B', 'C'):\n",
        "    dicionario['resultado'] = 'APROVADO'\n",
        "  else:\n",
        "    dicionario['resultado'] = 'REPROVADO'\n",
        "\n",
        "  print(dicionario)"
      ]
    },
    {
      "cell_type": "markdown",
      "metadata": {
        "id": "qh0w-_MNHvLY"
      },
      "source": [
        "## Atividade 2\n",
        "\n",
        "*   Crie uma lista e a inicie com valores entre 10 e 20\n",
        "*   Crie um bloco de código utilizando o loop for\n",
        "para imprimir valores da lista\n",
        "*   Saia do Loop depois de três iterações\n",
        "\n"
      ]
    },
    {
      "cell_type": "code",
      "execution_count": 15,
      "metadata": {
        "colab": {
          "base_uri": "https://localhost:8080/"
        },
        "id": "DdhkWS3Wi2tz",
        "outputId": "0552b9d8-1dae-4ad0-d953-bcaa03834e00"
      },
      "outputs": [
        {
          "name": "stdout",
          "output_type": "stream",
          "text": [
            "10\n",
            "11\n",
            "12\n"
          ]
        }
      ],
      "source": [
        "#Resolucao - 10 a 20\n",
        "valor_min = 10\n",
        "valor_max = 20\n",
        "lista_valores = list(range(valor_min, valor_max + 1))\n",
        "\n",
        "#loop for imprime valores da lista\n",
        "contagem = 0\n",
        "for valor in lista_valores:\n",
        "    print(valor)\n",
        "    contagem += 1\n",
        "    if contagem >= 3:\n",
        "        break"
      ]
    },
    {
      "cell_type": "markdown",
      "metadata": {
        "id": "nXfQSAsc6_eP"
      },
      "source": [
        "##Atividade 3\n",
        "\n",
        "Desenvolva um gerador de tabuada, capaz de gerar a tabuada de qualquer número inteiro entre 1 a 10. O usuário deve informar de qual numero ele deseja ver a tabuada.\n",
        "\n",
        "A saída deve ser conforme o exemplo abaixo:\n",
        "\n",
        "\n",
        "\n",
        "```\n",
        "Tabuada de 5:\n",
        "5 X 1 = 5\n",
        "5 X 2 = 10\n",
        "...\n",
        "5 X 10 = 50\n",
        "```\n",
        "\n"
      ]
    },
    {
      "cell_type": "code",
      "execution_count": 9,
      "metadata": {
        "colab": {
          "base_uri": "https://localhost:8080/"
        },
        "id": "vbMaVF8NjBB1",
        "outputId": "f6236fdd-251f-49f5-ba4f-ab7d1e739015"
      },
      "outputs": [
        {
          "name": "stdout",
          "output_type": "stream",
          "text": [
            "Tabuada de 6:\n",
            "6 X 1 = 6\n",
            "6 X 2 = 12\n",
            "6 X 3 = 18\n",
            "6 X 4 = 24\n",
            "6 X 5 = 30\n",
            "6 X 6 = 36\n",
            "6 X 7 = 42\n",
            "6 X 8 = 48\n",
            "6 X 9 = 54\n",
            "6 X 10 = 60\n"
          ]
        }
      ],
      "source": [
        "numero = int(input(\"Digite um número da tabuada: \"))\n",
        "if 1 <= numero <= 10:\n",
        "    print(f\"Tabuada de {numero}:\")\n",
        "    for i in range(1, 11):\n",
        "        resultado = numero * i\n",
        "        print(f\"{numero} X {i} = {resultado}\")\n",
        "else:\n",
        "    print(\"Número não permitido. Por favor, digite um número de 1 a 10.\")"
      ]
    },
    {
      "cell_type": "markdown",
      "metadata": {
        "id": "_u6uzBRl7aNX"
      },
      "source": [
        "##Atividade 4\n",
        "\n",
        "O cardápio de uma lanchonete é o seguinte:\n",
        "\n",
        "\n",
        "```\n",
        "Especificação   Código  Preço\n",
        "\n",
        "Cachorro Quente 100     R$ 1,20\n",
        "Bauru Simples   101     R$ 1,30\n",
        "Bauru com ovo   102     R$ 1,50\n",
        "Hambúrguer      103     R$ 1,20\n",
        "Cheeseburguer   104     R$ 1,30\n",
        "Refrigerante    105     R$ 1,00\n",
        "\n",
        "```\n",
        "\n",
        "Faça um programa que leia o código dos itens pedidos e as quantidades desejadas. Calcule e mostre o valor a ser pago por item (preço * quantidade) e o total geral do pedido. Considere que o cliente deve informar quando o pedido deve ser encerrado."
      ]
    },
    {
      "cell_type": "code",
      "execution_count": 10,
      "metadata": {
        "colab": {
          "base_uri": "https://localhost:8080/"
        },
        "id": "lJhTv4qnjJ8A",
        "outputId": "7b88e331-9fd6-4edc-9010-388beaa6796c"
      },
      "outputs": [
        {
          "name": "stdout",
          "output_type": "stream",
          "text": [
            "Cachorro Quente: 3 x 1.20 = 3.60\n",
            "Bauru com ovo: 2 x 1.50 = 3.00\n",
            "Refrigerante: 5 x 1.00 = 5.00\n",
            "Valor total do pedido: R$ 11.60\n"
          ]
        }
      ],
      "source": [
        "# Dicionário com os itens do cardápio e preços\n",
        "cardapio = {\n",
        "    100: {\"especificacao\": \"Cachorro Quente\", \"preco\": 1.20},\n",
        "    101: {\"especificacao\": \"Bauru Simples\", \"preco\": 1.30},\n",
        "    102: {\"especificacao\": \"Bauru com ovo\", \"preco\": 1.50},\n",
        "    103: {\"especificacao\": \"Hambúrguer\", \"preco\": 1.20},\n",
        "    104: {\"especificacao\": \"Cheeseburguer\", \"preco\": 1.30},\n",
        "    105: {\"especificacao\": \"Refrigerante\", \"preco\": 1.00},\n",
        "}\n",
        "\n",
        "# Variável para iniciar o total do pedido\n",
        "total_pedido = 0\n",
        "\n",
        "while True:\n",
        "    # Solicita o código do item\n",
        "    codigo = int(input(\"Digite o código do item (ou 0 para encerrar o pedido): \"))\n",
        "\n",
        "    if codigo == 0:\n",
        "        break  # Finaliza o loop caso o cliente escolha encerrar o pedido\n",
        "\n",
        "    # Verifica se o código é válido\n",
        "    if codigo in cardapio:\n",
        "        quantidade = int(input(\"Digite a quantidade desejada: \"))\n",
        "        if quantidade > 0:\n",
        "            preco_item = cardapio[codigo][\"preco\"]\n",
        "            valor_item = preco_item * quantidade\n",
        "            total_pedido += valor_item\n",
        "            print(f\"{cardapio[codigo]['especificacao']}: {quantidade} x {preco_item:.2f} = {valor_item:.2f}\")\n",
        "        else:\n",
        "            print(\"A quantidade deve ser maior que zero.\")\n",
        "    else:\n",
        "        print(\"Código inválido. Por gentileza, digite um código válido presente no cardápio.\")\n",
        "\n",
        "# Imprime o total geral do pedido\n",
        "print(f\"Valor total do pedido: R$ {total_pedido:.2f}\")"
      ]
    }
  ],
  "metadata": {
    "colab": {
      "provenance": []
    },
    "kernelspec": {
      "display_name": "Python 3",
      "name": "python3"
    },
    "language_info": {
      "codemirror_mode": {
        "name": "ipython",
        "version": 3
      },
      "file_extension": ".py",
      "mimetype": "text/x-python",
      "name": "python",
      "nbconvert_exporter": "python",
      "pygments_lexer": "ipython3",
      "version": "3.12.3"
    }
  },
  "nbformat": 4,
  "nbformat_minor": 0
}
