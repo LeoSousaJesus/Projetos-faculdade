{
  "nbformat": 4,
  "nbformat_minor": 0,
  "metadata": {
    "colab": {
      "provenance": [],
      "authorship_tag": "ABX9TyMDc52chnk4c4hMQ2EdrRSc",
      "include_colab_link": true
    },
    "kernelspec": {
      "name": "python3",
      "display_name": "Python 3"
    },
    "language_info": {
      "name": "python"
    }
  },
  "cells": [
    {
      "cell_type": "markdown",
      "metadata": {
        "id": "view-in-github",
        "colab_type": "text"
      },
      "source": [
        "<a href=\"https://colab.research.google.com/github/LeoSousaJesus/Projetos-faculdade/blob/main/AulaLogica.ipynb\" target=\"_parent\"><img src=\"https://colab.research.google.com/assets/colab-badge.svg\" alt=\"Open In Colab\"/></a>"
      ]
    },
    {
      "cell_type": "markdown",
      "source": [
        "# O que são testes de unidade\n",
        "\n",
        "- Testes que verificam o funcionamento correto de partes individuais do código"
      ],
      "metadata": {
        "id": "3y1NX8BUY3Ed"
      }
    },
    {
      "cell_type": "markdown",
      "source": [
        "# Qual a utilidade de banco de dados em programação?\n",
        "\n",
        "- Armazenar, gerenciar e acessar grandes volumes de dados de forma estruturada"
      ],
      "metadata": {
        "id": "qbGTYPsqZd-H"
      }
    },
    {
      "cell_type": "markdown",
      "source": [
        "# O que é uma condição composta\n",
        "\n",
        "- Uma condição que combina múltiplas expressões utilizando operadores lógicos"
      ],
      "metadata": {
        "id": "r8QEPBJqali3"
      }
    },
    {
      "cell_type": "markdown",
      "source": [
        "# Como funcionam os operadores aritméticos em programação?\n",
        "\n",
        "- Realizam cálculos matemáticos, como soma, subtração, multiplicação e divisão"
      ],
      "metadata": {
        "id": "xN69rJhaa29a"
      }
    },
    {
      "cell_type": "markdown",
      "source": [
        "# O que é lógica booleana?\n",
        "\n",
        "- Um sistema de álgebra que envolve valores verdadeiros (True/False) e operações lógicas"
      ],
      "metadata": {
        "id": "BNXWkMgkbUZc"
      }
    },
    {
      "cell_type": "markdown",
      "source": [
        "# Qual é o papel dos comentários em código?\n",
        "\n",
        "- Ajudar na documentação do código, tornando-o mais legível e compreensível para outros programadores"
      ],
      "metadata": {
        "id": "e2G9KFZnb3UW"
      }
    },
    {
      "cell_type": "markdown",
      "source": [
        "# Como depurar um programa?\n",
        "\n",
        "- Usando técnicas para encontrar e corrigir erros no código"
      ],
      "metadata": {
        "id": "aWWDsaBacYly"
      }
    },
    {
      "cell_type": "markdown",
      "source": [
        "# O que é um erro de tempo de execução?\n",
        "\n",
        "- Um erro que ocorre enquanto o programa está em execução, muitas vezes resutando em falha"
      ],
      "metadata": {
        "id": "vTCZTbuscrbM"
      }
    },
    {
      "cell_type": "markdown",
      "source": [
        "# Como implementar uma função recursiva?\n",
        "\n",
        "- Definindo uma função que chama a si mesma, com condições para parar a recursão"
      ],
      "metadata": {
        "id": "a6n5adaQCeCD"
      }
    },
    {
      "cell_type": "markdown",
      "source": [
        "# O que caracteriza um algoritmo eficiente?\n",
        "\n",
        "- Otimização em termos de tempo de execuçãoe e uso de memória"
      ],
      "metadata": {
        "id": "cMt93fmRC6HO"
      }
    },
    {
      "cell_type": "markdown",
      "source": [
        "# Qual a importância do entendimento lógico em programação?\n",
        "\n",
        "- Ajuda a desenvolver soluções eficientes e eficazes para problemas complexos"
      ],
      "metadata": {
        "id": "xnIp3FnGDa-S"
      }
    },
    {
      "cell_type": "markdown",
      "source": [
        "# O que é um algoritmo de busca?\n",
        "\n",
        "- Um procedimento para encontrar um elemento dentro de uma estrutura de dados"
      ],
      "metadata": {
        "id": "yiVOxfjWDa2p"
      }
    },
    {
      "cell_type": "markdown",
      "source": [
        "# Como funcionam as operações CRUD?\n",
        "\n",
        "- Referem-se a Criar, Ler, Atualizar e Deletar dados em estrutura de dados"
      ],
      "metadata": {
        "id": "fAgBuWl4Daqy"
      }
    },
    {
      "cell_type": "markdown",
      "source": [
        "# Como manipular dados em estruturas de dados?\n",
        "\n",
        "- Usando operações específicas como inserção, remoção, acesso e atualização de elementos"
      ],
      "metadata": {
        "id": "rr3y_fX9EhNo"
      }
    },
    {
      "cell_type": "markdown",
      "source": [
        "# O que é um bloco de código?\n",
        "\n",
        "- Um grupo de instruções agrupadas que são tratadas como uma unidade"
      ],
      "metadata": {
        "id": "JLqd9tt5E9yU"
      }
    },
    {
      "cell_type": "markdown",
      "source": [
        "# Qual a diferença entre passagem de parâmetros por valor e por referência?\n",
        "\n",
        "Por valor copia o valor da variável, enquanto por referência passa a referência para a variável original"
      ],
      "metadata": {
        "id": "dq-h4MY9FMh1"
      }
    },
    {
      "cell_type": "markdown",
      "source": [
        "# O que é recursão?\n",
        "\n",
        "- Uma técnica onde uma função se chama a si mesma para resolver subproblemas menores"
      ],
      "metadata": {
        "id": "Z5M2rTozFqsp"
      }
    },
    {
      "cell_type": "markdown",
      "source": [
        "# Como funciona os operadores lógicos?\n",
        "\n",
        "- Realizam operações booleanas, como E (AND), OU (OR), e NÂO (NOT) para avaliar expressões condicionais"
      ],
      "metadata": {
        "id": "PRsiem7lGDj6"
      }
    },
    {
      "cell_type": "markdown",
      "source": [
        "# Quais são os tipos de estruturas de controle?\n",
        "\n",
        "- Estruturas condicionais (if,switch) e estruturas de repetição (for, while, do-while)"
      ],
      "metadata": {
        "id": "NgdH-ucKGj-d"
      }
    },
    {
      "cell_type": "markdown",
      "source": [
        "# O que é um loop aninhado?\n",
        "\n",
        "- Um loop dentro de outro loop, usando para percorrer estruturasde dados multidimensionais"
      ],
      "metadata": {
        "id": "XEBQIH5HG95_"
      }
    },
    {
      "cell_type": "markdown",
      "source": [
        "# O que é complexidade de espaço?\n",
        "\n",
        "- Uma medida de quanta memória um algoritmo utiliza em relação à quantidade de dados de entrada"
      ],
      "metadata": {
        "id": "0g0ZBNTQHUEz"
      }
    },
    {
      "cell_type": "markdown",
      "source": [
        "# O que é complexidade de tempo?\n",
        "\n",
        "- Uma medida de quanto tempo um algoritmo leva para ser executado em relação à quantidade de dados de entrada"
      ],
      "metadata": {
        "id": "Fqi13NNmHwEU"
      }
    },
    {
      "cell_type": "markdown",
      "source": [
        "# Qual a importância de otimizar algoritmos?\n",
        "\n",
        "- Reduzir o tempo de execução e o uso de recursos, melhorando a eficiência do programa"
      ],
      "metadata": {
        "id": "AWotD9TWIJqQ"
      }
    },
    {
      "cell_type": "markdown",
      "source": [
        "# Qual a importância de otimizar algoritmos?\n",
        "\n",
        "- Reduzir o tempo de execução e o uso de recursos, melhorando a eficiência do programa"
      ],
      "metadata": {
        "id": "2X2pdwAxIhJi"
      }
    },
    {
      "cell_type": "markdown",
      "source": [
        "# O que é pseudocódigo?\n",
        "\n",
        "- Uma forma de descrever algoritmos usando uma linguagem simples e estrutarada, sem a sintaxe exata da programação"
      ],
      "metadata": {
        "id": "EFNlDnj5JD6-"
      }
    },
    {
      "cell_type": "markdown",
      "source": [
        "# Como resolver problemas matemáticos usando programação?\n",
        "\n",
        "- Criando algoritmos que realizam operações matemáticas com base nas entradas do usuário e regras definidas"
      ],
      "metadata": {
        "id": "TPSfn7LPJjiq"
      }
    }
  ]
}