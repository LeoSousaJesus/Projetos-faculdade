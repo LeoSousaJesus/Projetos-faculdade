{
  "nbformat": 4,
  "nbformat_minor": 0,
  "metadata": {
    "colab": {
      "provenance": []
    },
    "kernelspec": {
      "name": "python3",
      "display_name": "Python 3"
    },
    "language_info": {
      "name": "python"
    }
  },
  "cells": [
    {
      "cell_type": "markdown",
      "source": [
        "# Exercício 1\n",
        "\n",
        "Escreva um programa que receba um número inteiro positivo na entrada e verifique se é primo. Se o número for primo, imprima \"primo\". Caso contrário, imprima \"não primo\".\n",
        "\n",
        "Exemplos:\n",
        "\n",
        "Digite um número inteiro: 13\n",
        "\n",
        "primo\n",
        "\n",
        "Digite um número inteiro: 12\n",
        "\n",
        "não primo\n"
      ],
      "metadata": {
        "id": "x45GHoUATPaZ"
      }
    },
    {
      "cell_type": "code",
      "source": [
        "numero = int(input(\"Digite um número: \"))\n",
        "\n",
        "s_primo = True\n",
        "\n",
        "if numero <= 1:\n",
        "    s_primo = False\n",
        "else:\n",
        "    for i in range(2, int(numero**0.5) + 1):\n",
        "        if numero % i == 0:\n",
        "            s_primo = False\n",
        "            break\n",
        "\n",
        "if s_primo:\n",
        "    print(\"primo\")\n",
        "else:\n",
        "    print(\"não primo\")"
      ],
      "metadata": {
        "colab": {
          "base_uri": "https://localhost:8080/"
        },
        "id": "7xfm9YcnUPgq",
        "outputId": "6309be99-d660-401e-b75d-a71e066d22f7"
      },
      "execution_count": 6,
      "outputs": [
        {
          "output_type": "stream",
          "name": "stdout",
          "text": [
            "Digite um número: 13\n",
            "primo\n"
          ]
        }
      ]
    },
    {
      "cell_type": "markdown",
      "source": [
        "# Exercício 2 - Desafio do vídeo \"Repetição com while\"\n",
        "\n",
        "Escreva um programa que receba um número inteiro na entrada e verifique se o número recebido possui ao menos um dígito com um dígito adjacente igual a ele. Caso exista, imprima \"sim\"; se não existir, imprima \"não\".\n",
        "\n",
        "Exemplos:\n",
        "\n",
        "Digite um número inteiro: 12345\n",
        "\n",
        "não\n",
        "\n",
        "Digite um número inteiro: 1011\n",
        "\n",
        "sim"
      ],
      "metadata": {
        "id": "LtLIGX9wUSvA"
      }
    },
    {
      "cell_type": "code",
      "source": [
        "numero = input(\"Digite um número: \")\n",
        "\n",
        "com_adjacente = False\n",
        "\n",
        "for i in range(len(numero) - 1):\n",
        "    if numero[i] == numero[i + 1]:\n",
        "        com_adjacente = True\n",
        "        break\n",
        "\n",
        "if com_adjacente:\n",
        "    print(\"sim\")\n",
        "else:\n",
        "    print(\"não\")"
      ],
      "metadata": {
        "colab": {
          "base_uri": "https://localhost:8080/"
        },
        "id": "qjltUYyZUoJv",
        "outputId": "5ba9dd66-480b-4fe4-fe87-109665efab82"
      },
      "execution_count": 13,
      "outputs": [
        {
          "output_type": "stream",
          "name": "stdout",
          "text": [
            "Digite um número: 4445\n",
            "sim\n"
          ]
        }
      ]
    }
  ]
}