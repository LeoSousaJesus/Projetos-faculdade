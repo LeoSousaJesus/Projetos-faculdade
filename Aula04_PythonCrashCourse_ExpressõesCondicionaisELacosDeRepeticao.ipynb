{
  "nbformat": 4,
  "nbformat_minor": 0,
  "metadata": {
    "colab": {
      "provenance": [],
      "include_colab_link": true
    },
    "kernelspec": {
      "name": "python3",
      "display_name": "Python 3"
    },
    "language_info": {
      "name": "python"
    }
  },
  "cells": [
    {
      "cell_type": "markdown",
      "metadata": {
        "id": "view-in-github",
        "colab_type": "text"
      },
      "source": [
        "<a href=\"https://colab.research.google.com/github/LeoSousaJesus/Projetos-faculdade/blob/main/Aula04_PythonCrashCourse_Express%C3%B5esCondicionaisELacosDeRepeticao.ipynb\" target=\"_parent\"><img src=\"https://colab.research.google.com/assets/colab-badge.svg\" alt=\"Open In Colab\"/></a>"
      ]
    },
    {
      "cell_type": "markdown",
      "source": [
        "# Estruturas condicionais - if, elif, and else\n",
        "\n",
        "A instrução if é um dos tipos de instrução de fluxo de controle mais conhecidos. Ele verifica uma condição que, se True, avalia o código no bloco que vem na sequência.\n",
        "\n",
        "A operação mais comum em uma expressão condicional é validar se um determinado valor de entrada é igual a um valor de referência. Para comparações de igualdade, utiliza-se o sinal `==`.  Neste caso, é importante ressaltar que o teste de igualdade é case-sensitive, assim, uma mesma palavras duplicada com letras capitalizadas de forma diferente correspondem a dois valores distintos."
      ],
      "metadata": {
        "id": "5UwiChyGFqH5"
      }
    },
    {
      "cell_type": "code",
      "source": [
        "nome_1 = \"Maria\"\n",
        "nome_2 = \"maria\"\n",
        "\n",
        "if (nome_1 == nome_2):\n",
        "  print(\"Os nomes são iguais\")\n",
        "else:\n",
        "  print(\"Os nomes são diferentes\")"
      ],
      "metadata": {
        "colab": {
          "base_uri": "https://localhost:8080/"
        },
        "id": "-RXfwxbLF5zN",
        "outputId": "32721b15-4ab1-4e79-cbb7-43084bc6b84b"
      },
      "execution_count": null,
      "outputs": [
        {
          "output_type": "stream",
          "name": "stdout",
          "text": [
            "Os nomes são diferentes\n"
          ]
        }
      ]
    },
    {
      "cell_type": "markdown",
      "source": [
        "Da nmesma forma que se checa a igualdade de dois valores, pode-se verificar também se estes são diferentes um do outro. Para isto, utilizada-se o operador de desigualdade `!=`."
      ],
      "metadata": {
        "id": "tfvALfO5IhaU"
      }
    },
    {
      "cell_type": "code",
      "source": [
        "if nome_1 != nome_2:\n",
        "  print(\"Os nomes são diferentes\")\n",
        "else:\n",
        "  print(\"Os nomes são iguais\")"
      ],
      "metadata": {
        "colab": {
          "base_uri": "https://localhost:8080/"
        },
        "id": "TiJqfMsOIvRI",
        "outputId": "0d51b033-bda4-472c-f90a-6385ddf145d1"
      },
      "execution_count": null,
      "outputs": [
        {
          "output_type": "stream",
          "name": "stdout",
          "text": [
            "Os nomes são diferentes\n"
          ]
        }
      ]
    },
    {
      "cell_type": "markdown",
      "source": [
        "## Comparações entre números\n",
        "\n",
        "A utilização de valores numéricos permite a utilização de outros métodos de comparação, em complemento as operações de igualdade e desigualdade. Dois dos mais conhecidos são o maior que (>), maior ou igual que(>=), menor que (<) e o menor ou igual que (<=).\n",
        "\n",
        "Formato do if\n",
        "\n",
        "```\n",
        "if teste_condicional:\n",
        "    execute_um_bloco_de_instrucao\n",
        "elif teste_condicional:\n",
        "    execute_um_bloco_de_instrucao\n",
        "else:\n",
        "    execute_um_bloco_de_instrucao\n",
        "```\n",
        "\n",
        "\n",
        "onde \"teste_condicional\" representa a condição a ser avaliada, e cada um dos códigos de instrução é executado apenas na condição da expressão ser verdadeira ou falsa.\n",
        "\n",
        "Alguns dos principais operadores utilizados em expressões condicionais são:\n",
        "\n",
        "\n",
        "```\n",
        "   == : avalia se dois elementos são iguais\n",
        "   != : avalia se dois elementos são iguais\n",
        "   > : avalia se um elemento é maior do que outro\n",
        "   < : avalia se um elemento é menor do que outro\n",
        "```\n",
        "\n",
        "\n",
        "\n",
        "A seguir, são apresentados alguns exemplos de expressões condicionais.\n",
        "\n"
      ],
      "metadata": {
        "id": "I0yQDke_JARf"
      }
    },
    {
      "cell_type": "code",
      "source": [
        "if (1 == 1):\n",
        "  print(\"verdadeiro\")\n",
        "else:\n",
        "  print(\"falso\")\n",
        "\n",
        "if 1 > 2:\n",
        "  print(\"verdadeiro\")\n",
        "else:\n",
        "  print(\"falso\")\n",
        "\n",
        "if 1 < 2:\n",
        "  print(\"verdadeiro\")\n",
        "else:\n",
        "  print(\"falso\")\n",
        "\n",
        "if 1 != 2:\n",
        "  print(\"verdadeiro\")\n",
        "else:\n",
        "  print(\"falso\")"
      ],
      "metadata": {
        "colab": {
          "base_uri": "https://localhost:8080/"
        },
        "id": "kqTz06iSJVNl",
        "outputId": "e920a269-ab9f-47ea-ba7d-8c943dc10315"
      },
      "execution_count": null,
      "outputs": [
        {
          "output_type": "stream",
          "name": "stdout",
          "text": [
            "verdadeiro\n",
            "falso\n",
            "verdadeiro\n",
            "verdadeiro\n"
          ]
        }
      ]
    },
    {
      "cell_type": "markdown",
      "source": [
        "##Atividade 1\n",
        "Faça um programa que lê as duas notas parciais obtidas por um aluno numa disciplina ao longo de um semestre, e calcule a sua média. A atribuição de conceitos obedece à tabela abaixo:\n",
        "\n",
        "      Média de Aproveitamento  Conceito\n",
        "      Entre 9.0 e 10.0                      A\n",
        "      Entre 7.5 e 9.0                        B\n",
        "      Entre 6.0 e 7.5                        C\n",
        "      Entre 4.0 e 6.0                        D\n",
        "      Entre 4.0 e zero                      E\n",
        "  \n",
        "  O algoritmo deve mostrar na tela as notas, a média, o conceito correspondente e a mensagem “APROVADO” se o conceito for A, B ou C ou “REPROVADO” se o conceito for D ou E."
      ],
      "metadata": {
        "id": "INzEUfeBIHRH"
      }
    },
    {
      "cell_type": "code",
      "source": [
        "\n",
        "\n",
        "\n",
        "\n",
        "\n",
        "\n",
        "\n",
        "\n",
        "\n",
        "\n"
      ],
      "metadata": {
        "id": "CSR0O_U1PNel"
      },
      "execution_count": null,
      "outputs": []
    },
    {
      "cell_type": "markdown",
      "source": [
        "## Operações em listas\n",
        "\n",
        "Uma funcionalidade comum em programação é checar se um elemento faz parte de uma lista. Para este caso, existe um operador específico em python chamado `in`. A operação contrária também é permitida, com o uso de not antes do operador in."
      ],
      "metadata": {
        "id": "D2uMMK6MJwad"
      }
    },
    {
      "cell_type": "code",
      "source": [
        "testa_lista = [1,2,3,4,5]\n",
        "\n",
        "if 2 in testa_lista:\n",
        "    print('Número 2 está na lista')\n",
        "\n",
        "if 6 not in testa_lista:\n",
        "    print('Numero 6 não está na lista')"
      ],
      "metadata": {
        "colab": {
          "base_uri": "https://localhost:8080/"
        },
        "id": "g9xqIysYKBR7",
        "outputId": "d61494c7-8e6b-45d9-e492-651e347a5dab"
      },
      "execution_count": null,
      "outputs": [
        {
          "output_type": "stream",
          "name": "stdout",
          "text": [
            "Número 2 está na lista\n",
            "Numero 6 não está na lista\n"
          ]
        }
      ]
    },
    {
      "cell_type": "markdown",
      "source": [
        "## Uso de múltiplas condições\n",
        "\n",
        "O uso de estruturas condicionais também permite que façamos mais de uma avaliação a cada passo, utilizando, para isso, operadores lógicos como OR (ou) e AND (e)."
      ],
      "metadata": {
        "id": "60v5lVRWUplq"
      }
    },
    {
      "cell_type": "code",
      "source": [
        "a = 10\n",
        "b = 10\n",
        "if type(a) == int and type(b) == int and b != 0:\n",
        "  print (a/b)\n",
        "else:\n",
        "  print(\"Valores de entrada estão incorretos\")"
      ],
      "metadata": {
        "colab": {
          "base_uri": "https://localhost:8080/"
        },
        "id": "BomDt5qQU3Bn",
        "outputId": "aeed780e-7066-4e37-f070-cc74f4b87f38"
      },
      "execution_count": null,
      "outputs": [
        {
          "output_type": "stream",
          "name": "stdout",
          "text": [
            "1.0\n"
          ]
        }
      ]
    },
    {
      "cell_type": "markdown",
      "source": [
        "O uso de estruturas condicionais também permite o aninhamento das instruções"
      ],
      "metadata": {
        "id": "wJv_CyR3VuI6"
      }
    },
    {
      "cell_type": "code",
      "source": [
        "a = 10\n",
        "b = \"a\"\n",
        "if (type(a) == int or type(b) == int) and (type(b) == int or type(b) == int):\n",
        "    if b != 0:\n",
        "        print (a/b)\n",
        "    else:\n",
        "        print(\"Divisão por zero não permitida\")\n",
        "else:\n",
        "    print(\"Valores de Entrada não numéricos\")"
      ],
      "metadata": {
        "colab": {
          "base_uri": "https://localhost:8080/"
        },
        "id": "KgG2bnJnV0PC",
        "outputId": "c5e5cd9a-9a2b-40b0-d65c-dc8111bafb96"
      },
      "execution_count": null,
      "outputs": [
        {
          "output_type": "stream",
          "name": "stdout",
          "text": [
            "Valores de Entrada não numéricos\n"
          ]
        }
      ]
    },
    {
      "cell_type": "markdown",
      "source": [
        "# Laços de Repetição e Estruturas Condicionais\n",
        "\n",
        "O uso de laços de repetição é uma das principais formas de automatização de tarefas repetitivas, vez que uma mesma ação ou conjunto de ações podem ser executados de forma recorrente para cada um dos elementos presentes em uma coleção de elementos, a exemplo de uma lista.\n",
        "\n",
        "A primeira estrutura que iremos apresentar é o loop `for`. Em sua sintaxe, um bloco de instruções é executado enquanto ainda existir algum elemento na coleção, confome comando apresentado a seguir."
      ],
      "metadata": {
        "id": "UEXO4_5oEAVg"
      }
    },
    {
      "cell_type": "code",
      "source": [
        "var_list = ['a', 'b', 'c', 'd']\n",
        "\n",
        "for indice, valor in enumerate(var_list):\n",
        "    print(f\"{valor} : {type(valor)}\")\n",
        "    print(indice)\n",
        "\n"
      ],
      "metadata": {
        "colab": {
          "base_uri": "https://localhost:8080/"
        },
        "id": "jN3j5i2EE-w1",
        "outputId": "052d9127-124d-49aa-f253-b86c9c8ac07e"
      },
      "execution_count": null,
      "outputs": [
        {
          "output_type": "stream",
          "name": "stdout",
          "text": [
            "a : <class 'str'>\n",
            "0\n",
            "b : <class 'str'>\n",
            "1\n",
            "c : <class 'str'>\n",
            "2\n",
            "d : <class 'str'>\n",
            "3\n"
          ]
        }
      ]
    },
    {
      "cell_type": "markdown",
      "source": [
        "Em cada uma das iterações, o valor atual em análise é armazenado em uma variável, o que facilita o uso do comando. Além disto, deve-se utilizar o sinakl de dois pontos (:) logo após a declaração do comando, antes do início do bloco de código que será executado durante as iterações.\n",
        "\n",
        "É importante ressaltar que o Python utiliza a identação para delimitar blocos de instrução, a exemplo do que está relacionado ao comando for acima. O uso deste recurso facilita a leitura do código, vez que deixa o código formatado com uma estrutura visual clara.\n"
      ],
      "metadata": {
        "id": "P9hY7SuaEyjz"
      }
    },
    {
      "cell_type": "markdown",
      "source": [
        "O python tem uma função específica para criação de sequências de números, a `range`. Esta estrutura se mostra bastante útil quando é necessário criar uma lista numérica"
      ],
      "metadata": {
        "id": "KsZrcaD8F6Z4"
      }
    },
    {
      "cell_type": "code",
      "source": [
        "list(range(1,10))"
      ],
      "metadata": {
        "colab": {
          "base_uri": "https://localhost:8080/"
        },
        "id": "39DIADgOAYGI",
        "outputId": "6ba1bb2b-f825-449e-9311-e79aa5ac1494"
      },
      "execution_count": null,
      "outputs": [
        {
          "output_type": "execute_result",
          "data": {
            "text/plain": [
              "[1, 2, 3, 4, 5, 6, 7, 8, 9]"
            ]
          },
          "metadata": {},
          "execution_count": 10
        }
      ]
    },
    {
      "cell_type": "code",
      "source": [
        "for numero in range(10,15):\n",
        "  print(numero)"
      ],
      "metadata": {
        "colab": {
          "base_uri": "https://localhost:8080/"
        },
        "id": "1JJSQFEgGTf9",
        "outputId": "eb49fd73-8e81-4ae9-ddf2-6b1218ea6dab"
      },
      "execution_count": null,
      "outputs": [
        {
          "output_type": "stream",
          "name": "stdout",
          "text": [
            "10\n",
            "11\n",
            "12\n",
            "13\n",
            "14\n"
          ]
        }
      ]
    },
    {
      "cell_type": "markdown",
      "source": [
        "Os loops, sejam eles utilizando for ou while, podem ter a iteração corrente interrompida ou todo o loop interrompido. Para isto, são utilizadas as instruções continue e break.\n",
        "\n",
        "*   continue: permite a parada da interação corrente do loop e o início da próxima iteração.\n",
        "*   break: interrompe o loop antes que ele tenha iterado sobre todos os itens esperados."
      ],
      "metadata": {
        "id": "naDNUXOsHnKy"
      }
    },
    {
      "cell_type": "code",
      "source": [
        "for valor in ['1', '2', '5', '7', '10']:\n",
        "    if (valor == '2'):\n",
        "      continue\n",
        "    elif(valor == '7'):\n",
        "      break\n",
        "    print(valor)\n"
      ],
      "metadata": {
        "colab": {
          "base_uri": "https://localhost:8080/"
        },
        "id": "A2Pr6uQBHksj",
        "outputId": "61c115b8-4e87-4ef3-fb65-a1fcfecdbfba"
      },
      "execution_count": null,
      "outputs": [
        {
          "output_type": "stream",
          "name": "stdout",
          "text": [
            "1\n",
            "5\n"
          ]
        }
      ]
    },
    {
      "cell_type": "markdown",
      "source": [
        "## Atividade 2\n",
        "\n",
        "*   Crie uma lista e a inicie com valores entre 10 e 20\n",
        "*   Crie um bloco de código utilizando o loop for\n",
        "para imprimir valores da lista\n",
        "*   Saia do Loop depois de três iterações\n",
        "\n"
      ],
      "metadata": {
        "id": "qh0w-_MNHvLY"
      }
    },
    {
      "cell_type": "code",
      "source": [
        "#Resolucao - 10 a 20\n",
        "\n",
        "\n",
        "\n",
        "\n"
      ],
      "metadata": {
        "id": "nnoH6tldHubw"
      },
      "execution_count": null,
      "outputs": []
    },
    {
      "cell_type": "markdown",
      "source": [
        "##Atividade 3\n",
        "\n",
        "Desenvolva um gerador de tabuada, capaz de gerar a tabuada de qualquer número inteiro entre 1 a 10. O usuário deve informar de qual numero ele deseja ver a tabuada.\n",
        "\n",
        "A saída deve ser conforme o exemplo abaixo:\n",
        "\n",
        "\n",
        "\n",
        "```\n",
        "Tabuada de 5:\n",
        "5 X 1 = 5\n",
        "5 X 2 = 10\n",
        "...\n",
        "5 X 10 = 50\n",
        "```\n",
        "\n"
      ],
      "metadata": {
        "id": "nXfQSAsc6_eP"
      }
    },
    {
      "cell_type": "code",
      "source": [],
      "metadata": {
        "id": "H3kB3FMS7aA9"
      },
      "execution_count": null,
      "outputs": []
    },
    {
      "cell_type": "markdown",
      "source": [
        "##Loops em Dicionários"
      ],
      "metadata": {
        "id": "ihWPTqT1GjPo"
      }
    },
    {
      "cell_type": "code",
      "source": [
        "dicionario = ({\"key_1\": \"valor_1\", \"key_2\" : \"valor_2\"})\n",
        "\n",
        "for chave,valor in dicionario.items():\n",
        "  print(chave, valor)"
      ],
      "metadata": {
        "colab": {
          "base_uri": "https://localhost:8080/"
        },
        "id": "OJ9P8Vv6bWhX",
        "outputId": "80c601d7-abcd-4998-9dac-e226f05d1646"
      },
      "execution_count": null,
      "outputs": [
        {
          "output_type": "stream",
          "name": "stdout",
          "text": [
            "key_1 valor_1\n",
            "key_2 valor_2\n"
          ]
        }
      ]
    },
    {
      "cell_type": "code",
      "source": [
        "string = '\"Teste\"'\n",
        "teste = \"\\\"Teste\\\"\"\n",
        "#print(string)\n",
        "#print(teste)\n",
        "\n",
        "dicio = {\"chave\":\"valor\", \"chave2\": \"valor2\"}\n",
        "\n",
        "for valor,chave in dicio.items():\n",
        "  print(chave)"
      ],
      "metadata": {
        "colab": {
          "base_uri": "https://localhost:8080/"
        },
        "id": "KWvL6s8PSgZ_",
        "outputId": "510b010a-5df7-4c89-a192-bd03fcaf7510"
      },
      "execution_count": null,
      "outputs": [
        {
          "output_type": "stream",
          "name": "stdout",
          "text": [
            "valor\n",
            "valor2\n"
          ]
        }
      ]
    },
    {
      "cell_type": "markdown",
      "source": [
        "##Atividade 4\n",
        "\n",
        "O cardápio de uma lanchonete é o seguinte:\n",
        "\n",
        "\n",
        "```\n",
        "Especificação   Código  Preço\n",
        "\n",
        "Cachorro Quente 100     R$ 1,20\n",
        "Bauru Simples   101     R$ 1,30\n",
        "Bauru com ovo   102     R$ 1,50\n",
        "Hambúrguer      103     R$ 1,20\n",
        "Cheeseburguer   104     R$ 1,30\n",
        "Refrigerante    105     R$ 1,00\n",
        "\n",
        "```\n",
        "\n",
        "Faça um programa que leia o código dos itens pedidos e as quantidades desejadas. Calcule e mostre o valor a ser pago por item (preço * quantidade) e o total geral do pedido. Considere que o cliente deve informar quando o pedido deve ser encerrado.\n",
        "\n",
        "```\n",
        "Pedido\n",
        "\n",
        "100 - Cachorro Quente:  3 x 1,20 = 3,60\n",
        "103 - Hamburguer: 2 x 1,20 = 2,40\n",
        "\n",
        "Total = R$ 6,00\n",
        "\n",
        "```"
      ],
      "metadata": {
        "id": "_u6uzBRl7aNX"
      }
    },
    {
      "cell_type": "code",
      "source": [
        "\n",
        "\n",
        "\n"
      ],
      "metadata": {
        "id": "RA9gy-Yflu4y"
      },
      "execution_count": null,
      "outputs": []
    },
    {
      "cell_type": "markdown",
      "source": [
        "##Loops While\n",
        "\n",
        "Os laços de repetição for iteram sobre uma coleção de itens e executa um bloco de código uma vez para cada item da coleção. Por outro lado, o loop while é executado pela duração de que uma condição se mantém como verdadeira."
      ],
      "metadata": {
        "id": "fa1hyfBfccon"
      }
    },
    {
      "cell_type": "code",
      "source": [
        "a = True\n",
        "while a:\n",
        "  x = input('Digite um numero: ')\n",
        "  print(x)\n",
        "  if x == '-1':\n",
        "    a = False"
      ],
      "metadata": {
        "colab": {
          "base_uri": "https://localhost:8080/"
        },
        "id": "qwgLoZt-Ho5r",
        "outputId": "b691c325-0811-4399-c371-84a6b77fddaa"
      },
      "execution_count": null,
      "outputs": [
        {
          "output_type": "stream",
          "name": "stdout",
          "text": [
            "Digite um numero: -1\n",
            "-1\n"
          ]
        }
      ]
    },
    {
      "cell_type": "code",
      "source": [
        "contador = 1\n",
        "while contador < 5:\n",
        "  print(contador)\n",
        "  contador +=1"
      ],
      "metadata": {
        "colab": {
          "base_uri": "https://localhost:8080/"
        },
        "id": "GLMrKO7Cce91",
        "outputId": "9d9b6a2e-6f96-4d6d-f3f7-67617d01a0c0"
      },
      "execution_count": null,
      "outputs": [
        {
          "output_type": "stream",
          "name": "stdout",
          "text": [
            "1\n",
            "2\n",
            "3\n",
            "4\n"
          ]
        }
      ]
    },
    {
      "cell_type": "markdown",
      "source": [
        "Função break"
      ],
      "metadata": {
        "id": "ZzYGO6v1dErx"
      }
    },
    {
      "cell_type": "code",
      "source": [
        "contador = 1\n",
        "while contador < 5:\n",
        "  print(contador)\n",
        "  contador +=1\n",
        "  if contador == 3:\n",
        "    break"
      ],
      "metadata": {
        "colab": {
          "base_uri": "https://localhost:8080/"
        },
        "id": "Ql4UPxwydINS",
        "outputId": "093c5e9c-609f-45ae-c0f8-8febe9b9362d"
      },
      "execution_count": null,
      "outputs": [
        {
          "output_type": "stream",
          "name": "stdout",
          "text": [
            "1\n",
            "2\n"
          ]
        }
      ]
    },
    {
      "cell_type": "markdown",
      "source": [
        "Em vez de sair completamente de um loop sem executar o restante do seu código, você pode usar a instrução continuação para retornar ao início do loop, com base no resultado de um teste condicional."
      ],
      "metadata": {
        "id": "8A-J5aK1HuAZ"
      }
    },
    {
      "cell_type": "code",
      "source": [
        "contador = 0\n",
        "while contador < 10:\n",
        "  contador +=1\n",
        "  if contador % 2 == 0:\n",
        "      print(contador)\n",
        "  else:\n",
        "    continue\n",
        "\n"
      ],
      "metadata": {
        "colab": {
          "base_uri": "https://localhost:8080/"
        },
        "id": "XkxDdxIndch1",
        "outputId": "ce140d22-e0dd-4e46-ff51-256895580bf4"
      },
      "execution_count": null,
      "outputs": [
        {
          "output_type": "stream",
          "name": "stdout",
          "text": [
            "2\n",
            "4\n",
            "6\n",
            "8\n",
            "10\n"
          ]
        }
      ]
    },
    {
      "cell_type": "markdown",
      "source": [
        "#Atividade 5\n",
        "\n",
        "1.   Crie uma variável do tipo lista com os seguintes valores: 100, 7, 22.2, \"João\", 92, 21.0, 45, 22, 32, \"Maria\".\n",
        "2.   Itere sobre a lista, somando apenas os valores menores que 90\n",
        "3.   Imprima a lista dos valores descartados.\n",
        "3.   Imprima o valor final da soma dos valores aceitos.\n"
      ],
      "metadata": {
        "id": "9y3jL7H3Hz7U"
      }
    },
    {
      "cell_type": "code",
      "source": [
        "\n",
        "\n",
        "\n"
      ],
      "metadata": {
        "id": "Amcasd8gRUMb"
      },
      "execution_count": null,
      "outputs": []
    },
    {
      "cell_type": "markdown",
      "source": [
        "# 5 - Blocos de Código em Python\n",
        "Em python, instruções recuadas pelo mesmo número de espaços em branco são consideradas parte de um único bloco de código. Isso se dá porque o Python utiliza este recuo como método de agrupamento de instruções."
      ],
      "metadata": {
        "id": "h-rUwWsjIfYs"
      }
    },
    {
      "cell_type": "code",
      "source": [
        "var_bloco_1 = \"teste\"\n",
        "print(var_bloco_1)\n",
        "\n",
        "if (1 == 1):\n",
        "  var_bloco_2 = \"teste_2\"\n",
        "\n",
        "print(var_bloco_1)\n",
        "print(var_bloco_2)"
      ],
      "metadata": {
        "id": "GlaVJrxvIdaN",
        "colab": {
          "base_uri": "https://localhost:8080/"
        },
        "outputId": "fc9eb404-7b9e-4839-8c01-feea6551eeae"
      },
      "execution_count": null,
      "outputs": [
        {
          "output_type": "stream",
          "name": "stdout",
          "text": [
            "teste\n",
            "teste\n",
            "teste_2\n"
          ]
        }
      ]
    },
    {
      "cell_type": "markdown",
      "source": [
        "## - Funções\n",
        "\n",
        "A linguagem python permite a organização de blocos de código em estruturas chamadas de **funções**.  As funções permitem não apenas agrupar as instruções em um bloco específico de código, como faz com que seja possível executar este conjunto de instruções apenas quando é a função é chamada dentro do código.\n",
        "\n",
        "Na prática, as funções ajudam a modularizar o programa, permitindo uma melhor organização, gerência e, acima de tudo, facilitando o processo de reutilização do código.\n",
        "\n",
        "A definição de uma função consiste em:\n",
        "\n",
        "*   Utilizar a palavra chave reservada \"def\", que define o início da função.\n",
        "*   Escolher um nome que será o identificador da função - os nomes das funções seguem a mesma regra de identificadores do python.\n",
        "*   Definir os parâmetros de entrada da função - é a estratégia utilizada para permitir a passagem de valores para as funções.\n",
        "\n",
        "Na sequência, tem-se um exemplo de uma função em python."
      ],
      "metadata": {
        "id": "irLQmvgtFItN"
      }
    },
    {
      "cell_type": "code",
      "source": [
        "nome_var = 1\n",
        "\n",
        "def funcao_1(parametro1, parametro2):\n",
        "  print(parametro1, ', ', parametro2)\n",
        "  return\n",
        "\n",
        "funcao_1('teste_1', 'teste_2')"
      ],
      "metadata": {
        "id": "gU8NwNNZFMJ9"
      },
      "execution_count": null,
      "outputs": []
    },
    {
      "cell_type": "markdown",
      "source": [
        "## Atividade II\n",
        "\n",
        "\n",
        "\n",
        "*   crie uma função de nome imprimir_parametro,\n",
        "que imprime o valor de entrada do seu único parâmetro\n",
        "*   Efetue a chamada da função com o parâmetro 'hello World'\n",
        "\n",
        "\n"
      ],
      "metadata": {
        "id": "Y0JF-P_GIqLy"
      }
    },
    {
      "cell_type": "code",
      "source": [],
      "metadata": {
        "id": "5i9MlMPXp2cM"
      },
      "execution_count": null,
      "outputs": []
    }
  ]
}