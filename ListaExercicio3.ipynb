{
  "nbformat": 4,
  "nbformat_minor": 0,
  "metadata": {
    "colab": {
      "provenance": []
    },
    "kernelspec": {
      "name": "python3",
      "display_name": "Python 3"
    },
    "language_info": {
      "name": "python"
    }
  },
  "cells": [
    {
      "cell_type": "markdown",
      "source": [
        "# Exercício 1\n",
        "\n",
        "Escreva um programa que receba um número natural n na entrada e imprima n! (fatorial) na saída.\n",
        "\n",
        "Exemplo:\n",
        "\n",
        "Digite o valor de n: 5\n",
        "\n",
        "120\n",
        "\n",
        "Dica: lembre-se que o fatorial de 0 vale 1"
      ],
      "metadata": {
        "id": "VFt_XjOfGVsX"
      }
    },
    {
      "cell_type": "code",
      "source": [
        "n = int(input(\"Digite o valor de n: \"))\n",
        "fatorial = 1\n",
        "if n > 0:\n",
        "    for i in range(1, n + 1):\n",
        "        fatorial *= i\n",
        "print(fatorial)\n"
      ],
      "metadata": {
        "colab": {
          "base_uri": "https://localhost:8080/"
        },
        "id": "8Dk79urpGzTT",
        "outputId": "cd77d7e5-b587-4ee4-a7f5-6e5b6a5a2068"
      },
      "execution_count": null,
      "outputs": [
        {
          "output_type": "stream",
          "name": "stdout",
          "text": [
            "Digite o valor de n: 7\n",
            "5040\n"
          ]
        }
      ]
    },
    {
      "cell_type": "markdown",
      "source": [
        "# Exercício 2\n",
        "\n",
        "Receba um número inteiro positivo na entrada e imprima os n primeiros números ímpares naturais. Para a saída, siga o formato do exemplo abaixo.\n",
        "\n",
        "Exemplo:\n",
        "\n",
        "Digite o valor de n: 5\n",
        "\n",
        "1\n",
        "\n",
        "3\n",
        "\n",
        "5\n",
        "\n",
        "7\n",
        "\n",
        "9"
      ],
      "metadata": {
        "id": "sRQz2XTeHmX0"
      }
    },
    {
      "cell_type": "code",
      "source": [
        "n = int(input(\"Digite o valor de n: \"))\n",
        "numero_impar = 1\n",
        "for i in range(n):\n",
        "    print(numero_impar)\n",
        "    numero_impar += 2"
      ],
      "metadata": {
        "colab": {
          "base_uri": "https://localhost:8080/"
        },
        "id": "0yaj5782Pwm8",
        "outputId": "5c407475-5f02-4e10-c392-8fdde13a050e"
      },
      "execution_count": 9,
      "outputs": [
        {
          "output_type": "stream",
          "name": "stdout",
          "text": [
            "Digite o valor de n: 5\n",
            "1\n",
            "3\n",
            "5\n",
            "7\n",
            "9\n"
          ]
        }
      ]
    },
    {
      "cell_type": "markdown",
      "source": [
        "# Exercício 3\n",
        "\n",
        "Escreva um programa que receba um número inteiro na entrada, calcule e imprima a soma dos dígitos deste número na saída\n",
        "\n",
        "Exemplo:\n",
        "\n",
        "Digite um número inteiro: 123\n",
        "\n",
        "6\n",
        "\n",
        "Dica: Para separar os dígitos, lembre-se: o operador \"//\" faz uma divisão inteira jogando fora o resto, ou seja, aquilo que é menor que o divisor; O operador \"%\" devolve apenas o resto da divisão inteira jogando fora o resultado, ou seja, tudo que é maior ou igual ao divisor."
      ],
      "metadata": {
        "id": "0OltohKIQXnX"
      }
    },
    {
      "cell_type": "code",
      "source": [
        "numero = int(input(\"Digite um número: \"))\n",
        "\n",
        "somar_digitos = 0\n",
        "\n",
        "while numero > 0:\n",
        "    digito = numero % 10\n",
        "    somar_digitos += digito\n",
        "    numero //= 10\n",
        "\n",
        "print(somar_digitos)"
      ],
      "metadata": {
        "colab": {
          "base_uri": "https://localhost:8080/"
        },
        "id": "qui2MrzxRgTc",
        "outputId": "719fe738-a224-4195-c1c5-bfac1d34d549"
      },
      "execution_count": 14,
      "outputs": [
        {
          "output_type": "stream",
          "name": "stdout",
          "text": [
            "Digite um número: 444\n",
            "12\n"
          ]
        }
      ]
    }
  ]
}