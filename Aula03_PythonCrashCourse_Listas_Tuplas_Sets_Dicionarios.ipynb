{
  "nbformat": 4,
  "nbformat_minor": 0,
  "metadata": {
    "colab": {
      "provenance": [],
      "include_colab_link": true
    },
    "kernelspec": {
      "name": "python3",
      "display_name": "Python 3"
    },
    "language_info": {
      "name": "python"
    }
  },
  "cells": [
    {
      "cell_type": "markdown",
      "metadata": {
        "id": "view-in-github",
        "colab_type": "text"
      },
      "source": [
        "<a href=\"https://colab.research.google.com/github/LeoSousaJesus/Projetos-faculdade/blob/main/Aula03_PythonCrashCourse_Listas_Tuplas_Sets_Dicionarios.ipynb\" target=\"_parent\"><img src=\"https://colab.research.google.com/assets/colab-badge.svg\" alt=\"Open In Colab\"/></a>"
      ]
    },
    {
      "cell_type": "markdown",
      "source": [
        "#Curso de Análise e Ciência de Dados com Python\n",
        "Versão 2.2 - 18/09/2023\n",
        "\n",
        "Autor: Alberto Torres\n",
        "\n",
        "E-mail: alberto.torres@redes.unb.br"
      ],
      "metadata": {
        "id": "it-uGWj6wYZ9"
      }
    },
    {
      "cell_type": "markdown",
      "source": [
        "**Nome do Aluno:** *Digite aqui o seu nome*\n",
        "\n",
        "**Matrícula:** *Digite aqui a sua matricula*"
      ],
      "metadata": {
        "id": "klKh7NYYsL1m"
      }
    },
    {
      "cell_type": "markdown",
      "source": [
        "#Seção 1 -Tipos e Estruturas de Dados"
      ],
      "metadata": {
        "id": "oFiH4Awotyn-"
      }
    },
    {
      "cell_type": "markdown",
      "source": [
        "# 1.4. Listas em Python\n",
        "\n",
        "Uma lista é uma coleção de itens pertencentes aos mais variados tipos de dados. Em Python, listas são representadas por colchetes ([]), sendo seus elementos individuais separados por vírgulas.\n",
        "\n",
        "Uma das características mais interessantes da lista é que ela pode conter simultaneamente outra variáveis com diferentes tipos de dados.\n",
        "\n",
        "Uma lista é representada por uma sequência ordenada de elementos, separados por vírgulas e limitados por colchetes, no formato apresentado a seguir.\n",
        "\n",
        "\n",
        "> `variavel_list = [0, 1, 2, 3, 4, 5]`\n",
        "\n",
        "Algumas operações importantes utilizadas sobre as listas são elencadas abaixo:\n",
        "\n",
        "\n",
        "*   \"fatiamento\" e indexação\n",
        "*   append\n",
        "*   pop\n",
        "*   insert\n",
        "*   del\n"
      ],
      "metadata": {
        "id": "0HjjE3wY7Cu-"
      }
    },
    {
      "cell_type": "code",
      "source": [
        "lista_compras = ['arroz', 1, 5.7, [1,2],'feijao', 'farinha', 'banana', 'beterraba']\n",
        "lista_compras"
      ],
      "metadata": {
        "id": "7iNT0dcK8fUl",
        "colab": {
          "base_uri": "https://localhost:8080/"
        },
        "outputId": "a71f84a3-fbe8-47c6-dfb0-40df19d4a864"
      },
      "execution_count": null,
      "outputs": [
        {
          "output_type": "execute_result",
          "data": {
            "text/plain": [
              "['arroz', 1, 5.7, [1, 2], 'feijao', 'farinha', 'banana', 'beterraba']"
            ]
          },
          "metadata": {},
          "execution_count": 1
        }
      ]
    },
    {
      "cell_type": "markdown",
      "source": [
        "###1.4.1 Indexação\n",
        "Os elementos de uma lista são acessados através da sua posição, ou índice. Assim, para localizar um item especifico, deve-e utilizar a seguinte sintaxe:\n",
        "\n",
        "`nome_da_lista[indice_do_elemento]`\n",
        "\n",
        "Sendo que, em python, o primeiro elemento da lista tem índice 0."
      ],
      "metadata": {
        "id": "l_TfaLZW8vmS"
      }
    },
    {
      "cell_type": "code",
      "source": [
        "lista_compras[0]"
      ],
      "metadata": {
        "id": "FoCK5URf9C7v",
        "colab": {
          "base_uri": "https://localhost:8080/",
          "height": 35
        },
        "outputId": "2e9cfb9e-7ba9-4314-fc8d-ef8845e6d389"
      },
      "execution_count": null,
      "outputs": [
        {
          "output_type": "execute_result",
          "data": {
            "text/plain": [
              "'arroz'"
            ],
            "application/vnd.google.colaboratory.intrinsic+json": {
              "type": "string"
            }
          },
          "metadata": {},
          "execution_count": 11
        }
      ]
    },
    {
      "cell_type": "markdown",
      "source": [
        "Em complemento, o python tem uma sintaxe que permite o acesso aos elementos a partir do final da lista, cujo índice é igual a -1. Assim, para acessar o penultimo elemento, utilizaríamos o índice -2, o antepenúltimo -3, e assim por diante."
      ],
      "metadata": {
        "id": "z_62g02K9SLt"
      }
    },
    {
      "cell_type": "code",
      "source": [
        "lista_compras[-1]\n",
        "lista_compras[len(lista_compras)-1]\n"
      ],
      "metadata": {
        "id": "0PFr89149vFj",
        "colab": {
          "base_uri": "https://localhost:8080/",
          "height": 35
        },
        "outputId": "adc2f445-ba31-47c0-8218-fe620dd3e834"
      },
      "execution_count": null,
      "outputs": [
        {
          "output_type": "execute_result",
          "data": {
            "text/plain": [
              "'beterraba'"
            ],
            "application/vnd.google.colaboratory.intrinsic+json": {
              "type": "string"
            }
          },
          "metadata": {},
          "execution_count": 3
        }
      ]
    },
    {
      "cell_type": "markdown",
      "source": [
        "##1.4.2 Fatiamento\n",
        "\n",
        "Para acessar uma fatia de uma lista é preciso especificar o índice do primeiro e do último elemento com o qual se deseja trabalhar. Para gerar os dois primeiros elementos em uma lista, por exemplo, deveriam ser informados os índices 0 e 2, no formato `minha_lista[indice_inicial:indice_final]`.\n",
        "\n",
        "Fatiar listas é uma técnica usada para obter elementos de, antes ou entre diferentes índices. Uma breve guia de uso do fatiamento é apresentado abaixo.\n",
        "\n",
        "```\n",
        "a[posicao_inicial:posicao_final]  # inicia no posicao_inicial e termina no posicao_final -1\n",
        "a[posicao_inicial:]      # inicia no posicao_inicial e vai até o fim array\n",
        "a[:posicao_final]       # inica da primeira posição e vai té a posicao_final - 1\n",
        "a[:]           # faz uma cópia do array inteiro"
      ],
      "metadata": {
        "id": "MANP49uZH0kl"
      }
    },
    {
      "cell_type": "code",
      "source": [
        "lista_slice = [0,1,2,3,4,5]\n",
        "lista_slice[2:5]"
      ],
      "metadata": {
        "id": "gVdiU6aqIUaW",
        "colab": {
          "base_uri": "https://localhost:8080/"
        },
        "outputId": "553cfa98-729c-474e-e932-f09f1c91e201"
      },
      "execution_count": null,
      "outputs": [
        {
          "output_type": "execute_result",
          "data": {
            "text/plain": [
              "[2, 3, 4]"
            ]
          },
          "metadata": {},
          "execution_count": 4
        }
      ]
    },
    {
      "cell_type": "markdown",
      "source": [
        "Quando a posição inicial desejada é o primeiro elemento pode-se omitir o indice inicial. Da mesma forma, quando o último elemento desejado é o elemento ao final da fila, também pode-se omitir o indice final."
      ],
      "metadata": {
        "id": "5VoSOh97IqFJ"
      }
    },
    {
      "cell_type": "code",
      "source": [
        "print(lista_slice[:2])\n",
        "print(lista_slice[2:])"
      ],
      "metadata": {
        "id": "8I-zC4xCI45B",
        "colab": {
          "base_uri": "https://localhost:8080/"
        },
        "outputId": "48259413-4891-4c3c-cd54-566dd2cdee88"
      },
      "execution_count": null,
      "outputs": [
        {
          "output_type": "stream",
          "name": "stdout",
          "text": [
            "[0, 1]\n",
            "[2, 3, 4, 5]\n"
          ]
        }
      ]
    },
    {
      "cell_type": "code",
      "source": [
        "#instancie uma lista com valores inteiros de 1 a 5\n",
        "\n",
        "\n",
        "#imprima os dois primeiros elementos da lista\n",
        "\n",
        "\n",
        "#imprima os dois ultimos elementos da lista\n",
        "\n",
        "\n",
        "#imprima os elementos entre (e inclusive) as posições 2 e o 4\n",
        "\n",
        "\n",
        "\n",
        "\n"
      ],
      "metadata": {
        "id": "X9iExIL3HHzg",
        "colab": {
          "base_uri": "https://localhost:8080/"
        },
        "outputId": "0115a003-f1f3-4020-cc3e-ba6f1826f44d"
      },
      "execution_count": null,
      "outputs": [
        {
          "output_type": "stream",
          "name": "stdout",
          "text": [
            "[3, 4]\n"
          ]
        }
      ]
    },
    {
      "cell_type": "markdown",
      "source": [
        "Cada elemento da lista é visto como uma variável, com o seu tipo de dados especifico. Desta forma, as operações vistas para Strings e Números podem ser aplicadas para elementos armazenados em listas que pertençam a um destes dois tipos de dados."
      ],
      "metadata": {
        "id": "fRXNYjU394QR"
      }
    },
    {
      "cell_type": "code",
      "source": [],
      "metadata": {
        "id": "0DOuPG94Xjk9"
      },
      "execution_count": null,
      "outputs": []
    },
    {
      "cell_type": "code",
      "source": [
        "lista_numeros = [1,2,3,4,5,6]\n",
        "print(lista_numeros[0] + lista_numeros[2])\n",
        "\n",
        "lista_letras = ['alfa', 'beta',]\n",
        "print(f'A letra é {lista_letras[0].upper()}')\n",
        "\n",
        "lista_var = [1,2,\"3\",4,5,6]\n",
        "print(type(lista_var[1]))"
      ],
      "metadata": {
        "id": "4K5YQ-s0-Hts",
        "colab": {
          "base_uri": "https://localhost:8080/"
        },
        "outputId": "1142de61-80b3-4f7a-b533-2ed1e9a3ed5d"
      },
      "execution_count": null,
      "outputs": [
        {
          "output_type": "stream",
          "name": "stdout",
          "text": [
            "4\n",
            "A letra é ALFA\n",
            "<class 'int'>\n"
          ]
        }
      ]
    },
    {
      "cell_type": "markdown",
      "source": [
        "## Atividade 1 - Listas\n",
        "\n",
        "a) Armazene os nomes de alguns de seus amigos em uma lista chamada nomes. Imprima o nome de cada pessoa acessando cada elemento da lista, um por vez.\n",
        "\n",
        "b) Comece com a lista que você usou no Exercício a), mas em vez de apenas imprimir o nome de cada pessoa, imprima uma mensagem para eles. O texto de cada mensagem deve ser o mesmo, mas cada mensagem deve ser personalizada com o nome da pessoa.\n",
        "\n",
        "c) Pense em seu meio de transporte favorito, como uma motocicleta ou um carro, e faça uma lista com vários exemplos. Use sua lista para imprimir uma série de afirmações sobre esses itens, a exemplo de “Gostaria de ter uma motocicleta Honda”."
      ],
      "metadata": {
        "id": "IL68bAoW-fN4"
      }
    },
    {
      "cell_type": "code",
      "source": [
        "#Execução da Atividade\n",
        "\n",
        "\n"
      ],
      "metadata": {
        "id": "fPe5gtYD-37I",
        "colab": {
          "base_uri": "https://localhost:8080/"
        },
        "outputId": "af76e5a5-f1d1-417b-e70a-694f3a8e6fdb"
      },
      "execution_count": null,
      "outputs": [
        {
          "output_type": "stream",
          "name": "stdout",
          "text": [
            "0 joao\n",
            "1 maria\n",
            "2 josé\n"
          ]
        }
      ]
    },
    {
      "cell_type": "markdown",
      "source": [
        "## 1.4.3 Alterando, adicionando e removendo Elementos de Listas\n",
        "\n",
        "As listas normalmente tem um caráter dinâmico, ou seja, permitem a adição de novos elementos ou a remoção de itens existentes. A sintaxe mais simples para se modificar um elemento é semelhante à sintaxe para acessar um elemento em uma lista.\n",
        "\n"
      ],
      "metadata": {
        "id": "OOqF1ust__Cz"
      }
    },
    {
      "cell_type": "code",
      "source": [
        "lista_teste = [1, 2, 3]\n",
        "lista_teste[2] = 52\n",
        "lista_teste"
      ],
      "metadata": {
        "id": "XQ0UekicJke8",
        "colab": {
          "base_uri": "https://localhost:8080/"
        },
        "outputId": "5dd4a722-6154-46fe-e17e-5c1cdb397a83"
      },
      "execution_count": null,
      "outputs": [
        {
          "output_type": "execute_result",
          "data": {
            "text/plain": [
              "[1, 2, 52]"
            ]
          },
          "metadata": {},
          "execution_count": 9
        }
      ]
    },
    {
      "cell_type": "markdown",
      "source": [
        "###Append\n",
        "A maneira padrão de adicionar um elemento a uma lista é anexá-lo ao final da lista utilizando o método `append`. É importante destacar que a chamada do método append altera o valor original da lista, diferentemente do que observamos com os métodos utilitários do tipo de dados string."
      ],
      "metadata": {
        "id": "sBs-a6m2JlG9"
      }
    },
    {
      "cell_type": "code",
      "source": [
        "#adiciona um elemento no final da lista\n",
        "lista_teste.append('ultimo')\n",
        "print(lista_teste)"
      ],
      "metadata": {
        "id": "I5oy7WJ__vAt",
        "colab": {
          "base_uri": "https://localhost:8080/"
        },
        "outputId": "b7d7949a-4c43-4242-c1d9-2d35a9c74dd8"
      },
      "execution_count": null,
      "outputs": [
        {
          "output_type": "stream",
          "name": "stdout",
          "text": [
            "[1, 2, 52, 'ultimo']\n"
          ]
        }
      ]
    },
    {
      "cell_type": "markdown",
      "source": [
        "###Insert\n",
        "Também é possível adicionar um novo elemento em uma posição específica da lista, indicada através do uso do método `insert() `associado ao valor da posição. Após a inserção, o elemento originalmente na posição informada é empurrado uma posição para a direita, mesmo comportamento aplicado aos elementos subsequentes."
      ],
      "metadata": {
        "id": "CCYutavOAwrp"
      }
    },
    {
      "cell_type": "code",
      "source": [
        "lista_nova = [1,2,3]\n",
        "lista_nova\n"
      ],
      "metadata": {
        "id": "byrEGq5y4iYp",
        "colab": {
          "base_uri": "https://localhost:8080/"
        },
        "outputId": "80cd0b26-69e1-4356-ad05-5613a652f0e7"
      },
      "execution_count": null,
      "outputs": [
        {
          "output_type": "execute_result",
          "data": {
            "text/plain": [
              "[1, 2, 3]"
            ]
          },
          "metadata": {},
          "execution_count": 11
        }
      ]
    },
    {
      "cell_type": "code",
      "source": [
        "lista_nova.insert(1,'novo_elemento')\n",
        "lista_nova"
      ],
      "metadata": {
        "id": "eIrdgPsj4zpk",
        "colab": {
          "base_uri": "https://localhost:8080/"
        },
        "outputId": "d56b8d36-b6c9-4672-8680-0439bc561089"
      },
      "execution_count": null,
      "outputs": [
        {
          "output_type": "execute_result",
          "data": {
            "text/plain": [
              "[1, 'novo_elemento', 2, 3]"
            ]
          },
          "metadata": {},
          "execution_count": 12
        }
      ]
    },
    {
      "cell_type": "markdown",
      "source": [
        "###Pop\n",
        "\n",
        "Se a inserção padrão de um elemento é feita ao final da lista, a remoção padrão, que utiliza o método `pop`, exclui também o elemento ao final, simulando a operação de uma estrutura de dados de pilha. É importante ressaltar que a chmada do método pop, além de remover o elemento, tem como retorno o seu valor."
      ],
      "metadata": {
        "id": "R41qkG12AVZl"
      }
    },
    {
      "cell_type": "code",
      "source": [
        "var = lista_nova.pop()\n",
        "print(var)\n",
        "lista_nova"
      ],
      "metadata": {
        "id": "6mjhiy_eB2JD",
        "colab": {
          "base_uri": "https://localhost:8080/"
        },
        "outputId": "54fd3e34-bcbf-4ab1-88a8-80ae05eae187"
      },
      "execution_count": null,
      "outputs": [
        {
          "output_type": "stream",
          "name": "stdout",
          "text": [
            "3\n"
          ]
        },
        {
          "output_type": "execute_result",
          "data": {
            "text/plain": [
              "[1, 'novo_elemento', 2]"
            ]
          },
          "metadata": {},
          "execution_count": 13
        }
      ]
    },
    {
      "cell_type": "markdown",
      "source": [
        "O comando pop também permite a remoção de um elemento em uma posição específica, a partir da indicação do seu índice."
      ],
      "metadata": {
        "id": "Z_HdIIrfCneI"
      }
    },
    {
      "cell_type": "code",
      "source": [
        "lista_nova.pop(1)"
      ],
      "metadata": {
        "id": "nLX9QgAcCzMU",
        "colab": {
          "base_uri": "https://localhost:8080/",
          "height": 35
        },
        "outputId": "f4c6bfe3-99a2-40de-a6f3-6842bd8b7088"
      },
      "execution_count": null,
      "outputs": [
        {
          "output_type": "execute_result",
          "data": {
            "text/plain": [
              "'novo_elemento'"
            ],
            "application/vnd.google.colaboratory.intrinsic+json": {
              "type": "string"
            }
          },
          "metadata": {},
          "execution_count": 23
        }
      ]
    },
    {
      "cell_type": "markdown",
      "source": [
        "###Del\n",
        "O comando `del` também é utilizado para remover um elemento em uma posição específica. Diferentemente dos métodos anteriores, a instrucão del não está associada especificamente ao tipo de dados lista, já que é um método utilitário do próprio python."
      ],
      "metadata": {
        "id": "clGgApNeCDVz"
      }
    },
    {
      "cell_type": "code",
      "source": [
        "del(lista_nova[1])\n",
        "lista_nova"
      ],
      "metadata": {
        "id": "cJ1ohaXGCY80",
        "colab": {
          "base_uri": "https://localhost:8080/"
        },
        "outputId": "039b5376-20d1-4cbd-dcd6-b69d756f96b6"
      },
      "execution_count": null,
      "outputs": [
        {
          "output_type": "execute_result",
          "data": {
            "text/plain": [
              "[1]"
            ]
          },
          "metadata": {},
          "execution_count": 24
        }
      ]
    },
    {
      "cell_type": "markdown",
      "source": [
        "###Remove\n",
        "Por fim, o uso de listas permite a remoção de um elemento a partir do valor armazenado. Para issso, utiliza-se o método `remove()`. É importante ressaltar que apenas um elemento é removido por chamada, desta forma, caso todas as ocorrências de um determinado valor devam ser removidas, o método remove deve ser chamado por quantas vezes o documento se repetir."
      ],
      "metadata": {
        "id": "nittO1KHDUta"
      }
    },
    {
      "cell_type": "code",
      "source": [
        "#Remove o primeiro item com o valor especificado\n",
        "lista_teste = [1,7,9,4,3,5,3]\n",
        "lista_teste.remove(3)\n",
        "lista_teste\n",
        "\n",
        "\n"
      ],
      "metadata": {
        "id": "-eGXun-yAVo3",
        "colab": {
          "base_uri": "https://localhost:8080/"
        },
        "outputId": "412a864e-426c-48f4-d607-31c3fb024591"
      },
      "execution_count": null,
      "outputs": [
        {
          "output_type": "execute_result",
          "data": {
            "text/plain": [
              "[1, 7, 9, 4, 5, 3]"
            ]
          },
          "metadata": {},
          "execution_count": 14
        }
      ]
    },
    {
      "cell_type": "markdown",
      "source": [
        "Caso deseje limpar uma lista, removendo todos os valores armazenados, utilize o método \"clear\"."
      ],
      "metadata": {
        "id": "T8YMmYETG7U6"
      }
    },
    {
      "cell_type": "code",
      "source": [
        "#Limpa a lista\n",
        "lista_teste.clear()\n",
        "print(lista_teste)\n",
        "\n"
      ],
      "metadata": {
        "id": "zjSblnDTynXW",
        "colab": {
          "base_uri": "https://localhost:8080/"
        },
        "outputId": "96bf16f3-d739-43d0-c15c-3cbe76328f95"
      },
      "execution_count": null,
      "outputs": [
        {
          "output_type": "stream",
          "name": "stdout",
          "text": [
            "[]\n"
          ]
        }
      ]
    },
    {
      "cell_type": "markdown",
      "source": [
        "## Atividade 2 - Listas Parte II\n",
        "\n",
        "a) Se você pudesse convidar qualquer pessoa, viva ou falecida, para jantar, quem você convidaria? Faça uma lista que inclua pelo menos três pessoas que você gostaria de convidar para jantar. Em seguida, use sua lista para imprimir uma mensagem para cada pessoa, convidando-a para jantar.\n",
        "\n",
        "b) Alteração da lista de convidados: você acabou de ouvir que um de seus convidados não pode comparecer ao jantar, então precisa enviar um novo conjunto de convites. Você terá que pensar em outra pessoa para convidar.\n",
        "\n",
        "*   Comece com seu programa do Exercício \"a\".\n",
        "*    Adicione uma chamada print() no final do seu programa, informando o nome do convidado que não pode comparecer\n",
        "* Modifique sua lista, substituindo o nome do convidado que não pode comparecer pelo nome da nova pessoa que você está convidando.\n",
        "* Imprima um segundo conjunto de mensagens de convite, uma para cada pessoa que ainda está em sua lista.\n",
        "\n",
        "c) Você acabou de encontrar uma mesa de jantar maior, então agora há mais espaço disponível. Pense em mais três pessoas para convidar para jantar.\n",
        "\n",
        "*   Comece com seu programa do Exercício \"a\" ou \"b\".\n",
        "*  Adicione uma chamada print() ao final do seu programa, informando às pessoas que você encontrou uma mesa maior.\n",
        "*  Use insert() para adicionar um novo convidado ao início de sua lista.\n",
        "*  Use insert() para adicionar um novo convidado ao meio de sua lista.\n",
        "* Use append() para adicionar um novo convidado ao final de sua lista.\n",
        "* Imprima um novo conjunto de mensagens de convite, uma para cada pessoa em sua lista.\n",
        "\n",
        "d) Você acabou de descobrir que sua nova mesa de jantar não chegará a tempo para o jantar e agora você tem espaço para apenas dois convidados.\n",
        "\n",
        "*  Comece com seu programa do \"c\"\n",
        "*  Adicione uma nova linha que imprima uma mensagem dizendo que você pode convidar apenas duas pessoas para jantar.\n",
        "* Use pop() para remover convidados de sua lista, um por vez, até que apenas dois nomes permaneçam em sua lista.\n",
        "* Cada vez que você tirar um nome de sua lista, imprima uma mensagem para essa pessoa informando que você lamenta não poder convidá-la para jantar.\n",
        "* Imprima uma mensagem para cada uma das duas pessoas ainda em sua lista, informando que ainda estão convidadas.\n",
        "* Use del para remover os dois últimos nomes de sua lista, para que você tenha uma lista vazia.\n",
        "* Imprima sua lista para ter certeza de que você realmente tem uma lista vazia no final do seu programa."
      ],
      "metadata": {
        "id": "FrBO_tF8EAza"
      }
    },
    {
      "cell_type": "code",
      "source": [
        "#Solução da Ativiade\n",
        "\n",
        "\n"
      ],
      "metadata": {
        "id": "U2uPNMJfHFjc"
      },
      "execution_count": null,
      "outputs": []
    },
    {
      "cell_type": "markdown",
      "source": [
        "## 1.4.4 Outras Operações sobre listas"
      ],
      "metadata": {
        "id": "nr79Li_DFPHT"
      }
    },
    {
      "cell_type": "code",
      "source": [
        "#Ordenar permanentemente uma lista em ordem crescente\n",
        "print('\\nOrdenar permanentemente uma lista em ordem crescente')\n",
        "ordenar_lista = ['maria', 'alberto', 'jose']\n",
        "ordenar_lista.sort()\n",
        "print(ordenar_lista)\n",
        "\n",
        "#Ordenar permanentemente uma lista em ordem decrescente\n",
        "print('\\nOrdenar permanentemente uma lista em ordem decrescente')\n",
        "ordenar_lista.sort(reverse=True)\n",
        "print(ordenar_lista)\n",
        "\n",
        "#Ordenar temporariamente uma lista  em ordem crescente\n",
        "print('\\nOrdenar temporariamente uma lista  em ordem crescente')\n",
        "ordenar_lista = ['maria', 'alberto', 'jose']\n",
        "print(sorted(ordenar_lista))\n",
        "print(ordenar_lista)\n",
        "\n",
        "\n",
        "#Ordenar temporariamente uma lista  em ordem decrescente\n",
        "print('\\nOrdenar temporariamente uma lista  em ordem decrescente')\n",
        "ordenar_lista = ['maria', 'alberto', 'jose']\n",
        "print(sorted(ordenar_lista, reverse = True))\n",
        "print(ordenar_lista)\n",
        "\n",
        "#Organizar uma lista em sua ordem reversa\n",
        "print('\\nOrganizar uma lista em sua ordem reversa')\n",
        "print(ordenar_lista)\n",
        "ordenar_lista.reverse()\n",
        "print(ordenar_lista)\n",
        "ordenar_lista.reverse()\n",
        "print(ordenar_lista)\n",
        "\n",
        "#Imprimir o tamanho de uma lista\n",
        "print('\\nImprimir o tamanho de uma lista')\n",
        "print(len(ordenar_lista))\n",
        "\n",
        "#Copiar uma lista\n",
        "nova_lista = ordenar_lista.copy()\n",
        "ordenar_lista.pop()\n",
        "print(nova_lista)\n",
        "print(ordenar_lista)\n"
      ],
      "metadata": {
        "id": "Uzv_mmGCFVOe",
        "colab": {
          "base_uri": "https://localhost:8080/"
        },
        "outputId": "400aadf5-2486-4ea1-ace0-1e80340d5ea9"
      },
      "execution_count": null,
      "outputs": [
        {
          "output_type": "stream",
          "name": "stdout",
          "text": [
            "\n",
            "Ordenar permanentemente uma lista em ordem crescente\n",
            "['alberto', 'jose', 'maria']\n",
            "\n",
            "Ordenar permanentemente uma lista em ordem decrescente\n",
            "['maria', 'jose', 'alberto']\n",
            "\n",
            "Ordenar temporariamente uma lista  em ordem crescente\n",
            "['alberto', 'jose', 'maria']\n",
            "['maria', 'alberto', 'jose']\n",
            "\n",
            "Ordenar temporariamente uma lista  em ordem decrescente\n",
            "['maria', 'jose', 'alberto']\n",
            "['maria', 'alberto', 'jose']\n",
            "\n",
            "Organizar uma lista em sua ordem reversa\n",
            "['maria', 'alberto', 'jose']\n",
            "['jose', 'alberto', 'maria']\n",
            "['maria', 'alberto', 'jose']\n",
            "\n",
            "Imprimir o tamanho de uma lista\n",
            "3\n",
            "['maria', 'alberto', 'jose']\n",
            "['maria', 'alberto']\n"
          ]
        }
      ]
    },
    {
      "cell_type": "markdown",
      "source": [
        "## Atividade 3 - Listas Parte III\n",
        "\n",
        "Pense em pelo menos cinco lugares no mundo que você gostaria de visitar.\n",
        "\n",
        "a) Armazene os locais em uma lista. Esteja certo que a lista **não está em ordem alfabética**.\n",
        "\n",
        "b) Imprima sua lista em sua ordem original. Não se preocupe em imprimir a lista ordenadamente; apenas imprima-o como uma lista Python bruta.\n",
        "\n",
        "c) Use sorted() para imprimir sua lista em ordem alfabética sem modificar a lista real.\n",
        "\n",
        "d) Mostre que sua lista ainda está em sua ordem original imprimindo-a.\n",
        "\n",
        "e) Use sorted() para imprimir sua lista em ordem alfabética reversa sem alterar a ordem da lista original.\n",
        "\n",
        "f) Mostre que sua lista ainda está em sua ordem original imprimindo-a novamente.\n",
        "\n",
        "g) Use reverse() para alterar a ordem da sua lista. Imprima a lista para mostrar que sua ordem foi alterada.\n",
        "\n",
        "h) Use reverse() para alterar a ordem de sua lista novamente. Imprima a lista para mostrar que está de volta à sua ordem original.\n",
        "\n",
        "i) Use sort() para alterar sua lista para que ela seja armazenada em ordem alfabética. Imprima a lista para mostrar que sua ordem foi alterada.\n",
        "\n",
        "j) Use sort() para alterar sua lista para que ela seja armazenada em ordem alfabética reversa. Imprima a lista para mostrar que sua ordem foi alterada."
      ],
      "metadata": {
        "id": "pXW4owx8HF5Q"
      }
    },
    {
      "cell_type": "code",
      "source": [
        "#Execução do Exercício"
      ],
      "metadata": {
        "id": "tuS1bp_4HKy6"
      },
      "execution_count": null,
      "outputs": []
    },
    {
      "cell_type": "markdown",
      "source": [
        "##1.4.5 Operações Matemáticas sobre listas\n",
        "\n",
        "O python provê algumas funções básicas que executam operações matemáticas sobre toda uma lista, no caso de lista composta apenas por números."
      ],
      "metadata": {
        "id": "UkXbgti7GouL"
      }
    },
    {
      "cell_type": "code",
      "source": [
        "lista_numerica = [0,1,2,3,4,5]\n",
        "\n",
        "print(min(lista_numerica))\n",
        "\n",
        "print(max(lista_numerica))\n",
        "\n",
        "print(sum(lista_numerica))"
      ],
      "metadata": {
        "id": "yG_eTHe1G5Vp",
        "colab": {
          "base_uri": "https://localhost:8080/"
        },
        "outputId": "92c265e6-69b2-4777-cf49-b017776e84d1"
      },
      "execution_count": null,
      "outputs": [
        {
          "output_type": "stream",
          "name": "stdout",
          "text": [
            "0\n",
            "5\n",
            "15\n"
          ]
        }
      ]
    },
    {
      "cell_type": "markdown",
      "source": [
        "## Atividade 4 - Listas Parte III\n",
        "\n",
        "Pense em pelo menos cinco lugares no mundo que você gostaria de visitar.\n",
        "\n",
        "a) Armazene os locais em uma lista. Esteja certo que a lista **não está em ordem alfabética**.\n",
        "\n",
        "b) Imprima sua lista em sua ordem original. Não se preocupe em imprimir a lista ordenadamente; apenas imprima-o como uma lista Python bruta.\n",
        "\n",
        "i) Use sort() para alterar sua lista para que ela seja armazenada em ordem alfabética. Imprima a lista para mostrar que sua ordem foi alterada.\n",
        "\n",
        "j) Use sort() para alterar sua lista para que ela seja armazenada em ordem alfabética reversa. Imprima a lista para mostrar que sua ordem foi alterada.\n",
        "\n",
        "x) remova o ultimo elemento da lista"
      ],
      "metadata": {
        "id": "Ot01193avpvi"
      }
    },
    {
      "cell_type": "code",
      "source": [
        "lista = ['egito', 'dubai', 'japao', 'australia', 'africa do sul']\n",
        "print(lista)\n",
        "lista.sort()\n",
        "print(lista)\n",
        "lista.reverse()\n",
        "print(lista)\n",
        "lista.pop()"
      ],
      "metadata": {
        "colab": {
          "base_uri": "https://localhost:8080/",
          "height": 89
        },
        "id": "R5SXu_wLx-oT",
        "outputId": "70d282a2-c3b6-4166-daf1-818e9138f3a7"
      },
      "execution_count": null,
      "outputs": [
        {
          "output_type": "stream",
          "name": "stdout",
          "text": [
            "['egito', 'dubai', 'japao', 'australia', 'africa do sul']\n",
            "['africa do sul', 'australia', 'dubai', 'egito', 'japao']\n",
            "['japao', 'egito', 'dubai', 'australia', 'africa do sul']\n"
          ]
        },
        {
          "output_type": "execute_result",
          "data": {
            "text/plain": [
              "'africa do sul'"
            ],
            "application/vnd.google.colaboratory.intrinsic+json": {
              "type": "string"
            }
          },
          "metadata": {},
          "execution_count": 18
        }
      ]
    },
    {
      "cell_type": "markdown",
      "source": [
        "#1.5. Tuplas\n",
        "\n",
        "Listas funcionam bem para armazenar coleções de itens que podem mudar ao longo da vida de um programa, no entanto, às vezes é necessário criar uma lista de itens que não podem ser alterados, momento em que é mais adequado utilizar Tuplas.\n",
        "\n",
        "Na prática, tuplas são listas compostas de elementos  imutáveis. A sua instanciação utiliza parênteses ao invés de colchetes.\n"
      ],
      "metadata": {
        "id": "9LMIqKXnJj3A"
      }
    },
    {
      "cell_type": "code",
      "source": [
        "minha_tupla = (1,2,3)\n",
        "print(minha_tupla)\n",
        "\n",
        "#tuplas não permitem alteração\n",
        "minha_tupla[2] = 23"
      ],
      "metadata": {
        "id": "yqMnqf7nKN70",
        "colab": {
          "base_uri": "https://localhost:8080/",
          "height": 231
        },
        "outputId": "31d442ce-ade0-471d-ff53-8af37938e1b7"
      },
      "execution_count": null,
      "outputs": [
        {
          "output_type": "stream",
          "name": "stdout",
          "text": [
            "(1, 2, 3)\n"
          ]
        },
        {
          "output_type": "error",
          "ename": "TypeError",
          "evalue": "ignored",
          "traceback": [
            "\u001b[0;31m---------------------------------------------------------------------------\u001b[0m",
            "\u001b[0;31mTypeError\u001b[0m                                 Traceback (most recent call last)",
            "\u001b[0;32m<ipython-input-31-2b2bbb820fa1>\u001b[0m in \u001b[0;36m<cell line: 5>\u001b[0;34m()\u001b[0m\n\u001b[1;32m      3\u001b[0m \u001b[0;34m\u001b[0m\u001b[0m\n\u001b[1;32m      4\u001b[0m \u001b[0;31m#tuplas não permitem alteração\u001b[0m\u001b[0;34m\u001b[0m\u001b[0;34m\u001b[0m\u001b[0m\n\u001b[0;32m----> 5\u001b[0;31m \u001b[0mminha_tupla\u001b[0m\u001b[0;34m[\u001b[0m\u001b[0;36m2\u001b[0m\u001b[0;34m]\u001b[0m \u001b[0;34m=\u001b[0m \u001b[0;36m23\u001b[0m\u001b[0;34m\u001b[0m\u001b[0;34m\u001b[0m\u001b[0m\n\u001b[0m",
            "\u001b[0;31mTypeError\u001b[0m: 'tuple' object does not support item assignment"
          ]
        }
      ]
    },
    {
      "cell_type": "markdown",
      "source": [
        "Apesar de não permitir a alteração, um novo valor pode ser associado a uma tupla originalmente já referenciada."
      ],
      "metadata": {
        "id": "YuZBs-fMHQZ1"
      }
    },
    {
      "cell_type": "code",
      "source": [
        "tupla_1 = (1,2,3)\n",
        "print(tupla_1)\n",
        "\n",
        "\n",
        "tupla_1 = (4,5,6, 8)\n",
        "print(tupla_1)"
      ],
      "metadata": {
        "id": "CAowfVw_HYfG"
      },
      "execution_count": null,
      "outputs": []
    },
    {
      "cell_type": "markdown",
      "source": [
        "# 1.6. Dicionários\n",
        "\n",
        "Um estrutura de dados de dicionário em Python é um conjunto de pares de valor-chave. Desta forma, cada chave (key) é conectada e é utilizada para recuperar um determinado um valor dentro da estrutura. O valor, por sua vez, pode assumir diferentes tipos de dados, a exemplo de um número, uma lista, uma palavra ou até mesmo outro dicionário,\n",
        "\n",
        "Um dicionário (dict) em python é instanciado utilizando-se parênteses e chaves - ({})"
      ],
      "metadata": {
        "id": "ssRblXkCLVao"
      }
    },
    {
      "cell_type": "code",
      "source": [
        "novo_dicionario = ({\"key_1\": \"{'nome':'Joao'}\", \"key_2\": \"valor_2\"})\n",
        "print(novo_dicionario)"
      ],
      "metadata": {
        "id": "a0lQDHTaMH2F",
        "colab": {
          "base_uri": "https://localhost:8080/"
        },
        "outputId": "f7dba81a-0742-4096-92d4-0e61477ba01d"
      },
      "execution_count": null,
      "outputs": [
        {
          "output_type": "stream",
          "name": "stdout",
          "text": [
            "{'key_1': \"{'nome':'Joao'}\", 'key_2': 'valor_2'}\n"
          ]
        }
      ]
    },
    {
      "cell_type": "markdown",
      "source": [
        "Pares chave valor podem ser acessados em um dicionário através do uso da chave entre colchetes."
      ],
      "metadata": {
        "id": "UTK65E46MWUT"
      }
    },
    {
      "cell_type": "code",
      "source": [
        "novo_dicionario[\"key_1\"]"
      ],
      "metadata": {
        "id": "t4QEK4aGMWka",
        "colab": {
          "base_uri": "https://localhost:8080/",
          "height": 35
        },
        "outputId": "b81f6691-d66f-4bc3-ad26-e425e87a960f"
      },
      "execution_count": null,
      "outputs": [
        {
          "output_type": "execute_result",
          "data": {
            "text/plain": [
              "\"{'nome':'Joao'}\""
            ],
            "application/vnd.google.colaboratory.intrinsic+json": {
              "type": "string"
            }
          },
          "metadata": {},
          "execution_count": 20
        }
      ]
    },
    {
      "cell_type": "markdown",
      "source": [
        "O problema em se utilizar este método acontece quando se tenta recuperar uma chave que não existe no dicionário."
      ],
      "metadata": {
        "id": "q1_E-Rg7Vobe"
      }
    },
    {
      "cell_type": "code",
      "source": [
        "novo_dicionario[\"key_10\"]"
      ],
      "metadata": {
        "id": "cIMabOyWVmkv",
        "colab": {
          "base_uri": "https://localhost:8080/",
          "height": 214
        },
        "outputId": "16a268aa-77a9-47a3-a004-e5c79f77e39d"
      },
      "execution_count": null,
      "outputs": [
        {
          "output_type": "error",
          "ename": "KeyError",
          "evalue": "ignored",
          "traceback": [
            "\u001b[0;31m---------------------------------------------------------------------------\u001b[0m",
            "\u001b[0;31mKeyError\u001b[0m                                  Traceback (most recent call last)",
            "\u001b[0;32m<ipython-input-21-b99dcb157ed9>\u001b[0m in \u001b[0;36m<cell line: 1>\u001b[0;34m()\u001b[0m\n\u001b[0;32m----> 1\u001b[0;31m \u001b[0mnovo_dicionario\u001b[0m\u001b[0;34m[\u001b[0m\u001b[0;34m\"key_10\"\u001b[0m\u001b[0;34m]\u001b[0m\u001b[0;34m\u001b[0m\u001b[0;34m\u001b[0m\u001b[0m\n\u001b[0m",
            "\u001b[0;31mKeyError\u001b[0m: 'key_10'"
          ]
        }
      ]
    },
    {
      "cell_type": "markdown",
      "source": [
        "Uma forma alternativa de recuperar um elemento é utilizando método `get`. Quando da utilização desta estratégia, um erro não é apresentado quando uma chave inexistente é informada."
      ],
      "metadata": {
        "id": "ZngzJerDVk5o"
      }
    },
    {
      "cell_type": "code",
      "source": [
        "novo_dicionario.get(\"key_1\")"
      ],
      "metadata": {
        "id": "SlvY24I-V02I",
        "colab": {
          "base_uri": "https://localhost:8080/",
          "height": 35
        },
        "outputId": "863fa183-b2f8-42e5-845c-58bf6c5733c6"
      },
      "execution_count": null,
      "outputs": [
        {
          "output_type": "execute_result",
          "data": {
            "text/plain": [
              "\"{'nome':'Joao'}\""
            ],
            "application/vnd.google.colaboratory.intrinsic+json": {
              "type": "string"
            }
          },
          "metadata": {},
          "execution_count": 22
        }
      ]
    },
    {
      "cell_type": "code",
      "source": [
        "novo_dicionario.get(\"key_10\")"
      ],
      "metadata": {
        "id": "EyK684Ey1FGN"
      },
      "execution_count": null,
      "outputs": []
    },
    {
      "cell_type": "markdown",
      "source": [
        "O método permite, ainda, informar um valor de retorno para os casos onde a chave não é encontrada."
      ],
      "metadata": {
        "id": "kvjFHUNqV_25"
      }
    },
    {
      "cell_type": "code",
      "source": [
        "novo_dicionario.get(\"key_1\", 'Nao encontrado')"
      ],
      "metadata": {
        "id": "hXjEdi1VV_R-",
        "colab": {
          "base_uri": "https://localhost:8080/",
          "height": 35
        },
        "outputId": "ba39fc7c-98e8-4d41-e9ba-6bdb1161a903"
      },
      "execution_count": null,
      "outputs": [
        {
          "output_type": "execute_result",
          "data": {
            "text/plain": [
              "\"{'nome':'Joao'}\""
            ],
            "application/vnd.google.colaboratory.intrinsic+json": {
              "type": "string"
            }
          },
          "metadata": {},
          "execution_count": 24
        }
      ]
    },
    {
      "cell_type": "code",
      "source": [
        "novo_dicionario.get(\"key_10\", '0')"
      ],
      "metadata": {
        "colab": {
          "base_uri": "https://localhost:8080/",
          "height": 35
        },
        "id": "8pUsGaGKLEAy",
        "outputId": "f10fa074-19ec-4f10-db0e-7de659cf1ace"
      },
      "execution_count": null,
      "outputs": [
        {
          "output_type": "execute_result",
          "data": {
            "text/plain": [
              "'0'"
            ],
            "application/vnd.google.colaboratory.intrinsic+json": {
              "type": "string"
            }
          },
          "metadata": {},
          "execution_count": 26
        }
      ]
    },
    {
      "cell_type": "markdown",
      "source": [
        "Dicionários são estruturas dinâmicas que permitem a adição de novos conjuntos chave-valor. Para adicionar um novo par, basta informar o valor da nova chave entre colchetes, juntamente com a associação do novo valor."
      ],
      "metadata": {
        "id": "wbUBOeXyMmre"
      }
    },
    {
      "cell_type": "code",
      "source": [
        "novo_dicionario[\"key_3\"] = \"valor_3\"\n",
        "novo_dicionario"
      ],
      "metadata": {
        "id": "3X_RuvNmMnmO",
        "colab": {
          "base_uri": "https://localhost:8080/"
        },
        "outputId": "3699b762-5861-4800-b02e-13944562c713"
      },
      "execution_count": null,
      "outputs": [
        {
          "output_type": "execute_result",
          "data": {
            "text/plain": [
              "{'key_1': \"{'nome':'Joao'}\", 'key_2': 'valor_2', 'key_3': 'valor_3'}"
            ]
          },
          "metadata": {},
          "execution_count": 27
        }
      ]
    },
    {
      "cell_type": "markdown",
      "source": [
        "Da mesma forma, é possível alterar o valor de uma chave já existente no dicionário."
      ],
      "metadata": {
        "id": "kpF-ZEK8U3a_"
      }
    },
    {
      "cell_type": "code",
      "source": [
        "novo_dicionario[\"key_1\"] = \"novo_valor\"\n",
        "novo_dicionario"
      ],
      "metadata": {
        "id": "7PqcXf8rU-hp",
        "colab": {
          "base_uri": "https://localhost:8080/"
        },
        "outputId": "72d3f7a1-a78b-4ced-9a46-1902ca9f902d"
      },
      "execution_count": null,
      "outputs": [
        {
          "output_type": "execute_result",
          "data": {
            "text/plain": [
              "{'key_1': 'novo_valor', 'key_2': 'valor_2', 'key_3': 'valor_3'}"
            ]
          },
          "metadata": {},
          "execution_count": 28
        }
      ]
    },
    {
      "cell_type": "markdown",
      "source": [
        "Assim como nas listas, é possível remover um par chave valor de um dicionário usando o método del"
      ],
      "metadata": {
        "id": "3_XyeieMVJCP"
      }
    },
    {
      "cell_type": "code",
      "source": [
        "del(novo_dicionario[\"key_1\"])\n",
        "novo_dicionario"
      ],
      "metadata": {
        "id": "id7NXMmCVO-2",
        "colab": {
          "base_uri": "https://localhost:8080/"
        },
        "outputId": "82657081-1696-485b-9098-94c502549704"
      },
      "execution_count": null,
      "outputs": [
        {
          "output_type": "execute_result",
          "data": {
            "text/plain": [
              "{'key_2': 'valor_2', 'key_3': 'valor_3'}"
            ]
          },
          "metadata": {},
          "execution_count": 29
        }
      ]
    },
    {
      "cell_type": "markdown",
      "source": [
        "Também é possível listar apenas os valores das chaves ou dos valores, como listas."
      ],
      "metadata": {
        "id": "S5iHQoY8aoKT"
      }
    },
    {
      "cell_type": "code",
      "source": [
        "print(novo_dicionario.keys())\n",
        "\n",
        "print(novo_dicionario.values())"
      ],
      "metadata": {
        "id": "tMr_tmE-aoXi",
        "colab": {
          "base_uri": "https://localhost:8080/"
        },
        "outputId": "d6a7328d-b270-46b5-9c05-0dde04f34f81"
      },
      "execution_count": null,
      "outputs": [
        {
          "output_type": "stream",
          "name": "stdout",
          "text": [
            "dict_keys(['key_2', 'key_3'])\n",
            "dict_values(['valor_2', 'valor_3'])\n"
          ]
        }
      ]
    }
  ]
}